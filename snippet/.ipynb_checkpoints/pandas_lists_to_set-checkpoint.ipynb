{
 "cells": [
  {
   "cell_type": "code",
   "execution_count": 1,
   "id": "1835d99d-1612-4e00-b119-816fbf08b450",
   "metadata": {},
   "outputs": [],
   "source": [
    "import pandas as pd"
   ]
  },
  {
   "cell_type": "code",
   "execution_count": 14,
   "id": "17bc0900-456f-4f75-bf8d-4016097d2b5c",
   "metadata": {},
   "outputs": [],
   "source": [
    "#Create a list of user name, and their favorite foods.\n",
    "#The list for each user can go across multiple rows.\n",
    "users = ['bart', 'bart', 'lisa', 'lisa', 'homer', 'homer', 'marge', 'maggie']\n",
    "favfood = [['gum', 'chicken', 'ice cream'], ['kit kat', 'peanut butter'],\n",
    "           ['broccoli', 'cucumber', 'ice cream'], ['salad', 'beets', 'spaghetti'],\n",
    "           ['donut', 'doh beer', 'chicken'], ['cake', 'kit kat'],\n",
    "           ['broccoli', 'spaghetti', 'pineapple'],\n",
    "           ['milk', 'ice cream', 'apple sauce']]"
   ]
  },
  {
   "cell_type": "code",
   "execution_count": 15,
   "id": "b4171782-3c14-4f1d-a470-3c7f4f4d89ee",
   "metadata": {},
   "outputs": [],
   "source": [
    "df = pd.DataFrame({'user': users, 'favfood': favfood})"
   ]
  },
  {
   "cell_type": "code",
   "execution_count": 16,
   "id": "35be15c1-7301-478e-9d23-4b1b54267daf",
   "metadata": {},
   "outputs": [
    {
     "data": {
      "text/html": [
       "<div>\n",
       "<style scoped>\n",
       "    .dataframe tbody tr th:only-of-type {\n",
       "        vertical-align: middle;\n",
       "    }\n",
       "\n",
       "    .dataframe tbody tr th {\n",
       "        vertical-align: top;\n",
       "    }\n",
       "\n",
       "    .dataframe thead th {\n",
       "        text-align: right;\n",
       "    }\n",
       "</style>\n",
       "<table border=\"1\" class=\"dataframe\">\n",
       "  <thead>\n",
       "    <tr style=\"text-align: right;\">\n",
       "      <th></th>\n",
       "      <th>user</th>\n",
       "      <th>favfood</th>\n",
       "    </tr>\n",
       "  </thead>\n",
       "  <tbody>\n",
       "    <tr>\n",
       "      <th>0</th>\n",
       "      <td>bart</td>\n",
       "      <td>[gum, chicken, ice cream]</td>\n",
       "    </tr>\n",
       "    <tr>\n",
       "      <th>1</th>\n",
       "      <td>bart</td>\n",
       "      <td>[kit kat, peanut butter]</td>\n",
       "    </tr>\n",
       "    <tr>\n",
       "      <th>2</th>\n",
       "      <td>lisa</td>\n",
       "      <td>[broccoli, cucumber, ice cream]</td>\n",
       "    </tr>\n",
       "    <tr>\n",
       "      <th>3</th>\n",
       "      <td>lisa</td>\n",
       "      <td>[salad, beets, spaghetti]</td>\n",
       "    </tr>\n",
       "    <tr>\n",
       "      <th>4</th>\n",
       "      <td>homer</td>\n",
       "      <td>[donut, doh beer, chicken]</td>\n",
       "    </tr>\n",
       "    <tr>\n",
       "      <th>5</th>\n",
       "      <td>homer</td>\n",
       "      <td>[cake, kit kat]</td>\n",
       "    </tr>\n",
       "    <tr>\n",
       "      <th>6</th>\n",
       "      <td>marge</td>\n",
       "      <td>[broccoli, spaghetti, pineapple]</td>\n",
       "    </tr>\n",
       "    <tr>\n",
       "      <th>7</th>\n",
       "      <td>maggie</td>\n",
       "      <td>[milk, ice cream, apple sauce]</td>\n",
       "    </tr>\n",
       "  </tbody>\n",
       "</table>\n",
       "</div>"
      ],
      "text/plain": [
       "     user                           favfood\n",
       "0    bart         [gum, chicken, ice cream]\n",
       "1    bart          [kit kat, peanut butter]\n",
       "2    lisa   [broccoli, cucumber, ice cream]\n",
       "3    lisa         [salad, beets, spaghetti]\n",
       "4   homer        [donut, doh beer, chicken]\n",
       "5   homer                   [cake, kit kat]\n",
       "6   marge  [broccoli, spaghetti, pineapple]\n",
       "7  maggie    [milk, ice cream, apple sauce]"
      ]
     },
     "execution_count": 16,
     "metadata": {},
     "output_type": "execute_result"
    }
   ],
   "source": [
    "df.head(10)"
   ]
  },
  {
   "cell_type": "code",
   "execution_count": 18,
   "id": "b6cf9816-7e47-45fb-9217-a61fbd1783a8",
   "metadata": {},
   "outputs": [],
   "source": [
    "#Now, I want to group together, the list of foods that each user likes, as a set\n",
    "from functools import reduce      # If you're on Py3k"
   ]
  },
  {
   "cell_type": "code",
   "execution_count": 22,
   "id": "3f6882b4-4d82-4f5a-bd9c-48e069a43b91",
   "metadata": {},
   "outputs": [],
   "source": [
    "df['favfoodset'] = df['favfood'].apply(set)"
   ]
  },
  {
   "cell_type": "code",
   "execution_count": 23,
   "id": "726af693-54fb-4501-8d1a-3fea6184a082",
   "metadata": {},
   "outputs": [
    {
     "data": {
      "text/html": [
       "<div>\n",
       "<style scoped>\n",
       "    .dataframe tbody tr th:only-of-type {\n",
       "        vertical-align: middle;\n",
       "    }\n",
       "\n",
       "    .dataframe tbody tr th {\n",
       "        vertical-align: top;\n",
       "    }\n",
       "\n",
       "    .dataframe thead th {\n",
       "        text-align: right;\n",
       "    }\n",
       "</style>\n",
       "<table border=\"1\" class=\"dataframe\">\n",
       "  <thead>\n",
       "    <tr style=\"text-align: right;\">\n",
       "      <th></th>\n",
       "      <th>user</th>\n",
       "      <th>favfood</th>\n",
       "      <th>favfoodset</th>\n",
       "    </tr>\n",
       "  </thead>\n",
       "  <tbody>\n",
       "    <tr>\n",
       "      <th>0</th>\n",
       "      <td>bart</td>\n",
       "      <td>[gum, chicken, ice cream]</td>\n",
       "      <td>{chicken, ice cream, gum}</td>\n",
       "    </tr>\n",
       "    <tr>\n",
       "      <th>1</th>\n",
       "      <td>bart</td>\n",
       "      <td>[kit kat, peanut butter]</td>\n",
       "      <td>{kit kat, peanut butter}</td>\n",
       "    </tr>\n",
       "    <tr>\n",
       "      <th>2</th>\n",
       "      <td>lisa</td>\n",
       "      <td>[broccoli, cucumber, ice cream]</td>\n",
       "      <td>{ice cream, broccoli, cucumber}</td>\n",
       "    </tr>\n",
       "    <tr>\n",
       "      <th>3</th>\n",
       "      <td>lisa</td>\n",
       "      <td>[salad, beets, spaghetti]</td>\n",
       "      <td>{spaghetti, beets, salad}</td>\n",
       "    </tr>\n",
       "    <tr>\n",
       "      <th>4</th>\n",
       "      <td>homer</td>\n",
       "      <td>[donut, doh beer, chicken]</td>\n",
       "      <td>{chicken, donut, doh beer}</td>\n",
       "    </tr>\n",
       "  </tbody>\n",
       "</table>\n",
       "</div>"
      ],
      "text/plain": [
       "    user                          favfood                       favfoodset\n",
       "0   bart        [gum, chicken, ice cream]        {chicken, ice cream, gum}\n",
       "1   bart         [kit kat, peanut butter]         {kit kat, peanut butter}\n",
       "2   lisa  [broccoli, cucumber, ice cream]  {ice cream, broccoli, cucumber}\n",
       "3   lisa        [salad, beets, spaghetti]        {spaghetti, beets, salad}\n",
       "4  homer       [donut, doh beer, chicken]       {chicken, donut, doh beer}"
      ]
     },
     "execution_count": 23,
     "metadata": {},
     "output_type": "execute_result"
    }
   ],
   "source": [
    "df.head()"
   ]
  },
  {
   "cell_type": "code",
   "execution_count": 27,
   "id": "91c5768f-5bd0-4049-8ab8-56858411ef58",
   "metadata": {},
   "outputs": [
    {
     "data": {
      "text/plain": [
       "{'apple sauce',\n",
       " 'beets',\n",
       " 'broccoli',\n",
       " 'cake',\n",
       " 'chicken',\n",
       " 'cucumber',\n",
       " 'doh beer',\n",
       " 'donut',\n",
       " 'gum',\n",
       " 'ice cream',\n",
       " 'kit kat',\n",
       " 'milk',\n",
       " 'peanut butter',\n",
       " 'pineapple',\n",
       " 'salad',\n",
       " 'spaghetti'}"
      ]
     },
     "execution_count": 27,
     "metadata": {},
     "output_type": "execute_result"
    }
   ],
   "source": [
    "reduce(set.union, df['favfoodset'].tolist())"
   ]
  },
  {
   "cell_type": "code",
   "execution_count": 36,
   "id": "961ceeb9-6115-4e52-bc5f-528c53a34c26",
   "metadata": {},
   "outputs": [],
   "source": [
    "grouped = df.groupby(['user'])\n",
    "my_lambda = lambda x: reduce(set.union, x)\n",
    "output = grouped.aggregate({'favfoodset': my_lambda})"
   ]
  },
  {
   "cell_type": "code",
   "execution_count": 34,
   "id": "bf326589-5a4f-40f9-9318-c3e5cfd52411",
   "metadata": {},
   "outputs": [
    {
     "data": {
      "text/html": [
       "<div>\n",
       "<style scoped>\n",
       "    .dataframe tbody tr th:only-of-type {\n",
       "        vertical-align: middle;\n",
       "    }\n",
       "\n",
       "    .dataframe tbody tr th {\n",
       "        vertical-align: top;\n",
       "    }\n",
       "\n",
       "    .dataframe thead th {\n",
       "        text-align: right;\n",
       "    }\n",
       "</style>\n",
       "<table border=\"1\" class=\"dataframe\">\n",
       "  <thead>\n",
       "    <tr style=\"text-align: right;\">\n",
       "      <th></th>\n",
       "      <th>favfoodset</th>\n",
       "    </tr>\n",
       "    <tr>\n",
       "      <th>user</th>\n",
       "      <th></th>\n",
       "    </tr>\n",
       "  </thead>\n",
       "  <tbody>\n",
       "    <tr>\n",
       "      <th>bart</th>\n",
       "      <td>{kit kat, ice cream, chicken, peanut butter, gum}</td>\n",
       "    </tr>\n",
       "    <tr>\n",
       "      <th>homer</th>\n",
       "      <td>{kit kat, cake, chicken, donut, doh beer}</td>\n",
       "    </tr>\n",
       "    <tr>\n",
       "      <th>lisa</th>\n",
       "      <td>{ice cream, spaghetti, broccoli, beets, salad,...</td>\n",
       "    </tr>\n",
       "    <tr>\n",
       "      <th>maggie</th>\n",
       "      <td>{apple sauce, ice cream, milk}</td>\n",
       "    </tr>\n",
       "    <tr>\n",
       "      <th>marge</th>\n",
       "      <td>{pineapple, spaghetti, broccoli}</td>\n",
       "    </tr>\n",
       "  </tbody>\n",
       "</table>\n",
       "</div>"
      ],
      "text/plain": [
       "                                               favfoodset\n",
       "user                                                     \n",
       "bart    {kit kat, ice cream, chicken, peanut butter, gum}\n",
       "homer           {kit kat, cake, chicken, donut, doh beer}\n",
       "lisa    {ice cream, spaghetti, broccoli, beets, salad,...\n",
       "maggie                     {apple sauce, ice cream, milk}\n",
       "marge                    {pineapple, spaghetti, broccoli}"
      ]
     },
     "execution_count": 34,
     "metadata": {},
     "output_type": "execute_result"
    }
   ],
   "source": [
    "output"
   ]
  },
  {
   "cell_type": "code",
   "execution_count": null,
   "id": "12bd928a-2051-493a-b14b-6cfec020ecb4",
   "metadata": {},
   "outputs": [],
   "source": []
  },
  {
   "cell_type": "code",
   "execution_count": null,
   "id": "15eeea7e-8dc8-4bb3-8f8f-40032174da5c",
   "metadata": {},
   "outputs": [],
   "source": []
  }
 ],
 "metadata": {
  "kernelspec": {
   "display_name": "Python 3 (ipykernel)",
   "language": "python",
   "name": "python3"
  },
  "language_info": {
   "codemirror_mode": {
    "name": "ipython",
    "version": 3
   },
   "file_extension": ".py",
   "mimetype": "text/x-python",
   "name": "python",
   "nbconvert_exporter": "python",
   "pygments_lexer": "ipython3",
   "version": "3.8.2"
  }
 },
 "nbformat": 4,
 "nbformat_minor": 5
}
