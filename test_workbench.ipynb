{
 "cells": [
  {
   "cell_type": "code",
   "execution_count": 1,
   "id": "8f8e8002-f2c1-457c-832a-980ea8854b1e",
   "metadata": {
    "execution": {
     "iopub.execute_input": "2024-02-19T18:53:51.701375Z",
     "iopub.status.busy": "2024-02-19T18:53:51.700687Z",
     "iopub.status.idle": "2024-02-19T18:53:51.708099Z",
     "shell.execute_reply": "2024-02-19T18:53:51.707565Z",
     "shell.execute_reply.started": "2024-02-19T18:53:51.701338Z"
    }
   },
   "outputs": [
    {
     "name": "stdout",
     "output_type": "stream",
     "text": [
      "test from workbench\n"
     ]
    }
   ],
   "source": [
    "print('test from workbench')"
   ]
  },
  {
   "cell_type": "code",
   "execution_count": null,
   "id": "eab02f8b-f951-4c64-b301-a6b471e9f718",
   "metadata": {},
   "outputs": [],
   "source": []
  }
 ],
 "metadata": {
  "kernelspec": {
   "display_name": "Python 3.10 (recommended)",
   "language": "python",
   "name": "python310"
  },
  "language_info": {
   "codemirror_mode": {
    "name": "ipython",
    "version": 3
   },
   "file_extension": ".py",
   "mimetype": "text/x-python",
   "name": "python",
   "nbconvert_exporter": "python",
   "pygments_lexer": "ipython3",
   "version": "3.10.13"
  },
  "widgets": {
   "application/vnd.jupyter.widget-state+json": {
    "state": {},
    "version_major": 2,
    "version_minor": 0
   }
  }
 },
 "nbformat": 4,
 "nbformat_minor": 5
}
