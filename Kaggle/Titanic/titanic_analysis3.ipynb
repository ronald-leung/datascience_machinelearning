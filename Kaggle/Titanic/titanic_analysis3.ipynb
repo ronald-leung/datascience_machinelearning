{
 "cells": [
  {
   "attachments": {},
   "cell_type": "markdown",
   "metadata": {},
   "source": [
    "# Kaggle Titanic Competition\n",
    "\n",
    "This notebook uses the Titanic sample dataset to go through a few standard data science / machine learning steps. The goal of this example is to provide a standard set of steps that can be used across many different use cases.\n",
    "We will apply the CRISP-DM process of:\n",
    "\n",
    "- Business Understanding\n",
    "- Data Understanding\n",
    "- Data Preparation\n",
    "- Modeling\n",
    "- Evaluation\n",
    "- Deployment"
   ]
  },
  {
   "attachments": {},
   "cell_type": "markdown",
   "metadata": {},
   "source": [
    "### 1. Business Understanding:\n",
    "The goal is simple for this exercise; It is to figure out how to accurately predict the survival rate of the Titanic passengers\n",
    "### 2. Data Understanding: \n",
    "Let's load the data and take a quick glance of all the columns"
   ]
  },
  {
   "cell_type": "code",
   "execution_count": 1,
   "metadata": {
    "execution": {
     "iopub.execute_input": "2024-02-19T19:12:55.895549Z",
     "iopub.status.busy": "2024-02-19T19:12:55.895063Z",
     "iopub.status.idle": "2024-02-19T19:12:56.290580Z",
     "shell.execute_reply": "2024-02-19T19:12:56.289797Z",
     "shell.execute_reply.started": "2024-02-19T19:12:55.895515Z"
    }
   },
   "outputs": [
    {
     "data": {
      "text/html": [
       "<div>\n",
       "<style scoped>\n",
       "    .dataframe tbody tr th:only-of-type {\n",
       "        vertical-align: middle;\n",
       "    }\n",
       "\n",
       "    .dataframe tbody tr th {\n",
       "        vertical-align: top;\n",
       "    }\n",
       "\n",
       "    .dataframe thead th {\n",
       "        text-align: right;\n",
       "    }\n",
       "</style>\n",
       "<table border=\"1\" class=\"dataframe\">\n",
       "  <thead>\n",
       "    <tr style=\"text-align: right;\">\n",
       "      <th></th>\n",
       "      <th>PassengerId</th>\n",
       "      <th>Survived</th>\n",
       "      <th>Pclass</th>\n",
       "      <th>Name</th>\n",
       "      <th>Sex</th>\n",
       "      <th>Age</th>\n",
       "      <th>SibSp</th>\n",
       "      <th>Parch</th>\n",
       "      <th>Ticket</th>\n",
       "      <th>Fare</th>\n",
       "      <th>Cabin</th>\n",
       "      <th>Embarked</th>\n",
       "    </tr>\n",
       "  </thead>\n",
       "  <tbody>\n",
       "    <tr>\n",
       "      <th>0</th>\n",
       "      <td>1</td>\n",
       "      <td>0</td>\n",
       "      <td>3</td>\n",
       "      <td>Braund, Mr. Owen Harris</td>\n",
       "      <td>male</td>\n",
       "      <td>22.0</td>\n",
       "      <td>1</td>\n",
       "      <td>0</td>\n",
       "      <td>A/5 21171</td>\n",
       "      <td>7.2500</td>\n",
       "      <td>NaN</td>\n",
       "      <td>S</td>\n",
       "    </tr>\n",
       "    <tr>\n",
       "      <th>1</th>\n",
       "      <td>2</td>\n",
       "      <td>1</td>\n",
       "      <td>1</td>\n",
       "      <td>Cumings, Mrs. John Bradley (Florence Briggs Th...</td>\n",
       "      <td>female</td>\n",
       "      <td>38.0</td>\n",
       "      <td>1</td>\n",
       "      <td>0</td>\n",
       "      <td>PC 17599</td>\n",
       "      <td>71.2833</td>\n",
       "      <td>C85</td>\n",
       "      <td>C</td>\n",
       "    </tr>\n",
       "    <tr>\n",
       "      <th>2</th>\n",
       "      <td>3</td>\n",
       "      <td>1</td>\n",
       "      <td>3</td>\n",
       "      <td>Heikkinen, Miss. Laina</td>\n",
       "      <td>female</td>\n",
       "      <td>26.0</td>\n",
       "      <td>0</td>\n",
       "      <td>0</td>\n",
       "      <td>STON/O2. 3101282</td>\n",
       "      <td>7.9250</td>\n",
       "      <td>NaN</td>\n",
       "      <td>S</td>\n",
       "    </tr>\n",
       "    <tr>\n",
       "      <th>3</th>\n",
       "      <td>4</td>\n",
       "      <td>1</td>\n",
       "      <td>1</td>\n",
       "      <td>Futrelle, Mrs. Jacques Heath (Lily May Peel)</td>\n",
       "      <td>female</td>\n",
       "      <td>35.0</td>\n",
       "      <td>1</td>\n",
       "      <td>0</td>\n",
       "      <td>113803</td>\n",
       "      <td>53.1000</td>\n",
       "      <td>C123</td>\n",
       "      <td>S</td>\n",
       "    </tr>\n",
       "    <tr>\n",
       "      <th>4</th>\n",
       "      <td>5</td>\n",
       "      <td>0</td>\n",
       "      <td>3</td>\n",
       "      <td>Allen, Mr. William Henry</td>\n",
       "      <td>male</td>\n",
       "      <td>35.0</td>\n",
       "      <td>0</td>\n",
       "      <td>0</td>\n",
       "      <td>373450</td>\n",
       "      <td>8.0500</td>\n",
       "      <td>NaN</td>\n",
       "      <td>S</td>\n",
       "    </tr>\n",
       "  </tbody>\n",
       "</table>\n",
       "</div>"
      ],
      "text/plain": [
       "   PassengerId  Survived  Pclass  \\\n",
       "0            1         0       3   \n",
       "1            2         1       1   \n",
       "2            3         1       3   \n",
       "3            4         1       1   \n",
       "4            5         0       3   \n",
       "\n",
       "                                                Name     Sex   Age  SibSp  \\\n",
       "0                            Braund, Mr. Owen Harris    male  22.0      1   \n",
       "1  Cumings, Mrs. John Bradley (Florence Briggs Th...  female  38.0      1   \n",
       "2                             Heikkinen, Miss. Laina  female  26.0      0   \n",
       "3       Futrelle, Mrs. Jacques Heath (Lily May Peel)  female  35.0      1   \n",
       "4                           Allen, Mr. William Henry    male  35.0      0   \n",
       "\n",
       "   Parch            Ticket     Fare Cabin Embarked  \n",
       "0      0         A/5 21171   7.2500   NaN        S  \n",
       "1      0          PC 17599  71.2833   C85        C  \n",
       "2      0  STON/O2. 3101282   7.9250   NaN        S  \n",
       "3      0            113803  53.1000  C123        S  \n",
       "4      0            373450   8.0500   NaN        S  "
      ]
     },
     "execution_count": 1,
     "metadata": {},
     "output_type": "execute_result"
    }
   ],
   "source": [
    "import pandas as pd\n",
    "import numpy as np\n",
    "\n",
    "df = pd.read_csv(\"train_original.csv\")\n",
    "df.head()"
   ]
  },
  {
   "cell_type": "code",
   "execution_count": 2,
   "metadata": {
    "execution": {
     "iopub.execute_input": "2024-02-19T19:12:56.292662Z",
     "iopub.status.busy": "2024-02-19T19:12:56.292294Z",
     "iopub.status.idle": "2024-02-19T19:12:56.319494Z",
     "shell.execute_reply": "2024-02-19T19:12:56.318638Z",
     "shell.execute_reply.started": "2024-02-19T19:12:56.292634Z"
    }
   },
   "outputs": [
    {
     "data": {
      "text/html": [
       "<div>\n",
       "<style scoped>\n",
       "    .dataframe tbody tr th:only-of-type {\n",
       "        vertical-align: middle;\n",
       "    }\n",
       "\n",
       "    .dataframe tbody tr th {\n",
       "        vertical-align: top;\n",
       "    }\n",
       "\n",
       "    .dataframe thead th {\n",
       "        text-align: right;\n",
       "    }\n",
       "</style>\n",
       "<table border=\"1\" class=\"dataframe\">\n",
       "  <thead>\n",
       "    <tr style=\"text-align: right;\">\n",
       "      <th></th>\n",
       "      <th>PassengerId</th>\n",
       "      <th>Survived</th>\n",
       "      <th>Pclass</th>\n",
       "      <th>Age</th>\n",
       "      <th>SibSp</th>\n",
       "      <th>Parch</th>\n",
       "      <th>Fare</th>\n",
       "    </tr>\n",
       "  </thead>\n",
       "  <tbody>\n",
       "    <tr>\n",
       "      <th>count</th>\n",
       "      <td>891.000000</td>\n",
       "      <td>891.000000</td>\n",
       "      <td>891.000000</td>\n",
       "      <td>714.000000</td>\n",
       "      <td>891.000000</td>\n",
       "      <td>891.000000</td>\n",
       "      <td>891.000000</td>\n",
       "    </tr>\n",
       "    <tr>\n",
       "      <th>mean</th>\n",
       "      <td>446.000000</td>\n",
       "      <td>0.383838</td>\n",
       "      <td>2.308642</td>\n",
       "      <td>29.699118</td>\n",
       "      <td>0.523008</td>\n",
       "      <td>0.381594</td>\n",
       "      <td>32.204208</td>\n",
       "    </tr>\n",
       "    <tr>\n",
       "      <th>std</th>\n",
       "      <td>257.353842</td>\n",
       "      <td>0.486592</td>\n",
       "      <td>0.836071</td>\n",
       "      <td>14.526497</td>\n",
       "      <td>1.102743</td>\n",
       "      <td>0.806057</td>\n",
       "      <td>49.693429</td>\n",
       "    </tr>\n",
       "    <tr>\n",
       "      <th>min</th>\n",
       "      <td>1.000000</td>\n",
       "      <td>0.000000</td>\n",
       "      <td>1.000000</td>\n",
       "      <td>0.420000</td>\n",
       "      <td>0.000000</td>\n",
       "      <td>0.000000</td>\n",
       "      <td>0.000000</td>\n",
       "    </tr>\n",
       "    <tr>\n",
       "      <th>25%</th>\n",
       "      <td>223.500000</td>\n",
       "      <td>0.000000</td>\n",
       "      <td>2.000000</td>\n",
       "      <td>20.125000</td>\n",
       "      <td>0.000000</td>\n",
       "      <td>0.000000</td>\n",
       "      <td>7.910400</td>\n",
       "    </tr>\n",
       "    <tr>\n",
       "      <th>50%</th>\n",
       "      <td>446.000000</td>\n",
       "      <td>0.000000</td>\n",
       "      <td>3.000000</td>\n",
       "      <td>28.000000</td>\n",
       "      <td>0.000000</td>\n",
       "      <td>0.000000</td>\n",
       "      <td>14.454200</td>\n",
       "    </tr>\n",
       "    <tr>\n",
       "      <th>75%</th>\n",
       "      <td>668.500000</td>\n",
       "      <td>1.000000</td>\n",
       "      <td>3.000000</td>\n",
       "      <td>38.000000</td>\n",
       "      <td>1.000000</td>\n",
       "      <td>0.000000</td>\n",
       "      <td>31.000000</td>\n",
       "    </tr>\n",
       "    <tr>\n",
       "      <th>max</th>\n",
       "      <td>891.000000</td>\n",
       "      <td>1.000000</td>\n",
       "      <td>3.000000</td>\n",
       "      <td>80.000000</td>\n",
       "      <td>8.000000</td>\n",
       "      <td>6.000000</td>\n",
       "      <td>512.329200</td>\n",
       "    </tr>\n",
       "  </tbody>\n",
       "</table>\n",
       "</div>"
      ],
      "text/plain": [
       "       PassengerId    Survived      Pclass         Age       SibSp  \\\n",
       "count   891.000000  891.000000  891.000000  714.000000  891.000000   \n",
       "mean    446.000000    0.383838    2.308642   29.699118    0.523008   \n",
       "std     257.353842    0.486592    0.836071   14.526497    1.102743   \n",
       "min       1.000000    0.000000    1.000000    0.420000    0.000000   \n",
       "25%     223.500000    0.000000    2.000000   20.125000    0.000000   \n",
       "50%     446.000000    0.000000    3.000000   28.000000    0.000000   \n",
       "75%     668.500000    1.000000    3.000000   38.000000    1.000000   \n",
       "max     891.000000    1.000000    3.000000   80.000000    8.000000   \n",
       "\n",
       "            Parch        Fare  \n",
       "count  891.000000  891.000000  \n",
       "mean     0.381594   32.204208  \n",
       "std      0.806057   49.693429  \n",
       "min      0.000000    0.000000  \n",
       "25%      0.000000    7.910400  \n",
       "50%      0.000000   14.454200  \n",
       "75%      0.000000   31.000000  \n",
       "max      6.000000  512.329200  "
      ]
     },
     "execution_count": 2,
     "metadata": {},
     "output_type": "execute_result"
    }
   ],
   "source": [
    "df.describe()"
   ]
  },
  {
   "cell_type": "code",
   "execution_count": 3,
   "metadata": {
    "execution": {
     "iopub.execute_input": "2024-02-19T19:12:56.320910Z",
     "iopub.status.busy": "2024-02-19T19:12:56.320578Z",
     "iopub.status.idle": "2024-02-19T19:12:56.528458Z",
     "shell.execute_reply": "2024-02-19T19:12:56.527597Z",
     "shell.execute_reply.started": "2024-02-19T19:12:56.320884Z"
    }
   },
   "outputs": [
    {
     "name": "stdout",
     "output_type": "stream",
     "text": [
      "<class 'pandas.core.frame.DataFrame'>\n",
      "RangeIndex: 891 entries, 0 to 890\n",
      "Data columns (total 12 columns):\n",
      " #   Column       Non-Null Count  Dtype  \n",
      "---  ------       --------------  -----  \n",
      " 0   PassengerId  891 non-null    int64  \n",
      " 1   Survived     891 non-null    int64  \n",
      " 2   Pclass       891 non-null    int64  \n",
      " 3   Name         891 non-null    object \n",
      " 4   Sex          891 non-null    object \n",
      " 5   Age          714 non-null    float64\n",
      " 6   SibSp        891 non-null    int64  \n",
      " 7   Parch        891 non-null    int64  \n",
      " 8   Ticket       891 non-null    object \n",
      " 9   Fare         891 non-null    float64\n",
      " 10  Cabin        204 non-null    object \n",
      " 11  Embarked     889 non-null    object \n",
      "dtypes: float64(2), int64(5), object(5)\n",
      "memory usage: 83.7+ KB\n"
     ]
    }
   ],
   "source": [
    "df.info()"
   ]
  },
  {
   "cell_type": "code",
   "execution_count": 4,
   "metadata": {
    "execution": {
     "iopub.execute_input": "2024-02-19T19:12:56.530019Z",
     "iopub.status.busy": "2024-02-19T19:12:56.529493Z",
     "iopub.status.idle": "2024-02-19T19:12:57.072451Z",
     "shell.execute_reply": "2024-02-19T19:12:57.071672Z",
     "shell.execute_reply.started": "2024-02-19T19:12:56.529987Z"
    }
   },
   "outputs": [],
   "source": [
    "# We can quickly see, age is missing some data, so does Cabin, and also 2 empty for Embarked. \n",
    "# Let's quickly see if there's any relationship, betweens the survived columns with any of thees other individual features\n",
    "# For all the category features (i.e. Surived, Pclass, Sex, etc), we will do a countPlot using survival as hue\n",
    "# For the numeric features, we can do a histogram for each and again, using survival as hue.\n",
    "# For PassengerId and Name, let's ignore for now as they are likely not meaningful as a feature to the survival\n",
    "# The Ticket column may worth antoher look, not sure if there are any meaning or pattern. Also ignore for now.\n",
    "# The Cabin column has many different values, we'll also take a differnet look at that one later.\n",
    "\n",
    "import seaborn as sns\n",
    "import matplotlib.pyplot as plt\n",
    "import math\n",
    "%matplotlib inline\n",
    "targetColumn = 'Survived'\n",
    "catColumns = ['Embarked', 'Sex', 'Pclass']\n",
    "numColumns = ['Age', 'Fare', 'SibSp', 'Parch']"
   ]
  },
  {
   "cell_type": "code",
   "execution_count": 5,
   "metadata": {
    "execution": {
     "iopub.execute_input": "2024-02-19T19:12:57.075064Z",
     "iopub.status.busy": "2024-02-19T19:12:57.074472Z",
     "iopub.status.idle": "2024-02-19T19:12:57.588670Z",
     "shell.execute_reply": "2024-02-19T19:12:57.587770Z",
     "shell.execute_reply.started": "2024-02-19T19:12:57.075039Z"
    }
   },
   "outputs": [
    {
     "data": {
      "image/png": "[encoded data removed]",
      "text/plain": [
       "<Figure size 3000x600 with 3 Axes>"
      ]
     },
     "metadata": {},
     "output_type": "display_data"
    }
   ],
   "source": [
    "# Visualize relationship between categorical columns and survival\n",
    "colCount = 3\n",
    "rowCount = 1\n",
    "fig, axs = plt.subplots(rowCount, colCount, figsize=(30,6))\n",
    "currCol = 0\n",
    "currRow = 0\n",
    "for i in range(len(catColumns)):\n",
    "    sns.countplot(x=catColumns[i], data=df, hue=targetColumn, ax=axs[currCol])\n",
    "    currCol += 1\n",
    "    if (currCol >= colCount):\n",
    "        currCol = 0\n",
    "        currRow += 1\n",
    "\n",
    "plt.show()"
   ]
  },
  {
   "cell_type": "code",
   "execution_count": 6,
   "metadata": {
    "execution": {
     "iopub.execute_input": "2024-02-19T19:12:57.589948Z",
     "iopub.status.busy": "2024-02-19T19:12:57.589705Z",
     "iopub.status.idle": "2024-02-19T19:12:58.752337Z",
     "shell.execute_reply": "2024-02-19T19:12:58.751402Z",
     "shell.execute_reply.started": "2024-02-19T19:12:57.589925Z"
    }
   },
   "outputs": [
    {
     "data": {
      "image/png": "[encoded data removed]",
      "text/plain": [
       "<Figure size 2000x1000 with 4 Axes>"
      ]
     },
     "metadata": {},
     "output_type": "display_data"
    }
   ],
   "source": [
    "# So there is some very clear relations we can see now. Things that suggests high fatality includes Embarking from S (Southampton), male, people who have no\n",
    "# parent or children (parch=0), and class = 3.\n",
    "colCount = 1\n",
    "rowCount = 4\n",
    "fig, axs = plt.subplots(rowCount, colCount, figsize=(20,10))\n",
    "fig.subplots_adjust(hspace=0.4,wspace=0.2)\n",
    "currRow = 0\n",
    "currCol = 0\n",
    "for i in range(len(numColumns)):\n",
    "    sns.histplot(df[df[targetColumn] == 1][numColumns[i]], label=\"Survived\", ax=axs[currRow], kde=True, color=\"blue\", alpha=0.5)\n",
    "    sns.histplot(df[df[targetColumn] == 0][numColumns[i]], label=\"Oops\", ax=axs[currRow],  kde=True, color=\"red\", alpha=0.5)\n",
    "    currRow += 1\n",
    "    axs[i].legend()\n",
    "\n",
    "plt.show()"
   ]
  },
  {
   "attachments": {},
   "cell_type": "markdown",
   "metadata": {},
   "source": [
    "## 3. Data Preparation\n",
    "Generally we will need to do a couple things:\n",
    "- One hot encode the categorical features\n",
    "- Handle any missing values\n",
    "- Scale the numberic features\n",
    "\n",
    "In this particular data set, from the charts above we can see a couple intuitive insights. For the categorical features, embarked, sex, and Pclass, a standard one hot encoding should be a good pre-processing step.\n",
    "For the age, the shape of the survival trend for people, shows that young kids from around 0-5, has a much higher rate of survival. Instead of just scaling the age, it may be better to just treat it as a True False, of whether passenger is someone younger than five.\n",
    "Similar for sibling or spouse, and parch. If you don't have any, you have a much higher chance of dying. We'll create a new column for whether this is 0 too.\n",
    "Fares, we can probably just scale it normally.\n"
   ]
  },
  {
   "cell_type": "code",
   "execution_count": 7,
   "metadata": {
    "execution": {
     "iopub.execute_input": "2024-02-19T19:12:58.753932Z",
     "iopub.status.busy": "2024-02-19T19:12:58.753459Z",
     "iopub.status.idle": "2024-02-19T19:12:58.760179Z",
     "shell.execute_reply": "2024-02-19T19:12:58.759377Z",
     "shell.execute_reply.started": "2024-02-19T19:12:58.753907Z"
    }
   },
   "outputs": [],
   "source": [
    "# We will create a function for preprocessing the titanic data. This way, when we need to predict test data\n",
    "def titanic_pre_process(df, dropNA = True):\n",
    "    # One hot encode Embarked, Sex, and Pclass\n",
    "    df_prep = pd.get_dummies(df, columns=['Embarked', 'Sex', 'Pclass'])\n",
    "    \n",
    "    #We want to drop null values when training, but not for test data.\n",
    "    if dropNA:        \n",
    "        df_prep = df_prep.dropna(subset=['Age'])\n",
    "    \n",
    "    #Generate new features based on our intuition of siblings, families, and age\n",
    "    df_prep[\"haveSib\"] = df_prep['SibSp'].apply(lambda x: 1 if x > 0 else 0)\n",
    "    df_prep[\"haveParch\"] = df_prep['Parch'].apply(lambda x: 1 if x > 0 else 0)\n",
    "    df_prep[\"isKid\"] = df_prep['Age'].apply(lambda x: 1 if x <= 5 else 0)\n",
    "    \n",
    "    #Drop unused columns for modeling\n",
    "    df_prep = df_prep.drop(['PassengerId', 'Name', 'Ticket', 'Cabin', 'SibSp', 'Parch', 'Age'], axis=1)\n",
    "    \n",
    "    return df_prep\n"
   ]
  },
  {
   "cell_type": "code",
   "execution_count": 8,
   "metadata": {
    "execution": {
     "iopub.execute_input": "2024-02-19T19:12:58.761351Z",
     "iopub.status.busy": "2024-02-19T19:12:58.761129Z",
     "iopub.status.idle": "2024-02-19T19:12:58.920497Z",
     "shell.execute_reply": "2024-02-19T19:12:58.919535Z",
     "shell.execute_reply.started": "2024-02-19T19:12:58.761329Z"
    }
   },
   "outputs": [],
   "source": [
    "df = titanic_pre_process(df)"
   ]
  },
  {
   "cell_type": "code",
   "execution_count": 9,
   "metadata": {
    "execution": {
     "iopub.execute_input": "2024-02-19T19:12:58.922015Z",
     "iopub.status.busy": "2024-02-19T19:12:58.921554Z",
     "iopub.status.idle": "2024-02-19T19:12:59.081608Z",
     "shell.execute_reply": "2024-02-19T19:12:59.080737Z",
     "shell.execute_reply.started": "2024-02-19T19:12:58.921990Z"
    }
   },
   "outputs": [
    {
     "data": {
      "text/html": [
       "<div>\n",
       "<style scoped>\n",
       "    .dataframe tbody tr th:only-of-type {\n",
       "        vertical-align: middle;\n",
       "    }\n",
       "\n",
       "    .dataframe tbody tr th {\n",
       "        vertical-align: top;\n",
       "    }\n",
       "\n",
       "    .dataframe thead th {\n",
       "        text-align: right;\n",
       "    }\n",
       "</style>\n",
       "<table border=\"1\" class=\"dataframe\">\n",
       "  <thead>\n",
       "    <tr style=\"text-align: right;\">\n",
       "      <th></th>\n",
       "      <th>Survived</th>\n",
       "      <th>Fare</th>\n",
       "      <th>Embarked_C</th>\n",
       "      <th>Embarked_Q</th>\n",
       "      <th>Embarked_S</th>\n",
       "      <th>Sex_female</th>\n",
       "      <th>Sex_male</th>\n",
       "      <th>Pclass_1</th>\n",
       "      <th>Pclass_2</th>\n",
       "      <th>Pclass_3</th>\n",
       "      <th>haveSib</th>\n",
       "      <th>haveParch</th>\n",
       "      <th>isKid</th>\n",
       "    </tr>\n",
       "  </thead>\n",
       "  <tbody>\n",
       "    <tr>\n",
       "      <th>0</th>\n",
       "      <td>0</td>\n",
       "      <td>7.2500</td>\n",
       "      <td>0</td>\n",
       "      <td>0</td>\n",
       "      <td>1</td>\n",
       "      <td>0</td>\n",
       "      <td>1</td>\n",
       "      <td>0</td>\n",
       "      <td>0</td>\n",
       "      <td>1</td>\n",
       "      <td>1</td>\n",
       "      <td>0</td>\n",
       "      <td>0</td>\n",
       "    </tr>\n",
       "    <tr>\n",
       "      <th>1</th>\n",
       "      <td>1</td>\n",
       "      <td>71.2833</td>\n",
       "      <td>1</td>\n",
       "      <td>0</td>\n",
       "      <td>0</td>\n",
       "      <td>1</td>\n",
       "      <td>0</td>\n",
       "      <td>1</td>\n",
       "      <td>0</td>\n",
       "      <td>0</td>\n",
       "      <td>1</td>\n",
       "      <td>0</td>\n",
       "      <td>0</td>\n",
       "    </tr>\n",
       "    <tr>\n",
       "      <th>2</th>\n",
       "      <td>1</td>\n",
       "      <td>7.9250</td>\n",
       "      <td>0</td>\n",
       "      <td>0</td>\n",
       "      <td>1</td>\n",
       "      <td>1</td>\n",
       "      <td>0</td>\n",
       "      <td>0</td>\n",
       "      <td>0</td>\n",
       "      <td>1</td>\n",
       "      <td>0</td>\n",
       "      <td>0</td>\n",
       "      <td>0</td>\n",
       "    </tr>\n",
       "    <tr>\n",
       "      <th>3</th>\n",
       "      <td>1</td>\n",
       "      <td>53.1000</td>\n",
       "      <td>0</td>\n",
       "      <td>0</td>\n",
       "      <td>1</td>\n",
       "      <td>1</td>\n",
       "      <td>0</td>\n",
       "      <td>1</td>\n",
       "      <td>0</td>\n",
       "      <td>0</td>\n",
       "      <td>1</td>\n",
       "      <td>0</td>\n",
       "      <td>0</td>\n",
       "    </tr>\n",
       "    <tr>\n",
       "      <th>4</th>\n",
       "      <td>0</td>\n",
       "      <td>8.0500</td>\n",
       "      <td>0</td>\n",
       "      <td>0</td>\n",
       "      <td>1</td>\n",
       "      <td>0</td>\n",
       "      <td>1</td>\n",
       "      <td>0</td>\n",
       "      <td>0</td>\n",
       "      <td>1</td>\n",
       "      <td>0</td>\n",
       "      <td>0</td>\n",
       "      <td>0</td>\n",
       "    </tr>\n",
       "  </tbody>\n",
       "</table>\n",
       "</div>"
      ],
      "text/plain": [
       "   Survived     Fare  Embarked_C  Embarked_Q  Embarked_S  Sex_female  \\\n",
       "0         0   7.2500           0           0           1           0   \n",
       "1         1  71.2833           1           0           0           1   \n",
       "2         1   7.9250           0           0           1           1   \n",
       "3         1  53.1000           0           0           1           1   \n",
       "4         0   8.0500           0           0           1           0   \n",
       "\n",
       "   Sex_male  Pclass_1  Pclass_2  Pclass_3  haveSib  haveParch  isKid  \n",
       "0         1         0         0         1        1          0      0  \n",
       "1         0         1         0         0        1          0      0  \n",
       "2         0         0         0         1        0          0      0  \n",
       "3         0         1         0         0        1          0      0  \n",
       "4         1         0         0         1        0          0      0  "
      ]
     },
     "execution_count": 9,
     "metadata": {},
     "output_type": "execute_result"
    }
   ],
   "source": [
    "df.head()"
   ]
  },
  {
   "attachments": {},
   "cell_type": "markdown",
   "metadata": {},
   "source": [
    "## 4. Modeling\n",
    "We will use scikit learn's machine learning model and pipeline. We will first split the data we have into train and test data, run cross validation, and then try various machine learning models and see what works best.\n",
    "- Train / Test split\n",
    "- Build pipline to:\n",
    " - Scale the input\n",
    " - Fit the train data\n",
    " - Score the mode"
   ]
  },
  {
   "cell_type": "code",
   "execution_count": 10,
   "metadata": {
    "execution": {
     "iopub.execute_input": "2024-02-19T19:12:59.082827Z",
     "iopub.status.busy": "2024-02-19T19:12:59.082593Z",
     "iopub.status.idle": "2024-02-19T19:12:59.751831Z",
     "shell.execute_reply": "2024-02-19T19:12:59.751105Z",
     "shell.execute_reply.started": "2024-02-19T19:12:59.082804Z"
    }
   },
   "outputs": [],
   "source": [
    "# Now come the final step, let's scale the Fare.\n",
    "from sklearn.preprocessing import StandardScaler\n",
    "from sklearn.compose import ColumnTransformer\n",
    "from sklearn.model_selection import train_test_split\n",
    "from sklearn.tree import DecisionTreeClassifier\n",
    "from sklearn.ensemble import RandomForestClassifier, AdaBoostClassifier\n",
    "from sklearn.neighbors import KNeighborsClassifier\n",
    "from sklearn.svm import SVC\n",
    "from sklearn.pipeline import Pipeline\n",
    "from sklearn.metrics import accuracy_score\n",
    "import xgboost as xgb\n"
   ]
  },
  {
   "cell_type": "code",
   "execution_count": 11,
   "metadata": {
    "execution": {
     "iopub.execute_input": "2024-02-19T19:12:59.753255Z",
     "iopub.status.busy": "2024-02-19T19:12:59.752799Z",
     "iopub.status.idle": "2024-02-19T19:12:59.758115Z",
     "shell.execute_reply": "2024-02-19T19:12:59.757422Z",
     "shell.execute_reply.started": "2024-02-19T19:12:59.753229Z"
    }
   },
   "outputs": [],
   "source": [
    "X = df.drop(['Survived'], axis=1)\n",
    "y = df[['Survived']]"
   ]
  },
  {
   "cell_type": "code",
   "execution_count": 12,
   "metadata": {
    "execution": {
     "iopub.execute_input": "2024-02-19T19:12:59.759591Z",
     "iopub.status.busy": "2024-02-19T19:12:59.759038Z",
     "iopub.status.idle": "2024-02-19T19:12:59.876451Z",
     "shell.execute_reply": "2024-02-19T19:12:59.875648Z",
     "shell.execute_reply.started": "2024-02-19T19:12:59.759566Z"
    }
   },
   "outputs": [
    {
     "data": {
      "text/html": [
       "<div>\n",
       "<style scoped>\n",
       "    .dataframe tbody tr th:only-of-type {\n",
       "        vertical-align: middle;\n",
       "    }\n",
       "\n",
       "    .dataframe tbody tr th {\n",
       "        vertical-align: top;\n",
       "    }\n",
       "\n",
       "    .dataframe thead th {\n",
       "        text-align: right;\n",
       "    }\n",
       "</style>\n",
       "<table border=\"1\" class=\"dataframe\">\n",
       "  <thead>\n",
       "    <tr style=\"text-align: right;\">\n",
       "      <th></th>\n",
       "      <th>Fare</th>\n",
       "      <th>Embarked_C</th>\n",
       "      <th>Embarked_Q</th>\n",
       "      <th>Embarked_S</th>\n",
       "      <th>Sex_female</th>\n",
       "      <th>Sex_male</th>\n",
       "      <th>Pclass_1</th>\n",
       "      <th>Pclass_2</th>\n",
       "      <th>Pclass_3</th>\n",
       "      <th>haveSib</th>\n",
       "      <th>haveParch</th>\n",
       "      <th>isKid</th>\n",
       "    </tr>\n",
       "  </thead>\n",
       "  <tbody>\n",
       "    <tr>\n",
       "      <th>0</th>\n",
       "      <td>7.2500</td>\n",
       "      <td>0</td>\n",
       "      <td>0</td>\n",
       "      <td>1</td>\n",
       "      <td>0</td>\n",
       "      <td>1</td>\n",
       "      <td>0</td>\n",
       "      <td>0</td>\n",
       "      <td>1</td>\n",
       "      <td>1</td>\n",
       "      <td>0</td>\n",
       "      <td>0</td>\n",
       "    </tr>\n",
       "    <tr>\n",
       "      <th>1</th>\n",
       "      <td>71.2833</td>\n",
       "      <td>1</td>\n",
       "      <td>0</td>\n",
       "      <td>0</td>\n",
       "      <td>1</td>\n",
       "      <td>0</td>\n",
       "      <td>1</td>\n",
       "      <td>0</td>\n",
       "      <td>0</td>\n",
       "      <td>1</td>\n",
       "      <td>0</td>\n",
       "      <td>0</td>\n",
       "    </tr>\n",
       "    <tr>\n",
       "      <th>2</th>\n",
       "      <td>7.9250</td>\n",
       "      <td>0</td>\n",
       "      <td>0</td>\n",
       "      <td>1</td>\n",
       "      <td>1</td>\n",
       "      <td>0</td>\n",
       "      <td>0</td>\n",
       "      <td>0</td>\n",
       "      <td>1</td>\n",
       "      <td>0</td>\n",
       "      <td>0</td>\n",
       "      <td>0</td>\n",
       "    </tr>\n",
       "    <tr>\n",
       "      <th>3</th>\n",
       "      <td>53.1000</td>\n",
       "      <td>0</td>\n",
       "      <td>0</td>\n",
       "      <td>1</td>\n",
       "      <td>1</td>\n",
       "      <td>0</td>\n",
       "      <td>1</td>\n",
       "      <td>0</td>\n",
       "      <td>0</td>\n",
       "      <td>1</td>\n",
       "      <td>0</td>\n",
       "      <td>0</td>\n",
       "    </tr>\n",
       "    <tr>\n",
       "      <th>4</th>\n",
       "      <td>8.0500</td>\n",
       "      <td>0</td>\n",
       "      <td>0</td>\n",
       "      <td>1</td>\n",
       "      <td>0</td>\n",
       "      <td>1</td>\n",
       "      <td>0</td>\n",
       "      <td>0</td>\n",
       "      <td>1</td>\n",
       "      <td>0</td>\n",
       "      <td>0</td>\n",
       "      <td>0</td>\n",
       "    </tr>\n",
       "  </tbody>\n",
       "</table>\n",
       "</div>"
      ],
      "text/plain": [
       "      Fare  Embarked_C  Embarked_Q  Embarked_S  Sex_female  Sex_male  \\\n",
       "0   7.2500           0           0           1           0         1   \n",
       "1  71.2833           1           0           0           1         0   \n",
       "2   7.9250           0           0           1           1         0   \n",
       "3  53.1000           0           0           1           1         0   \n",
       "4   8.0500           0           0           1           0         1   \n",
       "\n",
       "   Pclass_1  Pclass_2  Pclass_3  haveSib  haveParch  isKid  \n",
       "0         0         0         1        1          0      0  \n",
       "1         1         0         0        1          0      0  \n",
       "2         0         0         1        0          0      0  \n",
       "3         1         0         0        1          0      0  \n",
       "4         0         0         1        0          0      0  "
      ]
     },
     "execution_count": 12,
     "metadata": {},
     "output_type": "execute_result"
    }
   ],
   "source": [
    "X.head()"
   ]
  },
  {
   "cell_type": "code",
   "execution_count": 13,
   "metadata": {
    "execution": {
     "iopub.execute_input": "2024-02-19T19:12:59.877877Z",
     "iopub.status.busy": "2024-02-19T19:12:59.877520Z",
     "iopub.status.idle": "2024-02-19T19:13:00.068148Z",
     "shell.execute_reply": "2024-02-19T19:13:00.067347Z",
     "shell.execute_reply.started": "2024-02-19T19:12:59.877848Z"
    }
   },
   "outputs": [
    {
     "data": {
      "text/html": [
       "<div>\n",
       "<style scoped>\n",
       "    .dataframe tbody tr th:only-of-type {\n",
       "        vertical-align: middle;\n",
       "    }\n",
       "\n",
       "    .dataframe tbody tr th {\n",
       "        vertical-align: top;\n",
       "    }\n",
       "\n",
       "    .dataframe thead th {\n",
       "        text-align: right;\n",
       "    }\n",
       "</style>\n",
       "<table border=\"1\" class=\"dataframe\">\n",
       "  <thead>\n",
       "    <tr style=\"text-align: right;\">\n",
       "      <th></th>\n",
       "      <th>Survived</th>\n",
       "    </tr>\n",
       "  </thead>\n",
       "  <tbody>\n",
       "    <tr>\n",
       "      <th>0</th>\n",
       "      <td>0</td>\n",
       "    </tr>\n",
       "    <tr>\n",
       "      <th>1</th>\n",
       "      <td>1</td>\n",
       "    </tr>\n",
       "    <tr>\n",
       "      <th>2</th>\n",
       "      <td>1</td>\n",
       "    </tr>\n",
       "    <tr>\n",
       "      <th>3</th>\n",
       "      <td>1</td>\n",
       "    </tr>\n",
       "    <tr>\n",
       "      <th>4</th>\n",
       "      <td>0</td>\n",
       "    </tr>\n",
       "  </tbody>\n",
       "</table>\n",
       "</div>"
      ],
      "text/plain": [
       "   Survived\n",
       "0         0\n",
       "1         1\n",
       "2         1\n",
       "3         1\n",
       "4         0"
      ]
     },
     "execution_count": 13,
     "metadata": {},
     "output_type": "execute_result"
    }
   ],
   "source": [
    "y.head()"
   ]
  },
  {
   "cell_type": "code",
   "execution_count": 14,
   "metadata": {
    "execution": {
     "iopub.execute_input": "2024-02-19T19:13:00.071892Z",
     "iopub.status.busy": "2024-02-19T19:13:00.071239Z",
     "iopub.status.idle": "2024-02-19T19:13:00.250048Z",
     "shell.execute_reply": "2024-02-19T19:13:00.249328Z",
     "shell.execute_reply.started": "2024-02-19T19:13:00.071863Z"
    }
   },
   "outputs": [],
   "source": [
    "X_train, X_test, y_train, y_test = train_test_split(X, y, test_size=0.2, random_state=42)"
   ]
  },
  {
   "cell_type": "code",
   "execution_count": 15,
   "metadata": {
    "execution": {
     "iopub.execute_input": "2024-02-19T19:13:00.251540Z",
     "iopub.status.busy": "2024-02-19T19:13:00.250992Z",
     "iopub.status.idle": "2024-02-19T19:13:00.402813Z",
     "shell.execute_reply": "2024-02-19T19:13:00.402092Z",
     "shell.execute_reply.started": "2024-02-19T19:13:00.251513Z"
    }
   },
   "outputs": [],
   "source": [
    "standard_transformer = Pipeline(steps=[\n",
    "        ('standard', StandardScaler())])\n",
    "\n",
    "preprocessor = ColumnTransformer(\n",
    "        remainder='passthrough', #passthough features not listed\n",
    "        transformers=[\n",
    "            ('std', standard_transformer , ['Fare'])            \n",
    "        ])"
   ]
  },
  {
   "cell_type": "code",
   "execution_count": 16,
   "metadata": {
    "execution": {
     "iopub.execute_input": "2024-02-19T19:13:00.404030Z",
     "iopub.status.busy": "2024-02-19T19:13:00.403772Z",
     "iopub.status.idle": "2024-02-19T19:13:00.552639Z",
     "shell.execute_reply": "2024-02-19T19:13:00.551921Z",
     "shell.execute_reply.started": "2024-02-19T19:13:00.404006Z"
    }
   },
   "outputs": [],
   "source": [
    "classifiers = [\n",
    "    KNeighborsClassifier(5),\n",
    "    DecisionTreeClassifier(max_depth=10),\n",
    "    RandomForestClassifier(max_depth=10, n_estimators=10),\n",
    "    AdaBoostClassifier(),\n",
    "    xgb.XGBClassifier(objective='binary:logistic', n_estimators=10)\n",
    "]"
   ]
  },
  {
   "cell_type": "code",
   "execution_count": 17,
   "metadata": {
    "execution": {
     "iopub.execute_input": "2024-02-19T19:13:00.553878Z",
     "iopub.status.busy": "2024-02-19T19:13:00.553618Z",
     "iopub.status.idle": "2024-02-19T19:13:03.591600Z",
     "shell.execute_reply": "2024-02-19T19:13:03.590487Z",
     "shell.execute_reply.started": "2024-02-19T19:13:00.553854Z"
    }
   },
   "outputs": [
    {
     "name": "stdout",
     "output_type": "stream",
     "text": [
      "Training KNeighborsClassifier\n",
      "Classifier KNeighborsClassifier, has a score of  0.7832167832167832 \n",
      "\n",
      "Training DecisionTreeClassifier\n",
      "Classifier DecisionTreeClassifier, has a score of  0.7832167832167832 \n",
      "\n",
      "Training RandomForestClassifier\n",
      "Classifier RandomForestClassifier, has a score of  0.7692307692307693 \n",
      "\n",
      "Training AdaBoostClassifier\n",
      "Classifier AdaBoostClassifier, has a score of  0.8041958041958042 \n",
      "\n",
      "Training XGBClassifier\n"
     ]
    },
    {
     "name": "stderr",
     "output_type": "stream",
     "text": [
      "/apps/python3/lib/python3.7/site-packages/sklearn/neighbors/_classification.py:198: DataConversionWarning: A column-vector y was passed when a 1d array was expected. Please change the shape of y to (n_samples,), for example using ravel().\n",
      "  return self._fit(X, y)\n",
      "/apps/python3/lib/python3.7/site-packages/sklearn/pipeline.py:394: DataConversionWarning: A column-vector y was passed when a 1d array was expected. Please change the shape of y to (n_samples,), for example using ravel().\n",
      "  self._final_estimator.fit(Xt, y, **fit_params_last_step)\n",
      "/apps/python3/lib/python3.7/site-packages/sklearn/utils/validation.py:993: DataConversionWarning: A column-vector y was passed when a 1d array was expected. Please change the shape of y to (n_samples, ), for example using ravel().\n",
      "  y = column_or_1d(y, warn=True)\n",
      "/apps/python3/lib/python3.7/site-packages/xgboost/sklearn.py:1224: UserWarning: The use of label encoder in XGBClassifier is deprecated and will be removed in a future release. To remove this warning, do the following: 1) Pass option use_label_encoder=False when constructing XGBClassifier object; and 2) Encode your labels (y) as integers starting with 0, i.e. 0, 1, 2, ..., [num_class - 1].\n",
      "  warnings.warn(label_encoder_deprecation_msg, UserWarning)\n",
      "/apps/python3/lib/python3.7/site-packages/sklearn/preprocessing/_label.py:98: DataConversionWarning: A column-vector y was passed when a 1d array was expected. Please change the shape of y to (n_samples, ), for example using ravel().\n",
      "  y = column_or_1d(y, warn=True)\n",
      "/apps/python3/lib/python3.7/site-packages/sklearn/preprocessing/_label.py:133: DataConversionWarning: A column-vector y was passed when a 1d array was expected. Please change the shape of y to (n_samples, ), for example using ravel().\n",
      "  y = column_or_1d(y, warn=True)\n"
     ]
    },
    {
     "name": "stdout",
     "output_type": "stream",
     "text": [
      "[19:13:01] WARNING: ../src/learner.cc:1115: Starting in XGBoost 1.3.0, the default evaluation metric used with the objective 'binary:logistic' was changed from 'error' to 'logloss'. Explicitly set eval_metric if you'd like to restore the old behavior.\n",
      "Classifier XGBClassifier, has a score of  0.7692307692307693 \n",
      "\n"
     ]
    }
   ],
   "source": [
    "for classifier in classifiers:\n",
    "    steps = [('Preprocess', preprocessor),\n",
    "            ('classifier', classifier)]\n",
    "\n",
    "    print(\"Training \"  + type(classifier).__name__)\n",
    "    pipeline = Pipeline(steps)\n",
    "    pipeline.fit(X_train, y_train)\n",
    "    y_pred = pipeline.predict(X_test)\n",
    "    print(\"Classifier \" + type(classifier).__name__ + \", has a score of \",  accuracy_score(y_test, y_pred), \"\\n\")\n",
    "    \n",
    "    "
   ]
  },
  {
   "attachments": {},
   "cell_type": "markdown",
   "metadata": {},
   "source": [
    "## 5. Evaluation and Deploy\n",
    "Looks like AdaBoost is a decent model. Let's create an output file and submit it to Kaggle and see what we get."
   ]
  },
  {
   "cell_type": "code",
   "execution_count": 18,
   "metadata": {
    "execution": {
     "iopub.execute_input": "2024-02-19T19:13:03.593642Z",
     "iopub.status.busy": "2024-02-19T19:13:03.593272Z",
     "iopub.status.idle": "2024-02-19T19:13:03.612129Z",
     "shell.execute_reply": "2024-02-19T19:13:03.611312Z",
     "shell.execute_reply.started": "2024-02-19T19:13:03.593617Z"
    }
   },
   "outputs": [
    {
     "data": {
      "text/html": [
       "<div>\n",
       "<style scoped>\n",
       "    .dataframe tbody tr th:only-of-type {\n",
       "        vertical-align: middle;\n",
       "    }\n",
       "\n",
       "    .dataframe tbody tr th {\n",
       "        vertical-align: top;\n",
       "    }\n",
       "\n",
       "    .dataframe thead th {\n",
       "        text-align: right;\n",
       "    }\n",
       "</style>\n",
       "<table border=\"1\" class=\"dataframe\">\n",
       "  <thead>\n",
       "    <tr style=\"text-align: right;\">\n",
       "      <th></th>\n",
       "      <th>PassengerId</th>\n",
       "      <th>Pclass</th>\n",
       "      <th>Name</th>\n",
       "      <th>Sex</th>\n",
       "      <th>Age</th>\n",
       "      <th>SibSp</th>\n",
       "      <th>Parch</th>\n",
       "      <th>Ticket</th>\n",
       "      <th>Fare</th>\n",
       "      <th>Cabin</th>\n",
       "      <th>Embarked</th>\n",
       "    </tr>\n",
       "  </thead>\n",
       "  <tbody>\n",
       "    <tr>\n",
       "      <th>0</th>\n",
       "      <td>892</td>\n",
       "      <td>3</td>\n",
       "      <td>Kelly, Mr. James</td>\n",
       "      <td>male</td>\n",
       "      <td>34.5</td>\n",
       "      <td>0</td>\n",
       "      <td>0</td>\n",
       "      <td>330911</td>\n",
       "      <td>7.8292</td>\n",
       "      <td>NaN</td>\n",
       "      <td>Q</td>\n",
       "    </tr>\n",
       "    <tr>\n",
       "      <th>1</th>\n",
       "      <td>893</td>\n",
       "      <td>3</td>\n",
       "      <td>Wilkes, Mrs. James (Ellen Needs)</td>\n",
       "      <td>female</td>\n",
       "      <td>47.0</td>\n",
       "      <td>1</td>\n",
       "      <td>0</td>\n",
       "      <td>363272</td>\n",
       "      <td>7.0000</td>\n",
       "      <td>NaN</td>\n",
       "      <td>S</td>\n",
       "    </tr>\n",
       "    <tr>\n",
       "      <th>2</th>\n",
       "      <td>894</td>\n",
       "      <td>2</td>\n",
       "      <td>Myles, Mr. Thomas Francis</td>\n",
       "      <td>male</td>\n",
       "      <td>62.0</td>\n",
       "      <td>0</td>\n",
       "      <td>0</td>\n",
       "      <td>240276</td>\n",
       "      <td>9.6875</td>\n",
       "      <td>NaN</td>\n",
       "      <td>Q</td>\n",
       "    </tr>\n",
       "    <tr>\n",
       "      <th>3</th>\n",
       "      <td>895</td>\n",
       "      <td>3</td>\n",
       "      <td>Wirz, Mr. Albert</td>\n",
       "      <td>male</td>\n",
       "      <td>27.0</td>\n",
       "      <td>0</td>\n",
       "      <td>0</td>\n",
       "      <td>315154</td>\n",
       "      <td>8.6625</td>\n",
       "      <td>NaN</td>\n",
       "      <td>S</td>\n",
       "    </tr>\n",
       "    <tr>\n",
       "      <th>4</th>\n",
       "      <td>896</td>\n",
       "      <td>3</td>\n",
       "      <td>Hirvonen, Mrs. Alexander (Helga E Lindqvist)</td>\n",
       "      <td>female</td>\n",
       "      <td>22.0</td>\n",
       "      <td>1</td>\n",
       "      <td>1</td>\n",
       "      <td>3101298</td>\n",
       "      <td>12.2875</td>\n",
       "      <td>NaN</td>\n",
       "      <td>S</td>\n",
       "    </tr>\n",
       "  </tbody>\n",
       "</table>\n",
       "</div>"
      ],
      "text/plain": [
       "   PassengerId  Pclass                                          Name     Sex  \\\n",
       "0          892       3                              Kelly, Mr. James    male   \n",
       "1          893       3              Wilkes, Mrs. James (Ellen Needs)  female   \n",
       "2          894       2                     Myles, Mr. Thomas Francis    male   \n",
       "3          895       3                              Wirz, Mr. Albert    male   \n",
       "4          896       3  Hirvonen, Mrs. Alexander (Helga E Lindqvist)  female   \n",
       "\n",
       "    Age  SibSp  Parch   Ticket     Fare Cabin Embarked  \n",
       "0  34.5      0      0   330911   7.8292   NaN        Q  \n",
       "1  47.0      1      0   363272   7.0000   NaN        S  \n",
       "2  62.0      0      0   240276   9.6875   NaN        Q  \n",
       "3  27.0      0      0   315154   8.6625   NaN        S  \n",
       "4  22.0      1      1  3101298  12.2875   NaN        S  "
      ]
     },
     "execution_count": 18,
     "metadata": {},
     "output_type": "execute_result"
    }
   ],
   "source": [
    "test_df = pd.read_csv(\"test.csv\")\n",
    "testPID = pd.DataFrame(test_df[\"PassengerId\"])\n",
    "test_df.head()"
   ]
  },
  {
   "cell_type": "code",
   "execution_count": 19,
   "metadata": {
    "execution": {
     "iopub.execute_input": "2024-02-19T19:13:03.613668Z",
     "iopub.status.busy": "2024-02-19T19:13:03.613118Z",
     "iopub.status.idle": "2024-02-19T19:13:03.727002Z",
     "shell.execute_reply": "2024-02-19T19:13:03.726302Z",
     "shell.execute_reply.started": "2024-02-19T19:13:03.613638Z"
    }
   },
   "outputs": [],
   "source": [
    "test_df = titanic_pre_process(test_df, dropNA=False)"
   ]
  },
  {
   "cell_type": "code",
   "execution_count": 20,
   "metadata": {
    "execution": {
     "iopub.execute_input": "2024-02-19T19:13:03.728403Z",
     "iopub.status.busy": "2024-02-19T19:13:03.727905Z",
     "iopub.status.idle": "2024-02-19T19:13:03.902859Z",
     "shell.execute_reply": "2024-02-19T19:13:03.902079Z",
     "shell.execute_reply.started": "2024-02-19T19:13:03.728379Z"
    }
   },
   "outputs": [
    {
     "data": {
      "text/html": [
       "<div>\n",
       "<style scoped>\n",
       "    .dataframe tbody tr th:only-of-type {\n",
       "        vertical-align: middle;\n",
       "    }\n",
       "\n",
       "    .dataframe tbody tr th {\n",
       "        vertical-align: top;\n",
       "    }\n",
       "\n",
       "    .dataframe thead th {\n",
       "        text-align: right;\n",
       "    }\n",
       "</style>\n",
       "<table border=\"1\" class=\"dataframe\">\n",
       "  <thead>\n",
       "    <tr style=\"text-align: right;\">\n",
       "      <th></th>\n",
       "      <th>Fare</th>\n",
       "      <th>Embarked_C</th>\n",
       "      <th>Embarked_Q</th>\n",
       "      <th>Embarked_S</th>\n",
       "      <th>Sex_female</th>\n",
       "      <th>Sex_male</th>\n",
       "      <th>Pclass_1</th>\n",
       "      <th>Pclass_2</th>\n",
       "      <th>Pclass_3</th>\n",
       "      <th>haveSib</th>\n",
       "      <th>haveParch</th>\n",
       "      <th>isKid</th>\n",
       "    </tr>\n",
       "  </thead>\n",
       "  <tbody>\n",
       "    <tr>\n",
       "      <th>0</th>\n",
       "      <td>7.8292</td>\n",
       "      <td>0</td>\n",
       "      <td>1</td>\n",
       "      <td>0</td>\n",
       "      <td>0</td>\n",
       "      <td>1</td>\n",
       "      <td>0</td>\n",
       "      <td>0</td>\n",
       "      <td>1</td>\n",
       "      <td>0</td>\n",
       "      <td>0</td>\n",
       "      <td>0</td>\n",
       "    </tr>\n",
       "    <tr>\n",
       "      <th>1</th>\n",
       "      <td>7.0000</td>\n",
       "      <td>0</td>\n",
       "      <td>0</td>\n",
       "      <td>1</td>\n",
       "      <td>1</td>\n",
       "      <td>0</td>\n",
       "      <td>0</td>\n",
       "      <td>0</td>\n",
       "      <td>1</td>\n",
       "      <td>1</td>\n",
       "      <td>0</td>\n",
       "      <td>0</td>\n",
       "    </tr>\n",
       "    <tr>\n",
       "      <th>2</th>\n",
       "      <td>9.6875</td>\n",
       "      <td>0</td>\n",
       "      <td>1</td>\n",
       "      <td>0</td>\n",
       "      <td>0</td>\n",
       "      <td>1</td>\n",
       "      <td>0</td>\n",
       "      <td>1</td>\n",
       "      <td>0</td>\n",
       "      <td>0</td>\n",
       "      <td>0</td>\n",
       "      <td>0</td>\n",
       "    </tr>\n",
       "    <tr>\n",
       "      <th>3</th>\n",
       "      <td>8.6625</td>\n",
       "      <td>0</td>\n",
       "      <td>0</td>\n",
       "      <td>1</td>\n",
       "      <td>0</td>\n",
       "      <td>1</td>\n",
       "      <td>0</td>\n",
       "      <td>0</td>\n",
       "      <td>1</td>\n",
       "      <td>0</td>\n",
       "      <td>0</td>\n",
       "      <td>0</td>\n",
       "    </tr>\n",
       "    <tr>\n",
       "      <th>4</th>\n",
       "      <td>12.2875</td>\n",
       "      <td>0</td>\n",
       "      <td>0</td>\n",
       "      <td>1</td>\n",
       "      <td>1</td>\n",
       "      <td>0</td>\n",
       "      <td>0</td>\n",
       "      <td>0</td>\n",
       "      <td>1</td>\n",
       "      <td>1</td>\n",
       "      <td>1</td>\n",
       "      <td>0</td>\n",
       "    </tr>\n",
       "  </tbody>\n",
       "</table>\n",
       "</div>"
      ],
      "text/plain": [
       "      Fare  Embarked_C  Embarked_Q  Embarked_S  Sex_female  Sex_male  \\\n",
       "0   7.8292           0           1           0           0         1   \n",
       "1   7.0000           0           0           1           1         0   \n",
       "2   9.6875           0           1           0           0         1   \n",
       "3   8.6625           0           0           1           0         1   \n",
       "4  12.2875           0           0           1           1         0   \n",
       "\n",
       "   Pclass_1  Pclass_2  Pclass_3  haveSib  haveParch  isKid  \n",
       "0         0         0         1        0          0      0  \n",
       "1         0         0         1        1          0      0  \n",
       "2         0         1         0        0          0      0  \n",
       "3         0         0         1        0          0      0  \n",
       "4         0         0         1        1          1      0  "
      ]
     },
     "execution_count": 20,
     "metadata": {},
     "output_type": "execute_result"
    }
   ],
   "source": [
    "test_df.head()"
   ]
  },
  {
   "cell_type": "code",
   "execution_count": 21,
   "metadata": {
    "execution": {
     "iopub.execute_input": "2024-02-19T19:13:03.904296Z",
     "iopub.status.busy": "2024-02-19T19:13:03.903772Z",
     "iopub.status.idle": "2024-02-19T19:13:04.189342Z",
     "shell.execute_reply": "2024-02-19T19:13:04.188563Z",
     "shell.execute_reply.started": "2024-02-19T19:13:03.904268Z"
    }
   },
   "outputs": [
    {
     "data": {
      "text/plain": [
       "Fare          1\n",
       "Embarked_C    0\n",
       "Embarked_Q    0\n",
       "Embarked_S    0\n",
       "Sex_female    0\n",
       "Sex_male      0\n",
       "Pclass_1      0\n",
       "Pclass_2      0\n",
       "Pclass_3      0\n",
       "haveSib       0\n",
       "haveParch     0\n",
       "isKid         0\n",
       "dtype: int64"
      ]
     },
     "execution_count": 21,
     "metadata": {},
     "output_type": "execute_result"
    }
   ],
   "source": [
    "#We need to handle any missing data in the test before we can run predict.\n",
    "test_df.isna().sum()"
   ]
  },
  {
   "cell_type": "code",
   "execution_count": 22,
   "metadata": {
    "execution": {
     "iopub.execute_input": "2024-02-19T19:13:04.190787Z",
     "iopub.status.busy": "2024-02-19T19:13:04.190263Z",
     "iopub.status.idle": "2024-02-19T19:13:04.375653Z",
     "shell.execute_reply": "2024-02-19T19:13:04.374798Z",
     "shell.execute_reply.started": "2024-02-19T19:13:04.190760Z"
    }
   },
   "outputs": [
    {
     "name": "stdout",
     "output_type": "stream",
     "text": [
      "Using all data we have, classifier DecisionTreeClassifier, has a score of  0.8795518207282913 \n",
      "\n"
     ]
    }
   ],
   "source": [
    "# This time, we will train with ALL the data we have, using the model we believe is best.\n",
    "# And looks like it's missing a fare... we'll just impute it.\n",
    "from sklearn.impute import SimpleImputer\n",
    "\n",
    "classifier = DecisionTreeClassifier(max_depth=10)\n",
    "steps = [('Preprocess', preprocessor),\n",
    "         ('Impute', SimpleImputer()),\n",
    "            ('classifier', classifier)]\n",
    "pipeline = Pipeline(steps)\n",
    "pipeline.fit(X, y)\n",
    "y_pred = pipeline.predict(X)\n",
    "print(\"Using all data we have, classifier \" + type(classifier).__name__ + \", has a score of \",  accuracy_score(y, y_pred), \"\\n\")"
   ]
  },
  {
   "cell_type": "code",
   "execution_count": 23,
   "metadata": {
    "execution": {
     "iopub.execute_input": "2024-02-19T19:13:04.377088Z",
     "iopub.status.busy": "2024-02-19T19:13:04.376711Z",
     "iopub.status.idle": "2024-02-19T19:13:04.532150Z",
     "shell.execute_reply": "2024-02-19T19:13:04.531452Z",
     "shell.execute_reply.started": "2024-02-19T19:13:04.377048Z"
    }
   },
   "outputs": [],
   "source": [
    "test_pred = pipeline.predict(test_df)"
   ]
  },
  {
   "cell_type": "code",
   "execution_count": 24,
   "metadata": {
    "execution": {
     "iopub.execute_input": "2024-02-19T19:13:04.533709Z",
     "iopub.status.busy": "2024-02-19T19:13:04.533077Z",
     "iopub.status.idle": "2024-02-19T19:13:04.692849Z",
     "shell.execute_reply": "2024-02-19T19:13:04.692106Z",
     "shell.execute_reply.started": "2024-02-19T19:13:04.533677Z"
    }
   },
   "outputs": [],
   "source": [
    "submission_df = pd.DataFrame(testPID[\"PassengerId\"], columns=[\"PassengerId\"])"
   ]
  },
  {
   "cell_type": "code",
   "execution_count": 25,
   "metadata": {
    "execution": {
     "iopub.execute_input": "2024-02-19T19:13:04.694337Z",
     "iopub.status.busy": "2024-02-19T19:13:04.693753Z",
     "iopub.status.idle": "2024-02-19T19:13:04.879400Z",
     "shell.execute_reply": "2024-02-19T19:13:04.878653Z",
     "shell.execute_reply.started": "2024-02-19T19:13:04.694311Z"
    }
   },
   "outputs": [],
   "source": [
    "submission_df[\"Survived\"] = test_pred "
   ]
  },
  {
   "cell_type": "code",
   "execution_count": 26,
   "metadata": {
    "execution": {
     "iopub.execute_input": "2024-02-19T19:13:04.880742Z",
     "iopub.status.busy": "2024-02-19T19:13:04.880279Z",
     "iopub.status.idle": "2024-02-19T19:13:05.150767Z",
     "shell.execute_reply": "2024-02-19T19:13:05.150099Z",
     "shell.execute_reply.started": "2024-02-19T19:13:04.880718Z"
    }
   },
   "outputs": [
    {
     "data": {
      "text/html": [
       "<div>\n",
       "<style scoped>\n",
       "    .dataframe tbody tr th:only-of-type {\n",
       "        vertical-align: middle;\n",
       "    }\n",
       "\n",
       "    .dataframe tbody tr th {\n",
       "        vertical-align: top;\n",
       "    }\n",
       "\n",
       "    .dataframe thead th {\n",
       "        text-align: right;\n",
       "    }\n",
       "</style>\n",
       "<table border=\"1\" class=\"dataframe\">\n",
       "  <thead>\n",
       "    <tr style=\"text-align: right;\">\n",
       "      <th></th>\n",
       "      <th>PassengerId</th>\n",
       "      <th>Survived</th>\n",
       "    </tr>\n",
       "  </thead>\n",
       "  <tbody>\n",
       "    <tr>\n",
       "      <th>0</th>\n",
       "      <td>892</td>\n",
       "      <td>0</td>\n",
       "    </tr>\n",
       "    <tr>\n",
       "      <th>1</th>\n",
       "      <td>893</td>\n",
       "      <td>1</td>\n",
       "    </tr>\n",
       "    <tr>\n",
       "      <th>2</th>\n",
       "      <td>894</td>\n",
       "      <td>0</td>\n",
       "    </tr>\n",
       "    <tr>\n",
       "      <th>3</th>\n",
       "      <td>895</td>\n",
       "      <td>0</td>\n",
       "    </tr>\n",
       "    <tr>\n",
       "      <th>4</th>\n",
       "      <td>896</td>\n",
       "      <td>0</td>\n",
       "    </tr>\n",
       "  </tbody>\n",
       "</table>\n",
       "</div>"
      ],
      "text/plain": [
       "   PassengerId  Survived\n",
       "0          892         0\n",
       "1          893         1\n",
       "2          894         0\n",
       "3          895         0\n",
       "4          896         0"
      ]
     },
     "execution_count": 26,
     "metadata": {},
     "output_type": "execute_result"
    }
   ],
   "source": [
    "submission_df.head()"
   ]
  },
  {
   "cell_type": "code",
   "execution_count": 27,
   "metadata": {
    "execution": {
     "iopub.execute_input": "2024-02-19T19:13:05.152240Z",
     "iopub.status.busy": "2024-02-19T19:13:05.151731Z",
     "iopub.status.idle": "2024-02-19T19:13:05.379788Z",
     "shell.execute_reply": "2024-02-19T19:13:05.379094Z",
     "shell.execute_reply.started": "2024-02-19T19:13:05.152214Z"
    }
   },
   "outputs": [],
   "source": [
    "submission_df.to_csv(\"titanic_pred_jun30.csv\", index=False)"
   ]
  },
  {
   "cell_type": "code",
   "execution_count": 28,
   "metadata": {
    "execution": {
     "iopub.execute_input": "2024-02-19T19:13:05.381112Z",
     "iopub.status.busy": "2024-02-19T19:13:05.380774Z",
     "iopub.status.idle": "2024-02-19T19:13:05.540627Z",
     "shell.execute_reply": "2024-02-19T19:13:05.539903Z",
     "shell.execute_reply.started": "2024-02-19T19:13:05.381088Z"
    }
   },
   "outputs": [],
   "source": [
    "#This got us a score of about 0.78. "
   ]
  }
 ],
 "metadata": {
  "kernelspec": {
   "display_name": "Python 3 (default)",
   "language": "python",
   "name": "python3"
  },
  "language_info": {
   "codemirror_mode": {
    "name": "ipython",
    "version": 3
   },
   "file_extension": ".py",
   "mimetype": "text/x-python",
   "name": "python",
   "nbconvert_exporter": "python",
   "pygments_lexer": "ipython3",
   "version": "3.7.17"
  },
  "widgets": {
   "application/vnd.jupyter.widget-state+json": {
    "state": {},
    "version_major": 2,
    "version_minor": 0
   }
  }
 },
 "nbformat": 4,
 "nbformat_minor": 4
}
