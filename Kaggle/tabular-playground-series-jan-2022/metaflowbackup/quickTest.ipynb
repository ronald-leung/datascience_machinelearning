{
 "cells": [
  {
   "cell_type": "code",
   "execution_count": 34,
   "id": "41915b71",
   "metadata": {
    "nterop": {
     "id": "20"
    }
   },
   "outputs": [],
   "source": [
    "import pandas as pd"
   ]
  },
  {
   "cell_type": "code",
   "execution_count": 1,
   "id": "e96d55c1",
   "metadata": {
    "nterop": {
     "id": "1"
    }
   },
   "outputs": [],
   "source": [
    "from sklearn.model_selection import ParameterGrid, ParameterSampler\n",
    "\n",
    "parameter_range = {\n",
    "    'n_estimators': range(400, 500),\n",
    "    'learning_rate': [0.1, 0.05],\n",
    "    'max_depth': range(4, 7),\n",
    "}\n",
    "parameter_grid = list(ParameterSampler(parameter_range, n_iter=8))"
   ]
  },
  {
   "cell_type": "code",
   "execution_count": 48,
   "id": "6f1f4535",
   "metadata": {
    "nterop": {
     "id": "21"
    }
   },
   "outputs": [],
   "source": [
    "# all_model_result = [{'index': 0, 'params': {'changepoint_prior_scale': 0.001, \n",
    "#                                             'holidays_prior_scale': 0.01, \n",
    "#                                             'productLine': 'Sweden_KaggleRama_Kaggle Hat', \n",
    "#                                             'seasonality_mode': 'multiplicative', \n",
    "#                                             'seasonality_prior_scale': 0.01}, 'rmse': 118.3657785165167}, \n",
    "#                     {'index': 1, 'params': {'changepoint_prior_scale': 0.5, 'holidays_prior_scale': 0.01, \n",
    "#                                             'productLine': 'Sweden_KaggleRama_Kaggle Hat',\n",
    "#                                             'seasonality_mode': 'multiplicative', \n",
    "#                                             'seasonality_prior_scale': 0.01}, \n",
    "#                      'rmse': 175.5690776173843}]"
   ]
  },
  {
   "cell_type": "code",
   "execution_count": 66,
   "id": "7d7d48c9",
   "metadata": {
    "nterop": {
     "id": "22"
    }
   },
   "outputs": [],
   "source": [
    "all_model_result = [\n",
    "   {\n",
    "      \"index\":0,\n",
    "      \"params\":{\n",
    "         \"changepoint_prior_scale\":0.001,\n",
    "         \"holidays_prior_scale\":0.01,\n",
    "         \"productLine\":\"Sweden_KaggleRama_Kaggle Hat\",\n",
    "         \"seasonality_mode\":\"multiplicative\",\n",
    "         \"seasonality_prior_scale\":0.01\n",
    "      },\n",
    "      \"rmse\":118.3657785165167\n",
    "   },\n",
    "   {\n",
    "      \"index\":1,\n",
    "      \"params\":{\n",
    "         \"changepoint_prior_scale\":0.001,\n",
    "         \"holidays_prior_scale\":0.01,\n",
    "         \"productLine\":\"Finland_KaggleMart_Kaggle Mug\",\n",
    "         \"seasonality_mode\":\"multiplicative\",\n",
    "         \"seasonality_prior_scale\":0.01\n",
    "      },\n",
    "      \"rmse\":36.58484607430182\n",
    "   },\n",
    "   {\n",
    "      \"index\":2,\n",
    "      \"params\":{\n",
    "         \"changepoint_prior_scale\":0.5,\n",
    "         \"holidays_prior_scale\":0.01,\n",
    "         \"productLine\":\"Sweden_KaggleRama_Kaggle Hat\",\n",
    "         \"seasonality_mode\":\"multiplicative\",\n",
    "         \"seasonality_prior_scale\":0.01\n",
    "      },\n",
    "      \"rmse\":175.5690776173843\n",
    "   },\n",
    "   {\n",
    "      \"index\":3,\n",
    "      \"params\":{\n",
    "         \"changepoint_prior_scale\":0.5,\n",
    "         \"holidays_prior_scale\":0.01,\n",
    "         \"productLine\":\"Finland_KaggleMart_Kaggle Mug\",\n",
    "         \"seasonality_mode\":\"multiplicative\",\n",
    "         \"seasonality_prior_scale\":0.01\n",
    "      },\n",
    "      \"rmse\":47.566965736897025\n",
    "   }\n",
    "]\n"
   ]
  },
  {
   "cell_type": "code",
   "execution_count": 67,
   "id": "87008018",
   "metadata": {
    "nterop": {
     "id": "23"
    }
   },
   "outputs": [],
   "source": [
    "rmse_df = pd.DataFrame(all_model_result)"
   ]
  },
  {
   "cell_type": "code",
   "execution_count": 68,
   "id": "05f1efa4",
   "metadata": {
    "nterop": {
     "id": "24"
    }
   },
   "outputs": [],
   "source": [
    "rmse_df['productLine'] = rmse_df['params'].apply(lambda x: x['productLine'])\n",
    "rmse_df['changepoint_prior_scale'] = rmse_df['params'].apply(lambda x: x['changepoint_prior_scale'])\n",
    "rmse_df['holidays_prior_scale'] = rmse_df['params'].apply(lambda x: x['holidays_prior_scale'])\n",
    "rmse_df['seasonality_mode'] = rmse_df['params'].apply(lambda x: x['seasonality_mode'])\n",
    "rmse_df['seasonality_prior_scale'] = rmse_df['params'].apply(lambda x: x['seasonality_prior_scale'])"
   ]
  },
  {
   "cell_type": "code",
   "execution_count": 69,
   "id": "3f7f02ba",
   "metadata": {
    "nterop": {
     "id": "25"
    }
   },
   "outputs": [
    {
     "data": {
      "text/html": [
       "<div>\n",
       "<style scoped>\n",
       "    .dataframe tbody tr th:only-of-type {\n",
       "        vertical-align: middle;\n",
       "    }\n",
       "\n",
       "    .dataframe tbody tr th {\n",
       "        vertical-align: top;\n",
       "    }\n",
       "\n",
       "    .dataframe thead th {\n",
       "        text-align: right;\n",
       "    }\n",
       "</style>\n",
       "<table border=\"1\" class=\"dataframe\">\n",
       "  <thead>\n",
       "    <tr style=\"text-align: right;\">\n",
       "      <th></th>\n",
       "      <th>index</th>\n",
       "      <th>params</th>\n",
       "      <th>rmse</th>\n",
       "      <th>productLine</th>\n",
       "      <th>changepoint_prior_scale</th>\n",
       "      <th>holidays_prior_scale</th>\n",
       "      <th>seasonality_mode</th>\n",
       "      <th>seasonality_prior_scale</th>\n",
       "    </tr>\n",
       "  </thead>\n",
       "  <tbody>\n",
       "    <tr>\n",
       "      <th>0</th>\n",
       "      <td>0</td>\n",
       "      <td>{'changepoint_prior_scale': 0.001, 'holidays_p...</td>\n",
       "      <td>118.365779</td>\n",
       "      <td>Sweden_KaggleRama_Kaggle Hat</td>\n",
       "      <td>0.001</td>\n",
       "      <td>0.01</td>\n",
       "      <td>multiplicative</td>\n",
       "      <td>0.01</td>\n",
       "    </tr>\n",
       "    <tr>\n",
       "      <th>1</th>\n",
       "      <td>1</td>\n",
       "      <td>{'changepoint_prior_scale': 0.001, 'holidays_p...</td>\n",
       "      <td>36.584846</td>\n",
       "      <td>Finland_KaggleMart_Kaggle Mug</td>\n",
       "      <td>0.001</td>\n",
       "      <td>0.01</td>\n",
       "      <td>multiplicative</td>\n",
       "      <td>0.01</td>\n",
       "    </tr>\n",
       "    <tr>\n",
       "      <th>2</th>\n",
       "      <td>2</td>\n",
       "      <td>{'changepoint_prior_scale': 0.5, 'holidays_pri...</td>\n",
       "      <td>175.569078</td>\n",
       "      <td>Sweden_KaggleRama_Kaggle Hat</td>\n",
       "      <td>0.500</td>\n",
       "      <td>0.01</td>\n",
       "      <td>multiplicative</td>\n",
       "      <td>0.01</td>\n",
       "    </tr>\n",
       "    <tr>\n",
       "      <th>3</th>\n",
       "      <td>3</td>\n",
       "      <td>{'changepoint_prior_scale': 0.5, 'holidays_pri...</td>\n",
       "      <td>47.566966</td>\n",
       "      <td>Finland_KaggleMart_Kaggle Mug</td>\n",
       "      <td>0.500</td>\n",
       "      <td>0.01</td>\n",
       "      <td>multiplicative</td>\n",
       "      <td>0.01</td>\n",
       "    </tr>\n",
       "  </tbody>\n",
       "</table>\n",
       "</div>"
      ],
      "text/plain": [
       "   index                                             params        rmse  \\\n",
       "0      0  {'changepoint_prior_scale': 0.001, 'holidays_p...  118.365779   \n",
       "1      1  {'changepoint_prior_scale': 0.001, 'holidays_p...   36.584846   \n",
       "2      2  {'changepoint_prior_scale': 0.5, 'holidays_pri...  175.569078   \n",
       "3      3  {'changepoint_prior_scale': 0.5, 'holidays_pri...   47.566966   \n",
       "\n",
       "                     productLine  changepoint_prior_scale  \\\n",
       "0   Sweden_KaggleRama_Kaggle Hat                    0.001   \n",
       "1  Finland_KaggleMart_Kaggle Mug                    0.001   \n",
       "2   Sweden_KaggleRama_Kaggle Hat                    0.500   \n",
       "3  Finland_KaggleMart_Kaggle Mug                    0.500   \n",
       "\n",
       "   holidays_prior_scale seasonality_mode  seasonality_prior_scale  \n",
       "0                  0.01   multiplicative                     0.01  \n",
       "1                  0.01   multiplicative                     0.01  \n",
       "2                  0.01   multiplicative                     0.01  \n",
       "3                  0.01   multiplicative                     0.01  "
      ]
     },
     "execution_count": 69,
     "metadata": {
      "nterop": {
       "id": "26"
      }
     },
     "output_type": "execute_result"
    }
   ],
   "source": [
    "rmse_df.head()"
   ]
  },
  {
   "cell_type": "code",
   "execution_count": 70,
   "id": "2afe2a00",
   "metadata": {
    "nterop": {
     "id": "27"
    }
   },
   "outputs": [
    {
     "data": {
      "text/html": [
       "<div>\n",
       "<style scoped>\n",
       "    .dataframe tbody tr th:only-of-type {\n",
       "        vertical-align: middle;\n",
       "    }\n",
       "\n",
       "    .dataframe tbody tr th {\n",
       "        vertical-align: top;\n",
       "    }\n",
       "\n",
       "    .dataframe thead th {\n",
       "        text-align: right;\n",
       "    }\n",
       "</style>\n",
       "<table border=\"1\" class=\"dataframe\">\n",
       "  <thead>\n",
       "    <tr style=\"text-align: right;\">\n",
       "      <th></th>\n",
       "      <th>index</th>\n",
       "      <th>params</th>\n",
       "      <th>rmse</th>\n",
       "      <th>productLine</th>\n",
       "      <th>changepoint_prior_scale</th>\n",
       "      <th>holidays_prior_scale</th>\n",
       "      <th>seasonality_mode</th>\n",
       "      <th>seasonality_prior_scale</th>\n",
       "    </tr>\n",
       "  </thead>\n",
       "  <tbody>\n",
       "    <tr>\n",
       "      <th>1</th>\n",
       "      <td>1</td>\n",
       "      <td>{'changepoint_prior_scale': 0.001, 'holidays_p...</td>\n",
       "      <td>36.584846</td>\n",
       "      <td>Finland_KaggleMart_Kaggle Mug</td>\n",
       "      <td>0.001</td>\n",
       "      <td>0.01</td>\n",
       "      <td>multiplicative</td>\n",
       "      <td>0.01</td>\n",
       "    </tr>\n",
       "    <tr>\n",
       "      <th>0</th>\n",
       "      <td>0</td>\n",
       "      <td>{'changepoint_prior_scale': 0.001, 'holidays_p...</td>\n",
       "      <td>118.365779</td>\n",
       "      <td>Sweden_KaggleRama_Kaggle Hat</td>\n",
       "      <td>0.001</td>\n",
       "      <td>0.01</td>\n",
       "      <td>multiplicative</td>\n",
       "      <td>0.01</td>\n",
       "    </tr>\n",
       "  </tbody>\n",
       "</table>\n",
       "</div>"
      ],
      "text/plain": [
       "   index                                             params        rmse  \\\n",
       "1      1  {'changepoint_prior_scale': 0.001, 'holidays_p...   36.584846   \n",
       "0      0  {'changepoint_prior_scale': 0.001, 'holidays_p...  118.365779   \n",
       "\n",
       "                     productLine  changepoint_prior_scale  \\\n",
       "1  Finland_KaggleMart_Kaggle Mug                    0.001   \n",
       "0   Sweden_KaggleRama_Kaggle Hat                    0.001   \n",
       "\n",
       "   holidays_prior_scale seasonality_mode  seasonality_prior_scale  \n",
       "1                  0.01   multiplicative                     0.01  \n",
       "0                  0.01   multiplicative                     0.01  "
      ]
     },
     "execution_count": 70,
     "metadata": {
      "nterop": {
       "id": "28"
      }
     },
     "output_type": "execute_result"
    }
   ],
   "source": [
    "best_model = rmse_df.loc[rmse_df.groupby('productLine').rmse.idxmin()]\n",
    "best_model"
   ]
  },
  {
   "cell_type": "code",
   "execution_count": 71,
   "id": "29182b96",
   "metadata": {
    "nterop": {
     "id": "29"
    }
   },
   "outputs": [],
   "source": [
    "# Regenerate input values\n",
    "predict_param_range = best_model[['productLine', 'changepoint_prior_scale', 'holidays_prior_scale', 'seasonality_mode', 'seasonality_prior_scale']].to_dict('records')\n",
    "\n"
   ]
  },
  {
   "cell_type": "code",
   "execution_count": 72,
   "id": "97628b2d",
   "metadata": {
    "nterop": {
     "id": "30"
    }
   },
   "outputs": [
    {
     "data": {
      "text/plain": [
       "[{'productLine': 'Finland_KaggleMart_Kaggle Mug',\n",
       "  'changepoint_prior_scale': 0.001,\n",
       "  'holidays_prior_scale': 0.01,\n",
       "  'seasonality_mode': 'multiplicative',\n",
       "  'seasonality_prior_scale': 0.01},\n",
       " {'productLine': 'Sweden_KaggleRama_Kaggle Hat',\n",
       "  'changepoint_prior_scale': 0.001,\n",
       "  'holidays_prior_scale': 0.01,\n",
       "  'seasonality_mode': 'multiplicative',\n",
       "  'seasonality_prior_scale': 0.01}]"
      ]
     },
     "execution_count": 72,
     "metadata": {
      "nterop": {
       "id": "31"
      }
     },
     "output_type": "execute_result"
    }
   ],
   "source": [
    "predict_param_range"
   ]
  },
  {
   "cell_type": "code",
   "execution_count": 46,
   "id": "bec0780f",
   "metadata": {
    "nterop": {
     "id": "32"
    }
   },
   "outputs": [
    {
     "data": {
      "text/plain": [
       "productLine\n",
       "Sweden_KaggleRama_Kaggle Hat    118.365779\n",
       "Name: rmse, dtype: float64"
      ]
     },
     "execution_count": 46,
     "metadata": {
      "nterop": {
       "id": "33"
      }
     },
     "output_type": "execute_result"
    }
   ],
   "source": [
    "rmse_df.groupby('productLine')['rmse'].min()"
   ]
  },
  {
   "cell_type": "code",
   "execution_count": null,
   "id": "2618f493",
   "metadata": {
    "nterop": {
     "id": "34"
    }
   },
   "outputs": [],
   "source": [
    "rmse_df."
   ]
  },
  {
   "cell_type": "code",
   "execution_count": 24,
   "id": "623c16aa",
   "metadata": {
    "nterop": {
     "id": "2"
    }
   },
   "outputs": [],
   "source": [
    "parameter_range = {  \n",
    "    'changepoint_prior_scale': [0.001, 0.5],\n",
    "    'seasonality_prior_scale': [0.01],\n",
    "    'holidays_prior_scale': [0.01],\n",
    "    'seasonality_mode': ['multiplicative'],\n",
    "    'productLine': ['Sweden_KaggleRama_Kaggle Hat']\n",
    "}\n",
    "\n",
    "parameter_grid = list(ParameterGrid(parameter_range))"
   ]
  },
  {
   "cell_type": "code",
   "execution_count": 25,
   "id": "90ae918a",
   "metadata": {
    "nterop": {
     "id": "3"
    }
   },
   "outputs": [
    {
     "data": {
      "text/plain": [
       "[{'changepoint_prior_scale': 0.001,\n",
       "  'holidays_prior_scale': 0.01,\n",
       "  'productLine': 'Sweden_KaggleRama_Kaggle Hat',\n",
       "  'seasonality_mode': 'multiplicative',\n",
       "  'seasonality_prior_scale': 0.01},\n",
       " {'changepoint_prior_scale': 0.5,\n",
       "  'holidays_prior_scale': 0.01,\n",
       "  'productLine': 'Sweden_KaggleRama_Kaggle Hat',\n",
       "  'seasonality_mode': 'multiplicative',\n",
       "  'seasonality_prior_scale': 0.01}]"
      ]
     },
     "execution_count": 25,
     "metadata": {
      "nterop": {
       "id": "4"
      }
     },
     "output_type": "execute_result"
    }
   ],
   "source": [
    "parameter_grid"
   ]
  },
  {
   "cell_type": "code",
   "execution_count": 26,
   "id": "b67e5dbe",
   "metadata": {
    "nterop": {
     "id": "5"
    }
   },
   "outputs": [],
   "source": [
    "test1 = parameter_grid[0]"
   ]
  },
  {
   "cell_type": "code",
   "execution_count": 27,
   "id": "dfc28184",
   "metadata": {
    "nterop": {
     "id": "6"
    }
   },
   "outputs": [],
   "source": [
    "test2 = test1.copy()"
   ]
  },
  {
   "cell_type": "code",
   "execution_count": 28,
   "id": "716ed1a5",
   "metadata": {
    "nterop": {
     "id": "7"
    }
   },
   "outputs": [
    {
     "data": {
      "text/plain": [
       "{'changepoint_prior_scale': 0.001,\n",
       " 'holidays_prior_scale': 0.01,\n",
       " 'productLine': 'Sweden_KaggleRama_Kaggle Hat',\n",
       " 'seasonality_mode': 'multiplicative',\n",
       " 'seasonality_prior_scale': 0.01}"
      ]
     },
     "execution_count": 28,
     "metadata": {
      "nterop": {
       "id": "8"
      }
     },
     "output_type": "execute_result"
    }
   ],
   "source": [
    "test2"
   ]
  },
  {
   "cell_type": "code",
   "execution_count": 32,
   "id": "7bc22a20",
   "metadata": {
    "nterop": {
     "id": "9"
    }
   },
   "outputs": [
    {
     "data": {
      "text/plain": [
       "{'changepoint_prior_scale': 0.001,\n",
       " 'holidays_prior_scale': 0.01,\n",
       " 'seasonality_mode': 'multiplicative',\n",
       " 'seasonality_prior_scale': 0.01}"
      ]
     },
     "execution_count": 32,
     "metadata": {
      "nterop": {
       "id": "10"
      }
     },
     "output_type": "execute_result"
    }
   ],
   "source": [
    "test2.pop('productLine')\n",
    "test2"
   ]
  },
  {
   "cell_type": "code",
   "execution_count": 29,
   "id": "58b6d9b6",
   "metadata": {
    "nterop": {
     "id": "11"
    }
   },
   "outputs": [
    {
     "name": "stdout",
     "output_type": "stream",
     "text": [
      "Sweden_KaggleRama_Kaggle Hat\n",
      "{'changepoint_prior_scale': 0.001, 'holidays_prior_scale': 0.01, 'seasonality_mode': 'multiplicative', 'seasonality_prior_scale': 0.01}\n"
     ]
    }
   ],
   "source": [
    "test1ProdLine = test1.pop('productLine')\n",
    "print(test1ProdLine)\n",
    "print(test1)"
   ]
  },
  {
   "cell_type": "code",
   "execution_count": 30,
   "id": "427a9050",
   "metadata": {
    "nterop": {
     "id": "12"
    }
   },
   "outputs": [
    {
     "data": {
      "text/plain": [
       "{'changepoint_prior_scale': 0.001,\n",
       " 'holidays_prior_scale': 0.01,\n",
       " 'seasonality_mode': 'multiplicative',\n",
       " 'seasonality_prior_scale': 0.01}"
      ]
     },
     "execution_count": 30,
     "metadata": {
      "nterop": {
       "id": "13"
      }
     },
     "output_type": "execute_result"
    }
   ],
   "source": [
    "test1"
   ]
  },
  {
   "cell_type": "code",
   "execution_count": 31,
   "id": "0ba781d5",
   "metadata": {
    "nterop": {
     "id": "14"
    }
   },
   "outputs": [
    {
     "data": {
      "text/plain": [
       "{'changepoint_prior_scale': 0.001,\n",
       " 'holidays_prior_scale': 0.01,\n",
       " 'productLine': 'Sweden_KaggleRama_Kaggle Hat',\n",
       " 'seasonality_mode': 'multiplicative',\n",
       " 'seasonality_prior_scale': 0.01}"
      ]
     },
     "execution_count": 31,
     "metadata": {
      "nterop": {
       "id": "15"
      }
     },
     "output_type": "execute_result"
    }
   ],
   "source": [
    "test2"
   ]
  },
  {
   "cell_type": "code",
   "execution_count": 4,
   "id": "04e5c9ad",
   "metadata": {
    "nterop": {
     "id": "16"
    }
   },
   "outputs": [],
   "source": [
    "grid = list(ParameterGrid(parameter_range))"
   ]
  },
  {
   "cell_type": "code",
   "execution_count": 5,
   "id": "b55488c8",
   "metadata": {
    "nterop": {
     "id": "17"
    }
   },
   "outputs": [
    {
     "data": {
      "text/plain": [
       "[{'learning_rate': 0.1, 'max_depth': 4, 'n_estimators': 400},\n",
       " {'learning_rate': 0.1, 'max_depth': 4, 'n_estimators': 401},\n",
       " {'learning_rate': 0.1, 'max_depth': 4, 'n_estimators': 402},\n",
       " {'learning_rate': 0.1, 'max_depth': 4, 'n_estimators': 403},\n",
       " {'learning_rate': 0.1, 'max_depth': 4, 'n_estimators': 404},\n",
       " {'learning_rate': 0.1, 'max_depth': 4, 'n_estimators': 405},\n",
       " {'learning_rate': 0.1, 'max_depth': 4, 'n_estimators': 406},\n",
       " {'learning_rate': 0.1, 'max_depth': 4, 'n_estimators': 407},\n",
       " {'learning_rate': 0.1, 'max_depth': 4, 'n_estimators': 408},\n",
       " {'learning_rate': 0.1, 'max_depth': 4, 'n_estimators': 409},\n",
       " {'learning_rate': 0.1, 'max_depth': 4, 'n_estimators': 410},\n",
       " {'learning_rate': 0.1, 'max_depth': 4, 'n_estimators': 411},\n",
       " {'learning_rate': 0.1, 'max_depth': 4, 'n_estimators': 412},\n",
       " {'learning_rate': 0.1, 'max_depth': 4, 'n_estimators': 413},\n",
       " {'learning_rate': 0.1, 'max_depth': 4, 'n_estimators': 414},\n",
       " {'learning_rate': 0.1, 'max_depth': 4, 'n_estimators': 415},\n",
       " {'learning_rate': 0.1, 'max_depth': 4, 'n_estimators': 416},\n",
       " {'learning_rate': 0.1, 'max_depth': 4, 'n_estimators': 417},\n",
       " {'learning_rate': 0.1, 'max_depth': 4, 'n_estimators': 418},\n",
       " {'learning_rate': 0.1, 'max_depth': 4, 'n_estimators': 419},\n",
       " {'learning_rate': 0.1, 'max_depth': 4, 'n_estimators': 420},\n",
       " {'learning_rate': 0.1, 'max_depth': 4, 'n_estimators': 421},\n",
       " {'learning_rate': 0.1, 'max_depth': 4, 'n_estimators': 422},\n",
       " {'learning_rate': 0.1, 'max_depth': 4, 'n_estimators': 423},\n",
       " {'learning_rate': 0.1, 'max_depth': 4, 'n_estimators': 424},\n",
       " {'learning_rate': 0.1, 'max_depth': 4, 'n_estimators': 425},\n",
       " {'learning_rate': 0.1, 'max_depth': 4, 'n_estimators': 426},\n",
       " {'learning_rate': 0.1, 'max_depth': 4, 'n_estimators': 427},\n",
       " {'learning_rate': 0.1, 'max_depth': 4, 'n_estimators': 428},\n",
       " {'learning_rate': 0.1, 'max_depth': 4, 'n_estimators': 429},\n",
       " {'learning_rate': 0.1, 'max_depth': 4, 'n_estimators': 430},\n",
       " {'learning_rate': 0.1, 'max_depth': 4, 'n_estimators': 431},\n",
       " {'learning_rate': 0.1, 'max_depth': 4, 'n_estimators': 432},\n",
       " {'learning_rate': 0.1, 'max_depth': 4, 'n_estimators': 433},\n",
       " {'learning_rate': 0.1, 'max_depth': 4, 'n_estimators': 434},\n",
       " {'learning_rate': 0.1, 'max_depth': 4, 'n_estimators': 435},\n",
       " {'learning_rate': 0.1, 'max_depth': 4, 'n_estimators': 436},\n",
       " {'learning_rate': 0.1, 'max_depth': 4, 'n_estimators': 437},\n",
       " {'learning_rate': 0.1, 'max_depth': 4, 'n_estimators': 438},\n",
       " {'learning_rate': 0.1, 'max_depth': 4, 'n_estimators': 439},\n",
       " {'learning_rate': 0.1, 'max_depth': 4, 'n_estimators': 440},\n",
       " {'learning_rate': 0.1, 'max_depth': 4, 'n_estimators': 441},\n",
       " {'learning_rate': 0.1, 'max_depth': 4, 'n_estimators': 442},\n",
       " {'learning_rate': 0.1, 'max_depth': 4, 'n_estimators': 443},\n",
       " {'learning_rate': 0.1, 'max_depth': 4, 'n_estimators': 444},\n",
       " {'learning_rate': 0.1, 'max_depth': 4, 'n_estimators': 445},\n",
       " {'learning_rate': 0.1, 'max_depth': 4, 'n_estimators': 446},\n",
       " {'learning_rate': 0.1, 'max_depth': 4, 'n_estimators': 447},\n",
       " {'learning_rate': 0.1, 'max_depth': 4, 'n_estimators': 448},\n",
       " {'learning_rate': 0.1, 'max_depth': 4, 'n_estimators': 449},\n",
       " {'learning_rate': 0.1, 'max_depth': 4, 'n_estimators': 450},\n",
       " {'learning_rate': 0.1, 'max_depth': 4, 'n_estimators': 451},\n",
       " {'learning_rate': 0.1, 'max_depth': 4, 'n_estimators': 452},\n",
       " {'learning_rate': 0.1, 'max_depth': 4, 'n_estimators': 453},\n",
       " {'learning_rate': 0.1, 'max_depth': 4, 'n_estimators': 454},\n",
       " {'learning_rate': 0.1, 'max_depth': 4, 'n_estimators': 455},\n",
       " {'learning_rate': 0.1, 'max_depth': 4, 'n_estimators': 456},\n",
       " {'learning_rate': 0.1, 'max_depth': 4, 'n_estimators': 457},\n",
       " {'learning_rate': 0.1, 'max_depth': 4, 'n_estimators': 458},\n",
       " {'learning_rate': 0.1, 'max_depth': 4, 'n_estimators': 459},\n",
       " {'learning_rate': 0.1, 'max_depth': 4, 'n_estimators': 460},\n",
       " {'learning_rate': 0.1, 'max_depth': 4, 'n_estimators': 461},\n",
       " {'learning_rate': 0.1, 'max_depth': 4, 'n_estimators': 462},\n",
       " {'learning_rate': 0.1, 'max_depth': 4, 'n_estimators': 463},\n",
       " {'learning_rate': 0.1, 'max_depth': 4, 'n_estimators': 464},\n",
       " {'learning_rate': 0.1, 'max_depth': 4, 'n_estimators': 465},\n",
       " {'learning_rate': 0.1, 'max_depth': 4, 'n_estimators': 466},\n",
       " {'learning_rate': 0.1, 'max_depth': 4, 'n_estimators': 467},\n",
       " {'learning_rate': 0.1, 'max_depth': 4, 'n_estimators': 468},\n",
       " {'learning_rate': 0.1, 'max_depth': 4, 'n_estimators': 469},\n",
       " {'learning_rate': 0.1, 'max_depth': 4, 'n_estimators': 470},\n",
       " {'learning_rate': 0.1, 'max_depth': 4, 'n_estimators': 471},\n",
       " {'learning_rate': 0.1, 'max_depth': 4, 'n_estimators': 472},\n",
       " {'learning_rate': 0.1, 'max_depth': 4, 'n_estimators': 473},\n",
       " {'learning_rate': 0.1, 'max_depth': 4, 'n_estimators': 474},\n",
       " {'learning_rate': 0.1, 'max_depth': 4, 'n_estimators': 475},\n",
       " {'learning_rate': 0.1, 'max_depth': 4, 'n_estimators': 476},\n",
       " {'learning_rate': 0.1, 'max_depth': 4, 'n_estimators': 477},\n",
       " {'learning_rate': 0.1, 'max_depth': 4, 'n_estimators': 478},\n",
       " {'learning_rate': 0.1, 'max_depth': 4, 'n_estimators': 479},\n",
       " {'learning_rate': 0.1, 'max_depth': 4, 'n_estimators': 480},\n",
       " {'learning_rate': 0.1, 'max_depth': 4, 'n_estimators': 481},\n",
       " {'learning_rate': 0.1, 'max_depth': 4, 'n_estimators': 482},\n",
       " {'learning_rate': 0.1, 'max_depth': 4, 'n_estimators': 483},\n",
       " {'learning_rate': 0.1, 'max_depth': 4, 'n_estimators': 484},\n",
       " {'learning_rate': 0.1, 'max_depth': 4, 'n_estimators': 485},\n",
       " {'learning_rate': 0.1, 'max_depth': 4, 'n_estimators': 486},\n",
       " {'learning_rate': 0.1, 'max_depth': 4, 'n_estimators': 487},\n",
       " {'learning_rate': 0.1, 'max_depth': 4, 'n_estimators': 488},\n",
       " {'learning_rate': 0.1, 'max_depth': 4, 'n_estimators': 489},\n",
       " {'learning_rate': 0.1, 'max_depth': 4, 'n_estimators': 490},\n",
       " {'learning_rate': 0.1, 'max_depth': 4, 'n_estimators': 491},\n",
       " {'learning_rate': 0.1, 'max_depth': 4, 'n_estimators': 492},\n",
       " {'learning_rate': 0.1, 'max_depth': 4, 'n_estimators': 493},\n",
       " {'learning_rate': 0.1, 'max_depth': 4, 'n_estimators': 494},\n",
       " {'learning_rate': 0.1, 'max_depth': 4, 'n_estimators': 495},\n",
       " {'learning_rate': 0.1, 'max_depth': 4, 'n_estimators': 496},\n",
       " {'learning_rate': 0.1, 'max_depth': 4, 'n_estimators': 497},\n",
       " {'learning_rate': 0.1, 'max_depth': 4, 'n_estimators': 498},\n",
       " {'learning_rate': 0.1, 'max_depth': 4, 'n_estimators': 499},\n",
       " {'learning_rate': 0.1, 'max_depth': 5, 'n_estimators': 400},\n",
       " {'learning_rate': 0.1, 'max_depth': 5, 'n_estimators': 401},\n",
       " {'learning_rate': 0.1, 'max_depth': 5, 'n_estimators': 402},\n",
       " {'learning_rate': 0.1, 'max_depth': 5, 'n_estimators': 403},\n",
       " {'learning_rate': 0.1, 'max_depth': 5, 'n_estimators': 404},\n",
       " {'learning_rate': 0.1, 'max_depth': 5, 'n_estimators': 405},\n",
       " {'learning_rate': 0.1, 'max_depth': 5, 'n_estimators': 406},\n",
       " {'learning_rate': 0.1, 'max_depth': 5, 'n_estimators': 407},\n",
       " {'learning_rate': 0.1, 'max_depth': 5, 'n_estimators': 408},\n",
       " {'learning_rate': 0.1, 'max_depth': 5, 'n_estimators': 409},\n",
       " {'learning_rate': 0.1, 'max_depth': 5, 'n_estimators': 410},\n",
       " {'learning_rate': 0.1, 'max_depth': 5, 'n_estimators': 411},\n",
       " {'learning_rate': 0.1, 'max_depth': 5, 'n_estimators': 412},\n",
       " {'learning_rate': 0.1, 'max_depth': 5, 'n_estimators': 413},\n",
       " {'learning_rate': 0.1, 'max_depth': 5, 'n_estimators': 414},\n",
       " {'learning_rate': 0.1, 'max_depth': 5, 'n_estimators': 415},\n",
       " {'learning_rate': 0.1, 'max_depth': 5, 'n_estimators': 416},\n",
       " {'learning_rate': 0.1, 'max_depth': 5, 'n_estimators': 417},\n",
       " {'learning_rate': 0.1, 'max_depth': 5, 'n_estimators': 418},\n",
       " {'learning_rate': 0.1, 'max_depth': 5, 'n_estimators': 419},\n",
       " {'learning_rate': 0.1, 'max_depth': 5, 'n_estimators': 420},\n",
       " {'learning_rate': 0.1, 'max_depth': 5, 'n_estimators': 421},\n",
       " {'learning_rate': 0.1, 'max_depth': 5, 'n_estimators': 422},\n",
       " {'learning_rate': 0.1, 'max_depth': 5, 'n_estimators': 423},\n",
       " {'learning_rate': 0.1, 'max_depth': 5, 'n_estimators': 424},\n",
       " {'learning_rate': 0.1, 'max_depth': 5, 'n_estimators': 425},\n",
       " {'learning_rate': 0.1, 'max_depth': 5, 'n_estimators': 426},\n",
       " {'learning_rate': 0.1, 'max_depth': 5, 'n_estimators': 427},\n",
       " {'learning_rate': 0.1, 'max_depth': 5, 'n_estimators': 428},\n",
       " {'learning_rate': 0.1, 'max_depth': 5, 'n_estimators': 429},\n",
       " {'learning_rate': 0.1, 'max_depth': 5, 'n_estimators': 430},\n",
       " {'learning_rate': 0.1, 'max_depth': 5, 'n_estimators': 431},\n",
       " {'learning_rate': 0.1, 'max_depth': 5, 'n_estimators': 432},\n",
       " {'learning_rate': 0.1, 'max_depth': 5, 'n_estimators': 433},\n",
       " {'learning_rate': 0.1, 'max_depth': 5, 'n_estimators': 434},\n",
       " {'learning_rate': 0.1, 'max_depth': 5, 'n_estimators': 435},\n",
       " {'learning_rate': 0.1, 'max_depth': 5, 'n_estimators': 436},\n",
       " {'learning_rate': 0.1, 'max_depth': 5, 'n_estimators': 437},\n",
       " {'learning_rate': 0.1, 'max_depth': 5, 'n_estimators': 438},\n",
       " {'learning_rate': 0.1, 'max_depth': 5, 'n_estimators': 439},\n",
       " {'learning_rate': 0.1, 'max_depth': 5, 'n_estimators': 440},\n",
       " {'learning_rate': 0.1, 'max_depth': 5, 'n_estimators': 441},\n",
       " {'learning_rate': 0.1, 'max_depth': 5, 'n_estimators': 442},\n",
       " {'learning_rate': 0.1, 'max_depth': 5, 'n_estimators': 443},\n",
       " {'learning_rate': 0.1, 'max_depth': 5, 'n_estimators': 444},\n",
       " {'learning_rate': 0.1, 'max_depth': 5, 'n_estimators': 445},\n",
       " {'learning_rate': 0.1, 'max_depth': 5, 'n_estimators': 446},\n",
       " {'learning_rate': 0.1, 'max_depth': 5, 'n_estimators': 447},\n",
       " {'learning_rate': 0.1, 'max_depth': 5, 'n_estimators': 448},\n",
       " {'learning_rate': 0.1, 'max_depth': 5, 'n_estimators': 449},\n",
       " {'learning_rate': 0.1, 'max_depth': 5, 'n_estimators': 450},\n",
       " {'learning_rate': 0.1, 'max_depth': 5, 'n_estimators': 451},\n",
       " {'learning_rate': 0.1, 'max_depth': 5, 'n_estimators': 452},\n",
       " {'learning_rate': 0.1, 'max_depth': 5, 'n_estimators': 453},\n",
       " {'learning_rate': 0.1, 'max_depth': 5, 'n_estimators': 454},\n",
       " {'learning_rate': 0.1, 'max_depth': 5, 'n_estimators': 455},\n",
       " {'learning_rate': 0.1, 'max_depth': 5, 'n_estimators': 456},\n",
       " {'learning_rate': 0.1, 'max_depth': 5, 'n_estimators': 457},\n",
       " {'learning_rate': 0.1, 'max_depth': 5, 'n_estimators': 458},\n",
       " {'learning_rate': 0.1, 'max_depth': 5, 'n_estimators': 459},\n",
       " {'learning_rate': 0.1, 'max_depth': 5, 'n_estimators': 460},\n",
       " {'learning_rate': 0.1, 'max_depth': 5, 'n_estimators': 461},\n",
       " {'learning_rate': 0.1, 'max_depth': 5, 'n_estimators': 462},\n",
       " {'learning_rate': 0.1, 'max_depth': 5, 'n_estimators': 463},\n",
       " {'learning_rate': 0.1, 'max_depth': 5, 'n_estimators': 464},\n",
       " {'learning_rate': 0.1, 'max_depth': 5, 'n_estimators': 465},\n",
       " {'learning_rate': 0.1, 'max_depth': 5, 'n_estimators': 466},\n",
       " {'learning_rate': 0.1, 'max_depth': 5, 'n_estimators': 467},\n",
       " {'learning_rate': 0.1, 'max_depth': 5, 'n_estimators': 468},\n",
       " {'learning_rate': 0.1, 'max_depth': 5, 'n_estimators': 469},\n",
       " {'learning_rate': 0.1, 'max_depth': 5, 'n_estimators': 470},\n",
       " {'learning_rate': 0.1, 'max_depth': 5, 'n_estimators': 471},\n",
       " {'learning_rate': 0.1, 'max_depth': 5, 'n_estimators': 472},\n",
       " {'learning_rate': 0.1, 'max_depth': 5, 'n_estimators': 473},\n",
       " {'learning_rate': 0.1, 'max_depth': 5, 'n_estimators': 474},\n",
       " {'learning_rate': 0.1, 'max_depth': 5, 'n_estimators': 475},\n",
       " {'learning_rate': 0.1, 'max_depth': 5, 'n_estimators': 476},\n",
       " {'learning_rate': 0.1, 'max_depth': 5, 'n_estimators': 477},\n",
       " {'learning_rate': 0.1, 'max_depth': 5, 'n_estimators': 478},\n",
       " {'learning_rate': 0.1, 'max_depth': 5, 'n_estimators': 479},\n",
       " {'learning_rate': 0.1, 'max_depth': 5, 'n_estimators': 480},\n",
       " {'learning_rate': 0.1, 'max_depth': 5, 'n_estimators': 481},\n",
       " {'learning_rate': 0.1, 'max_depth': 5, 'n_estimators': 482},\n",
       " {'learning_rate': 0.1, 'max_depth': 5, 'n_estimators': 483},\n",
       " {'learning_rate': 0.1, 'max_depth': 5, 'n_estimators': 484},\n",
       " {'learning_rate': 0.1, 'max_depth': 5, 'n_estimators': 485},\n",
       " {'learning_rate': 0.1, 'max_depth': 5, 'n_estimators': 486},\n",
       " {'learning_rate': 0.1, 'max_depth': 5, 'n_estimators': 487},\n",
       " {'learning_rate': 0.1, 'max_depth': 5, 'n_estimators': 488},\n",
       " {'learning_rate': 0.1, 'max_depth': 5, 'n_estimators': 489},\n",
       " {'learning_rate': 0.1, 'max_depth': 5, 'n_estimators': 490},\n",
       " {'learning_rate': 0.1, 'max_depth': 5, 'n_estimators': 491},\n",
       " {'learning_rate': 0.1, 'max_depth': 5, 'n_estimators': 492},\n",
       " {'learning_rate': 0.1, 'max_depth': 5, 'n_estimators': 493},\n",
       " {'learning_rate': 0.1, 'max_depth': 5, 'n_estimators': 494},\n",
       " {'learning_rate': 0.1, 'max_depth': 5, 'n_estimators': 495},\n",
       " {'learning_rate': 0.1, 'max_depth': 5, 'n_estimators': 496},\n",
       " {'learning_rate': 0.1, 'max_depth': 5, 'n_estimators': 497},\n",
       " {'learning_rate': 0.1, 'max_depth': 5, 'n_estimators': 498},\n",
       " {'learning_rate': 0.1, 'max_depth': 5, 'n_estimators': 499},\n",
       " {'learning_rate': 0.1, 'max_depth': 6, 'n_estimators': 400},\n",
       " {'learning_rate': 0.1, 'max_depth': 6, 'n_estimators': 401},\n",
       " {'learning_rate': 0.1, 'max_depth': 6, 'n_estimators': 402},\n",
       " {'learning_rate': 0.1, 'max_depth': 6, 'n_estimators': 403},\n",
       " {'learning_rate': 0.1, 'max_depth': 6, 'n_estimators': 404},\n",
       " {'learning_rate': 0.1, 'max_depth': 6, 'n_estimators': 405},\n",
       " {'learning_rate': 0.1, 'max_depth': 6, 'n_estimators': 406},\n",
       " {'learning_rate': 0.1, 'max_depth': 6, 'n_estimators': 407},\n",
       " {'learning_rate': 0.1, 'max_depth': 6, 'n_estimators': 408},\n",
       " {'learning_rate': 0.1, 'max_depth': 6, 'n_estimators': 409},\n",
       " {'learning_rate': 0.1, 'max_depth': 6, 'n_estimators': 410},\n",
       " {'learning_rate': 0.1, 'max_depth': 6, 'n_estimators': 411},\n",
       " {'learning_rate': 0.1, 'max_depth': 6, 'n_estimators': 412},\n",
       " {'learning_rate': 0.1, 'max_depth': 6, 'n_estimators': 413},\n",
       " {'learning_rate': 0.1, 'max_depth': 6, 'n_estimators': 414},\n",
       " {'learning_rate': 0.1, 'max_depth': 6, 'n_estimators': 415},\n",
       " {'learning_rate': 0.1, 'max_depth': 6, 'n_estimators': 416},\n",
       " {'learning_rate': 0.1, 'max_depth': 6, 'n_estimators': 417},\n",
       " {'learning_rate': 0.1, 'max_depth': 6, 'n_estimators': 418},\n",
       " {'learning_rate': 0.1, 'max_depth': 6, 'n_estimators': 419},\n",
       " {'learning_rate': 0.1, 'max_depth': 6, 'n_estimators': 420},\n",
       " {'learning_rate': 0.1, 'max_depth': 6, 'n_estimators': 421},\n",
       " {'learning_rate': 0.1, 'max_depth': 6, 'n_estimators': 422},\n",
       " {'learning_rate': 0.1, 'max_depth': 6, 'n_estimators': 423},\n",
       " {'learning_rate': 0.1, 'max_depth': 6, 'n_estimators': 424},\n",
       " {'learning_rate': 0.1, 'max_depth': 6, 'n_estimators': 425},\n",
       " {'learning_rate': 0.1, 'max_depth': 6, 'n_estimators': 426},\n",
       " {'learning_rate': 0.1, 'max_depth': 6, 'n_estimators': 427},\n",
       " {'learning_rate': 0.1, 'max_depth': 6, 'n_estimators': 428},\n",
       " {'learning_rate': 0.1, 'max_depth': 6, 'n_estimators': 429},\n",
       " {'learning_rate': 0.1, 'max_depth': 6, 'n_estimators': 430},\n",
       " {'learning_rate': 0.1, 'max_depth': 6, 'n_estimators': 431},\n",
       " {'learning_rate': 0.1, 'max_depth': 6, 'n_estimators': 432},\n",
       " {'learning_rate': 0.1, 'max_depth': 6, 'n_estimators': 433},\n",
       " {'learning_rate': 0.1, 'max_depth': 6, 'n_estimators': 434},\n",
       " {'learning_rate': 0.1, 'max_depth': 6, 'n_estimators': 435},\n",
       " {'learning_rate': 0.1, 'max_depth': 6, 'n_estimators': 436},\n",
       " {'learning_rate': 0.1, 'max_depth': 6, 'n_estimators': 437},\n",
       " {'learning_rate': 0.1, 'max_depth': 6, 'n_estimators': 438},\n",
       " {'learning_rate': 0.1, 'max_depth': 6, 'n_estimators': 439},\n",
       " {'learning_rate': 0.1, 'max_depth': 6, 'n_estimators': 440},\n",
       " {'learning_rate': 0.1, 'max_depth': 6, 'n_estimators': 441},\n",
       " {'learning_rate': 0.1, 'max_depth': 6, 'n_estimators': 442},\n",
       " {'learning_rate': 0.1, 'max_depth': 6, 'n_estimators': 443},\n",
       " {'learning_rate': 0.1, 'max_depth': 6, 'n_estimators': 444},\n",
       " {'learning_rate': 0.1, 'max_depth': 6, 'n_estimators': 445},\n",
       " {'learning_rate': 0.1, 'max_depth': 6, 'n_estimators': 446},\n",
       " {'learning_rate': 0.1, 'max_depth': 6, 'n_estimators': 447},\n",
       " {'learning_rate': 0.1, 'max_depth': 6, 'n_estimators': 448},\n",
       " {'learning_rate': 0.1, 'max_depth': 6, 'n_estimators': 449},\n",
       " {'learning_rate': 0.1, 'max_depth': 6, 'n_estimators': 450},\n",
       " {'learning_rate': 0.1, 'max_depth': 6, 'n_estimators': 451},\n",
       " {'learning_rate': 0.1, 'max_depth': 6, 'n_estimators': 452},\n",
       " {'learning_rate': 0.1, 'max_depth': 6, 'n_estimators': 453},\n",
       " {'learning_rate': 0.1, 'max_depth': 6, 'n_estimators': 454},\n",
       " {'learning_rate': 0.1, 'max_depth': 6, 'n_estimators': 455},\n",
       " {'learning_rate': 0.1, 'max_depth': 6, 'n_estimators': 456},\n",
       " {'learning_rate': 0.1, 'max_depth': 6, 'n_estimators': 457},\n",
       " {'learning_rate': 0.1, 'max_depth': 6, 'n_estimators': 458},\n",
       " {'learning_rate': 0.1, 'max_depth': 6, 'n_estimators': 459},\n",
       " {'learning_rate': 0.1, 'max_depth': 6, 'n_estimators': 460},\n",
       " {'learning_rate': 0.1, 'max_depth': 6, 'n_estimators': 461},\n",
       " {'learning_rate': 0.1, 'max_depth': 6, 'n_estimators': 462},\n",
       " {'learning_rate': 0.1, 'max_depth': 6, 'n_estimators': 463},\n",
       " {'learning_rate': 0.1, 'max_depth': 6, 'n_estimators': 464},\n",
       " {'learning_rate': 0.1, 'max_depth': 6, 'n_estimators': 465},\n",
       " {'learning_rate': 0.1, 'max_depth': 6, 'n_estimators': 466},\n",
       " {'learning_rate': 0.1, 'max_depth': 6, 'n_estimators': 467},\n",
       " {'learning_rate': 0.1, 'max_depth': 6, 'n_estimators': 468},\n",
       " {'learning_rate': 0.1, 'max_depth': 6, 'n_estimators': 469},\n",
       " {'learning_rate': 0.1, 'max_depth': 6, 'n_estimators': 470},\n",
       " {'learning_rate': 0.1, 'max_depth': 6, 'n_estimators': 471},\n",
       " {'learning_rate': 0.1, 'max_depth': 6, 'n_estimators': 472},\n",
       " {'learning_rate': 0.1, 'max_depth': 6, 'n_estimators': 473},\n",
       " {'learning_rate': 0.1, 'max_depth': 6, 'n_estimators': 474},\n",
       " {'learning_rate': 0.1, 'max_depth': 6, 'n_estimators': 475},\n",
       " {'learning_rate': 0.1, 'max_depth': 6, 'n_estimators': 476},\n",
       " {'learning_rate': 0.1, 'max_depth': 6, 'n_estimators': 477},\n",
       " {'learning_rate': 0.1, 'max_depth': 6, 'n_estimators': 478},\n",
       " {'learning_rate': 0.1, 'max_depth': 6, 'n_estimators': 479},\n",
       " {'learning_rate': 0.1, 'max_depth': 6, 'n_estimators': 480},\n",
       " {'learning_rate': 0.1, 'max_depth': 6, 'n_estimators': 481},\n",
       " {'learning_rate': 0.1, 'max_depth': 6, 'n_estimators': 482},\n",
       " {'learning_rate': 0.1, 'max_depth': 6, 'n_estimators': 483},\n",
       " {'learning_rate': 0.1, 'max_depth': 6, 'n_estimators': 484},\n",
       " {'learning_rate': 0.1, 'max_depth': 6, 'n_estimators': 485},\n",
       " {'learning_rate': 0.1, 'max_depth': 6, 'n_estimators': 486},\n",
       " {'learning_rate': 0.1, 'max_depth': 6, 'n_estimators': 487},\n",
       " {'learning_rate': 0.1, 'max_depth': 6, 'n_estimators': 488},\n",
       " {'learning_rate': 0.1, 'max_depth': 6, 'n_estimators': 489},\n",
       " {'learning_rate': 0.1, 'max_depth': 6, 'n_estimators': 490},\n",
       " {'learning_rate': 0.1, 'max_depth': 6, 'n_estimators': 491},\n",
       " {'learning_rate': 0.1, 'max_depth': 6, 'n_estimators': 492},\n",
       " {'learning_rate': 0.1, 'max_depth': 6, 'n_estimators': 493},\n",
       " {'learning_rate': 0.1, 'max_depth': 6, 'n_estimators': 494},\n",
       " {'learning_rate': 0.1, 'max_depth': 6, 'n_estimators': 495},\n",
       " {'learning_rate': 0.1, 'max_depth': 6, 'n_estimators': 496},\n",
       " {'learning_rate': 0.1, 'max_depth': 6, 'n_estimators': 497},\n",
       " {'learning_rate': 0.1, 'max_depth': 6, 'n_estimators': 498},\n",
       " {'learning_rate': 0.1, 'max_depth': 6, 'n_estimators': 499},\n",
       " {'learning_rate': 0.05, 'max_depth': 4, 'n_estimators': 400},\n",
       " {'learning_rate': 0.05, 'max_depth': 4, 'n_estimators': 401},\n",
       " {'learning_rate': 0.05, 'max_depth': 4, 'n_estimators': 402},\n",
       " {'learning_rate': 0.05, 'max_depth': 4, 'n_estimators': 403},\n",
       " {'learning_rate': 0.05, 'max_depth': 4, 'n_estimators': 404},\n",
       " {'learning_rate': 0.05, 'max_depth': 4, 'n_estimators': 405},\n",
       " {'learning_rate': 0.05, 'max_depth': 4, 'n_estimators': 406},\n",
       " {'learning_rate': 0.05, 'max_depth': 4, 'n_estimators': 407},\n",
       " {'learning_rate': 0.05, 'max_depth': 4, 'n_estimators': 408},\n",
       " {'learning_rate': 0.05, 'max_depth': 4, 'n_estimators': 409},\n",
       " {'learning_rate': 0.05, 'max_depth': 4, 'n_estimators': 410},\n",
       " {'learning_rate': 0.05, 'max_depth': 4, 'n_estimators': 411},\n",
       " {'learning_rate': 0.05, 'max_depth': 4, 'n_estimators': 412},\n",
       " {'learning_rate': 0.05, 'max_depth': 4, 'n_estimators': 413},\n",
       " {'learning_rate': 0.05, 'max_depth': 4, 'n_estimators': 414},\n",
       " {'learning_rate': 0.05, 'max_depth': 4, 'n_estimators': 415},\n",
       " {'learning_rate': 0.05, 'max_depth': 4, 'n_estimators': 416},\n",
       " {'learning_rate': 0.05, 'max_depth': 4, 'n_estimators': 417},\n",
       " {'learning_rate': 0.05, 'max_depth': 4, 'n_estimators': 418},\n",
       " {'learning_rate': 0.05, 'max_depth': 4, 'n_estimators': 419},\n",
       " {'learning_rate': 0.05, 'max_depth': 4, 'n_estimators': 420},\n",
       " {'learning_rate': 0.05, 'max_depth': 4, 'n_estimators': 421},\n",
       " {'learning_rate': 0.05, 'max_depth': 4, 'n_estimators': 422},\n",
       " {'learning_rate': 0.05, 'max_depth': 4, 'n_estimators': 423},\n",
       " {'learning_rate': 0.05, 'max_depth': 4, 'n_estimators': 424},\n",
       " {'learning_rate': 0.05, 'max_depth': 4, 'n_estimators': 425},\n",
       " {'learning_rate': 0.05, 'max_depth': 4, 'n_estimators': 426},\n",
       " {'learning_rate': 0.05, 'max_depth': 4, 'n_estimators': 427},\n",
       " {'learning_rate': 0.05, 'max_depth': 4, 'n_estimators': 428},\n",
       " {'learning_rate': 0.05, 'max_depth': 4, 'n_estimators': 429},\n",
       " {'learning_rate': 0.05, 'max_depth': 4, 'n_estimators': 430},\n",
       " {'learning_rate': 0.05, 'max_depth': 4, 'n_estimators': 431},\n",
       " {'learning_rate': 0.05, 'max_depth': 4, 'n_estimators': 432},\n",
       " {'learning_rate': 0.05, 'max_depth': 4, 'n_estimators': 433},\n",
       " {'learning_rate': 0.05, 'max_depth': 4, 'n_estimators': 434},\n",
       " {'learning_rate': 0.05, 'max_depth': 4, 'n_estimators': 435},\n",
       " {'learning_rate': 0.05, 'max_depth': 4, 'n_estimators': 436},\n",
       " {'learning_rate': 0.05, 'max_depth': 4, 'n_estimators': 437},\n",
       " {'learning_rate': 0.05, 'max_depth': 4, 'n_estimators': 438},\n",
       " {'learning_rate': 0.05, 'max_depth': 4, 'n_estimators': 439},\n",
       " {'learning_rate': 0.05, 'max_depth': 4, 'n_estimators': 440},\n",
       " {'learning_rate': 0.05, 'max_depth': 4, 'n_estimators': 441},\n",
       " {'learning_rate': 0.05, 'max_depth': 4, 'n_estimators': 442},\n",
       " {'learning_rate': 0.05, 'max_depth': 4, 'n_estimators': 443},\n",
       " {'learning_rate': 0.05, 'max_depth': 4, 'n_estimators': 444},\n",
       " {'learning_rate': 0.05, 'max_depth': 4, 'n_estimators': 445},\n",
       " {'learning_rate': 0.05, 'max_depth': 4, 'n_estimators': 446},\n",
       " {'learning_rate': 0.05, 'max_depth': 4, 'n_estimators': 447},\n",
       " {'learning_rate': 0.05, 'max_depth': 4, 'n_estimators': 448},\n",
       " {'learning_rate': 0.05, 'max_depth': 4, 'n_estimators': 449},\n",
       " {'learning_rate': 0.05, 'max_depth': 4, 'n_estimators': 450},\n",
       " {'learning_rate': 0.05, 'max_depth': 4, 'n_estimators': 451},\n",
       " {'learning_rate': 0.05, 'max_depth': 4, 'n_estimators': 452},\n",
       " {'learning_rate': 0.05, 'max_depth': 4, 'n_estimators': 453},\n",
       " {'learning_rate': 0.05, 'max_depth': 4, 'n_estimators': 454},\n",
       " {'learning_rate': 0.05, 'max_depth': 4, 'n_estimators': 455},\n",
       " {'learning_rate': 0.05, 'max_depth': 4, 'n_estimators': 456},\n",
       " {'learning_rate': 0.05, 'max_depth': 4, 'n_estimators': 457},\n",
       " {'learning_rate': 0.05, 'max_depth': 4, 'n_estimators': 458},\n",
       " {'learning_rate': 0.05, 'max_depth': 4, 'n_estimators': 459},\n",
       " {'learning_rate': 0.05, 'max_depth': 4, 'n_estimators': 460},\n",
       " {'learning_rate': 0.05, 'max_depth': 4, 'n_estimators': 461},\n",
       " {'learning_rate': 0.05, 'max_depth': 4, 'n_estimators': 462},\n",
       " {'learning_rate': 0.05, 'max_depth': 4, 'n_estimators': 463},\n",
       " {'learning_rate': 0.05, 'max_depth': 4, 'n_estimators': 464},\n",
       " {'learning_rate': 0.05, 'max_depth': 4, 'n_estimators': 465},\n",
       " {'learning_rate': 0.05, 'max_depth': 4, 'n_estimators': 466},\n",
       " {'learning_rate': 0.05, 'max_depth': 4, 'n_estimators': 467},\n",
       " {'learning_rate': 0.05, 'max_depth': 4, 'n_estimators': 468},\n",
       " {'learning_rate': 0.05, 'max_depth': 4, 'n_estimators': 469},\n",
       " {'learning_rate': 0.05, 'max_depth': 4, 'n_estimators': 470},\n",
       " {'learning_rate': 0.05, 'max_depth': 4, 'n_estimators': 471},\n",
       " {'learning_rate': 0.05, 'max_depth': 4, 'n_estimators': 472},\n",
       " {'learning_rate': 0.05, 'max_depth': 4, 'n_estimators': 473},\n",
       " {'learning_rate': 0.05, 'max_depth': 4, 'n_estimators': 474},\n",
       " {'learning_rate': 0.05, 'max_depth': 4, 'n_estimators': 475},\n",
       " {'learning_rate': 0.05, 'max_depth': 4, 'n_estimators': 476},\n",
       " {'learning_rate': 0.05, 'max_depth': 4, 'n_estimators': 477},\n",
       " {'learning_rate': 0.05, 'max_depth': 4, 'n_estimators': 478},\n",
       " {'learning_rate': 0.05, 'max_depth': 4, 'n_estimators': 479},\n",
       " {'learning_rate': 0.05, 'max_depth': 4, 'n_estimators': 480},\n",
       " {'learning_rate': 0.05, 'max_depth': 4, 'n_estimators': 481},\n",
       " {'learning_rate': 0.05, 'max_depth': 4, 'n_estimators': 482},\n",
       " {'learning_rate': 0.05, 'max_depth': 4, 'n_estimators': 483},\n",
       " {'learning_rate': 0.05, 'max_depth': 4, 'n_estimators': 484},\n",
       " {'learning_rate': 0.05, 'max_depth': 4, 'n_estimators': 485},\n",
       " {'learning_rate': 0.05, 'max_depth': 4, 'n_estimators': 486},\n",
       " {'learning_rate': 0.05, 'max_depth': 4, 'n_estimators': 487},\n",
       " {'learning_rate': 0.05, 'max_depth': 4, 'n_estimators': 488},\n",
       " {'learning_rate': 0.05, 'max_depth': 4, 'n_estimators': 489},\n",
       " {'learning_rate': 0.05, 'max_depth': 4, 'n_estimators': 490},\n",
       " {'learning_rate': 0.05, 'max_depth': 4, 'n_estimators': 491},\n",
       " {'learning_rate': 0.05, 'max_depth': 4, 'n_estimators': 492},\n",
       " {'learning_rate': 0.05, 'max_depth': 4, 'n_estimators': 493},\n",
       " {'learning_rate': 0.05, 'max_depth': 4, 'n_estimators': 494},\n",
       " {'learning_rate': 0.05, 'max_depth': 4, 'n_estimators': 495},\n",
       " {'learning_rate': 0.05, 'max_depth': 4, 'n_estimators': 496},\n",
       " {'learning_rate': 0.05, 'max_depth': 4, 'n_estimators': 497},\n",
       " {'learning_rate': 0.05, 'max_depth': 4, 'n_estimators': 498},\n",
       " {'learning_rate': 0.05, 'max_depth': 4, 'n_estimators': 499},\n",
       " {'learning_rate': 0.05, 'max_depth': 5, 'n_estimators': 400},\n",
       " {'learning_rate': 0.05, 'max_depth': 5, 'n_estimators': 401},\n",
       " {'learning_rate': 0.05, 'max_depth': 5, 'n_estimators': 402},\n",
       " {'learning_rate': 0.05, 'max_depth': 5, 'n_estimators': 403},\n",
       " {'learning_rate': 0.05, 'max_depth': 5, 'n_estimators': 404},\n",
       " {'learning_rate': 0.05, 'max_depth': 5, 'n_estimators': 405},\n",
       " {'learning_rate': 0.05, 'max_depth': 5, 'n_estimators': 406},\n",
       " {'learning_rate': 0.05, 'max_depth': 5, 'n_estimators': 407},\n",
       " {'learning_rate': 0.05, 'max_depth': 5, 'n_estimators': 408},\n",
       " {'learning_rate': 0.05, 'max_depth': 5, 'n_estimators': 409},\n",
       " {'learning_rate': 0.05, 'max_depth': 5, 'n_estimators': 410},\n",
       " {'learning_rate': 0.05, 'max_depth': 5, 'n_estimators': 411},\n",
       " {'learning_rate': 0.05, 'max_depth': 5, 'n_estimators': 412},\n",
       " {'learning_rate': 0.05, 'max_depth': 5, 'n_estimators': 413},\n",
       " {'learning_rate': 0.05, 'max_depth': 5, 'n_estimators': 414},\n",
       " {'learning_rate': 0.05, 'max_depth': 5, 'n_estimators': 415},\n",
       " {'learning_rate': 0.05, 'max_depth': 5, 'n_estimators': 416},\n",
       " {'learning_rate': 0.05, 'max_depth': 5, 'n_estimators': 417},\n",
       " {'learning_rate': 0.05, 'max_depth': 5, 'n_estimators': 418},\n",
       " {'learning_rate': 0.05, 'max_depth': 5, 'n_estimators': 419},\n",
       " {'learning_rate': 0.05, 'max_depth': 5, 'n_estimators': 420},\n",
       " {'learning_rate': 0.05, 'max_depth': 5, 'n_estimators': 421},\n",
       " {'learning_rate': 0.05, 'max_depth': 5, 'n_estimators': 422},\n",
       " {'learning_rate': 0.05, 'max_depth': 5, 'n_estimators': 423},\n",
       " {'learning_rate': 0.05, 'max_depth': 5, 'n_estimators': 424},\n",
       " {'learning_rate': 0.05, 'max_depth': 5, 'n_estimators': 425},\n",
       " {'learning_rate': 0.05, 'max_depth': 5, 'n_estimators': 426},\n",
       " {'learning_rate': 0.05, 'max_depth': 5, 'n_estimators': 427},\n",
       " {'learning_rate': 0.05, 'max_depth': 5, 'n_estimators': 428},\n",
       " {'learning_rate': 0.05, 'max_depth': 5, 'n_estimators': 429},\n",
       " {'learning_rate': 0.05, 'max_depth': 5, 'n_estimators': 430},\n",
       " {'learning_rate': 0.05, 'max_depth': 5, 'n_estimators': 431},\n",
       " {'learning_rate': 0.05, 'max_depth': 5, 'n_estimators': 432},\n",
       " {'learning_rate': 0.05, 'max_depth': 5, 'n_estimators': 433},\n",
       " {'learning_rate': 0.05, 'max_depth': 5, 'n_estimators': 434},\n",
       " {'learning_rate': 0.05, 'max_depth': 5, 'n_estimators': 435},\n",
       " {'learning_rate': 0.05, 'max_depth': 5, 'n_estimators': 436},\n",
       " {'learning_rate': 0.05, 'max_depth': 5, 'n_estimators': 437},\n",
       " {'learning_rate': 0.05, 'max_depth': 5, 'n_estimators': 438},\n",
       " {'learning_rate': 0.05, 'max_depth': 5, 'n_estimators': 439},\n",
       " {'learning_rate': 0.05, 'max_depth': 5, 'n_estimators': 440},\n",
       " {'learning_rate': 0.05, 'max_depth': 5, 'n_estimators': 441},\n",
       " {'learning_rate': 0.05, 'max_depth': 5, 'n_estimators': 442},\n",
       " {'learning_rate': 0.05, 'max_depth': 5, 'n_estimators': 443},\n",
       " {'learning_rate': 0.05, 'max_depth': 5, 'n_estimators': 444},\n",
       " {'learning_rate': 0.05, 'max_depth': 5, 'n_estimators': 445},\n",
       " {'learning_rate': 0.05, 'max_depth': 5, 'n_estimators': 446},\n",
       " {'learning_rate': 0.05, 'max_depth': 5, 'n_estimators': 447},\n",
       " {'learning_rate': 0.05, 'max_depth': 5, 'n_estimators': 448},\n",
       " {'learning_rate': 0.05, 'max_depth': 5, 'n_estimators': 449},\n",
       " {'learning_rate': 0.05, 'max_depth': 5, 'n_estimators': 450},\n",
       " {'learning_rate': 0.05, 'max_depth': 5, 'n_estimators': 451},\n",
       " {'learning_rate': 0.05, 'max_depth': 5, 'n_estimators': 452},\n",
       " {'learning_rate': 0.05, 'max_depth': 5, 'n_estimators': 453},\n",
       " {'learning_rate': 0.05, 'max_depth': 5, 'n_estimators': 454},\n",
       " {'learning_rate': 0.05, 'max_depth': 5, 'n_estimators': 455},\n",
       " {'learning_rate': 0.05, 'max_depth': 5, 'n_estimators': 456},\n",
       " {'learning_rate': 0.05, 'max_depth': 5, 'n_estimators': 457},\n",
       " {'learning_rate': 0.05, 'max_depth': 5, 'n_estimators': 458},\n",
       " {'learning_rate': 0.05, 'max_depth': 5, 'n_estimators': 459},\n",
       " {'learning_rate': 0.05, 'max_depth': 5, 'n_estimators': 460},\n",
       " {'learning_rate': 0.05, 'max_depth': 5, 'n_estimators': 461},\n",
       " {'learning_rate': 0.05, 'max_depth': 5, 'n_estimators': 462},\n",
       " {'learning_rate': 0.05, 'max_depth': 5, 'n_estimators': 463},\n",
       " {'learning_rate': 0.05, 'max_depth': 5, 'n_estimators': 464},\n",
       " {'learning_rate': 0.05, 'max_depth': 5, 'n_estimators': 465},\n",
       " {'learning_rate': 0.05, 'max_depth': 5, 'n_estimators': 466},\n",
       " {'learning_rate': 0.05, 'max_depth': 5, 'n_estimators': 467},\n",
       " {'learning_rate': 0.05, 'max_depth': 5, 'n_estimators': 468},\n",
       " {'learning_rate': 0.05, 'max_depth': 5, 'n_estimators': 469},\n",
       " {'learning_rate': 0.05, 'max_depth': 5, 'n_estimators': 470},\n",
       " {'learning_rate': 0.05, 'max_depth': 5, 'n_estimators': 471},\n",
       " {'learning_rate': 0.05, 'max_depth': 5, 'n_estimators': 472},\n",
       " {'learning_rate': 0.05, 'max_depth': 5, 'n_estimators': 473},\n",
       " {'learning_rate': 0.05, 'max_depth': 5, 'n_estimators': 474},\n",
       " {'learning_rate': 0.05, 'max_depth': 5, 'n_estimators': 475},\n",
       " {'learning_rate': 0.05, 'max_depth': 5, 'n_estimators': 476},\n",
       " {'learning_rate': 0.05, 'max_depth': 5, 'n_estimators': 477},\n",
       " {'learning_rate': 0.05, 'max_depth': 5, 'n_estimators': 478},\n",
       " {'learning_rate': 0.05, 'max_depth': 5, 'n_estimators': 479},\n",
       " {'learning_rate': 0.05, 'max_depth': 5, 'n_estimators': 480},\n",
       " {'learning_rate': 0.05, 'max_depth': 5, 'n_estimators': 481},\n",
       " {'learning_rate': 0.05, 'max_depth': 5, 'n_estimators': 482},\n",
       " {'learning_rate': 0.05, 'max_depth': 5, 'n_estimators': 483},\n",
       " {'learning_rate': 0.05, 'max_depth': 5, 'n_estimators': 484},\n",
       " {'learning_rate': 0.05, 'max_depth': 5, 'n_estimators': 485},\n",
       " {'learning_rate': 0.05, 'max_depth': 5, 'n_estimators': 486},\n",
       " {'learning_rate': 0.05, 'max_depth': 5, 'n_estimators': 487},\n",
       " {'learning_rate': 0.05, 'max_depth': 5, 'n_estimators': 488},\n",
       " {'learning_rate': 0.05, 'max_depth': 5, 'n_estimators': 489},\n",
       " {'learning_rate': 0.05, 'max_depth': 5, 'n_estimators': 490},\n",
       " {'learning_rate': 0.05, 'max_depth': 5, 'n_estimators': 491},\n",
       " {'learning_rate': 0.05, 'max_depth': 5, 'n_estimators': 492},\n",
       " {'learning_rate': 0.05, 'max_depth': 5, 'n_estimators': 493},\n",
       " {'learning_rate': 0.05, 'max_depth': 5, 'n_estimators': 494},\n",
       " {'learning_rate': 0.05, 'max_depth': 5, 'n_estimators': 495},\n",
       " {'learning_rate': 0.05, 'max_depth': 5, 'n_estimators': 496},\n",
       " {'learning_rate': 0.05, 'max_depth': 5, 'n_estimators': 497},\n",
       " {'learning_rate': 0.05, 'max_depth': 5, 'n_estimators': 498},\n",
       " {'learning_rate': 0.05, 'max_depth': 5, 'n_estimators': 499},\n",
       " {'learning_rate': 0.05, 'max_depth': 6, 'n_estimators': 400},\n",
       " {'learning_rate': 0.05, 'max_depth': 6, 'n_estimators': 401},\n",
       " {'learning_rate': 0.05, 'max_depth': 6, 'n_estimators': 402},\n",
       " {'learning_rate': 0.05, 'max_depth': 6, 'n_estimators': 403},\n",
       " {'learning_rate': 0.05, 'max_depth': 6, 'n_estimators': 404},\n",
       " {'learning_rate': 0.05, 'max_depth': 6, 'n_estimators': 405},\n",
       " {'learning_rate': 0.05, 'max_depth': 6, 'n_estimators': 406},\n",
       " {'learning_rate': 0.05, 'max_depth': 6, 'n_estimators': 407},\n",
       " {'learning_rate': 0.05, 'max_depth': 6, 'n_estimators': 408},\n",
       " {'learning_rate': 0.05, 'max_depth': 6, 'n_estimators': 409},\n",
       " {'learning_rate': 0.05, 'max_depth': 6, 'n_estimators': 410},\n",
       " {'learning_rate': 0.05, 'max_depth': 6, 'n_estimators': 411},\n",
       " {'learning_rate': 0.05, 'max_depth': 6, 'n_estimators': 412},\n",
       " {'learning_rate': 0.05, 'max_depth': 6, 'n_estimators': 413},\n",
       " {'learning_rate': 0.05, 'max_depth': 6, 'n_estimators': 414},\n",
       " {'learning_rate': 0.05, 'max_depth': 6, 'n_estimators': 415},\n",
       " {'learning_rate': 0.05, 'max_depth': 6, 'n_estimators': 416},\n",
       " {'learning_rate': 0.05, 'max_depth': 6, 'n_estimators': 417},\n",
       " {'learning_rate': 0.05, 'max_depth': 6, 'n_estimators': 418},\n",
       " {'learning_rate': 0.05, 'max_depth': 6, 'n_estimators': 419},\n",
       " {'learning_rate': 0.05, 'max_depth': 6, 'n_estimators': 420},\n",
       " {'learning_rate': 0.05, 'max_depth': 6, 'n_estimators': 421},\n",
       " {'learning_rate': 0.05, 'max_depth': 6, 'n_estimators': 422},\n",
       " {'learning_rate': 0.05, 'max_depth': 6, 'n_estimators': 423},\n",
       " {'learning_rate': 0.05, 'max_depth': 6, 'n_estimators': 424},\n",
       " {'learning_rate': 0.05, 'max_depth': 6, 'n_estimators': 425},\n",
       " {'learning_rate': 0.05, 'max_depth': 6, 'n_estimators': 426},\n",
       " {'learning_rate': 0.05, 'max_depth': 6, 'n_estimators': 427},\n",
       " {'learning_rate': 0.05, 'max_depth': 6, 'n_estimators': 428},\n",
       " {'learning_rate': 0.05, 'max_depth': 6, 'n_estimators': 429},\n",
       " {'learning_rate': 0.05, 'max_depth': 6, 'n_estimators': 430},\n",
       " {'learning_rate': 0.05, 'max_depth': 6, 'n_estimators': 431},\n",
       " {'learning_rate': 0.05, 'max_depth': 6, 'n_estimators': 432},\n",
       " {'learning_rate': 0.05, 'max_depth': 6, 'n_estimators': 433},\n",
       " {'learning_rate': 0.05, 'max_depth': 6, 'n_estimators': 434},\n",
       " {'learning_rate': 0.05, 'max_depth': 6, 'n_estimators': 435},\n",
       " {'learning_rate': 0.05, 'max_depth': 6, 'n_estimators': 436},\n",
       " {'learning_rate': 0.05, 'max_depth': 6, 'n_estimators': 437},\n",
       " {'learning_rate': 0.05, 'max_depth': 6, 'n_estimators': 438},\n",
       " {'learning_rate': 0.05, 'max_depth': 6, 'n_estimators': 439},\n",
       " {'learning_rate': 0.05, 'max_depth': 6, 'n_estimators': 440},\n",
       " {'learning_rate': 0.05, 'max_depth': 6, 'n_estimators': 441},\n",
       " {'learning_rate': 0.05, 'max_depth': 6, 'n_estimators': 442},\n",
       " {'learning_rate': 0.05, 'max_depth': 6, 'n_estimators': 443},\n",
       " {'learning_rate': 0.05, 'max_depth': 6, 'n_estimators': 444},\n",
       " {'learning_rate': 0.05, 'max_depth': 6, 'n_estimators': 445},\n",
       " {'learning_rate': 0.05, 'max_depth': 6, 'n_estimators': 446},\n",
       " {'learning_rate': 0.05, 'max_depth': 6, 'n_estimators': 447},\n",
       " {'learning_rate': 0.05, 'max_depth': 6, 'n_estimators': 448},\n",
       " {'learning_rate': 0.05, 'max_depth': 6, 'n_estimators': 449},\n",
       " {'learning_rate': 0.05, 'max_depth': 6, 'n_estimators': 450},\n",
       " {'learning_rate': 0.05, 'max_depth': 6, 'n_estimators': 451},\n",
       " {'learning_rate': 0.05, 'max_depth': 6, 'n_estimators': 452},\n",
       " {'learning_rate': 0.05, 'max_depth': 6, 'n_estimators': 453},\n",
       " {'learning_rate': 0.05, 'max_depth': 6, 'n_estimators': 454},\n",
       " {'learning_rate': 0.05, 'max_depth': 6, 'n_estimators': 455},\n",
       " {'learning_rate': 0.05, 'max_depth': 6, 'n_estimators': 456},\n",
       " {'learning_rate': 0.05, 'max_depth': 6, 'n_estimators': 457},\n",
       " {'learning_rate': 0.05, 'max_depth': 6, 'n_estimators': 458},\n",
       " {'learning_rate': 0.05, 'max_depth': 6, 'n_estimators': 459},\n",
       " {'learning_rate': 0.05, 'max_depth': 6, 'n_estimators': 460},\n",
       " {'learning_rate': 0.05, 'max_depth': 6, 'n_estimators': 461},\n",
       " {'learning_rate': 0.05, 'max_depth': 6, 'n_estimators': 462},\n",
       " {'learning_rate': 0.05, 'max_depth': 6, 'n_estimators': 463},\n",
       " {'learning_rate': 0.05, 'max_depth': 6, 'n_estimators': 464},\n",
       " {'learning_rate': 0.05, 'max_depth': 6, 'n_estimators': 465},\n",
       " {'learning_rate': 0.05, 'max_depth': 6, 'n_estimators': 466},\n",
       " {'learning_rate': 0.05, 'max_depth': 6, 'n_estimators': 467},\n",
       " {'learning_rate': 0.05, 'max_depth': 6, 'n_estimators': 468},\n",
       " {'learning_rate': 0.05, 'max_depth': 6, 'n_estimators': 469},\n",
       " {'learning_rate': 0.05, 'max_depth': 6, 'n_estimators': 470},\n",
       " {'learning_rate': 0.05, 'max_depth': 6, 'n_estimators': 471},\n",
       " {'learning_rate': 0.05, 'max_depth': 6, 'n_estimators': 472},\n",
       " {'learning_rate': 0.05, 'max_depth': 6, 'n_estimators': 473},\n",
       " {'learning_rate': 0.05, 'max_depth': 6, 'n_estimators': 474},\n",
       " {'learning_rate': 0.05, 'max_depth': 6, 'n_estimators': 475},\n",
       " {'learning_rate': 0.05, 'max_depth': 6, 'n_estimators': 476},\n",
       " {'learning_rate': 0.05, 'max_depth': 6, 'n_estimators': 477},\n",
       " {'learning_rate': 0.05, 'max_depth': 6, 'n_estimators': 478},\n",
       " {'learning_rate': 0.05, 'max_depth': 6, 'n_estimators': 479},\n",
       " {'learning_rate': 0.05, 'max_depth': 6, 'n_estimators': 480},\n",
       " {'learning_rate': 0.05, 'max_depth': 6, 'n_estimators': 481},\n",
       " {'learning_rate': 0.05, 'max_depth': 6, 'n_estimators': 482},\n",
       " {'learning_rate': 0.05, 'max_depth': 6, 'n_estimators': 483},\n",
       " {'learning_rate': 0.05, 'max_depth': 6, 'n_estimators': 484},\n",
       " {'learning_rate': 0.05, 'max_depth': 6, 'n_estimators': 485},\n",
       " {'learning_rate': 0.05, 'max_depth': 6, 'n_estimators': 486},\n",
       " {'learning_rate': 0.05, 'max_depth': 6, 'n_estimators': 487},\n",
       " {'learning_rate': 0.05, 'max_depth': 6, 'n_estimators': 488},\n",
       " {'learning_rate': 0.05, 'max_depth': 6, 'n_estimators': 489},\n",
       " {'learning_rate': 0.05, 'max_depth': 6, 'n_estimators': 490},\n",
       " {'learning_rate': 0.05, 'max_depth': 6, 'n_estimators': 491},\n",
       " {'learning_rate': 0.05, 'max_depth': 6, 'n_estimators': 492},\n",
       " {'learning_rate': 0.05, 'max_depth': 6, 'n_estimators': 493},\n",
       " {'learning_rate': 0.05, 'max_depth': 6, 'n_estimators': 494},\n",
       " {'learning_rate': 0.05, 'max_depth': 6, 'n_estimators': 495},\n",
       " {'learning_rate': 0.05, 'max_depth': 6, 'n_estimators': 496},\n",
       " {'learning_rate': 0.05, 'max_depth': 6, 'n_estimators': 497},\n",
       " {'learning_rate': 0.05, 'max_depth': 6, 'n_estimators': 498},\n",
       " {'learning_rate': 0.05, 'max_depth': 6, 'n_estimators': 499}]"
      ]
     },
     "execution_count": 5,
     "metadata": {
      "nterop": {
       "id": "18"
      }
     },
     "output_type": "execute_result"
    }
   ],
   "source": [
    "grid"
   ]
  },
  {
   "cell_type": "code",
   "execution_count": null,
   "id": "067b07f5",
   "metadata": {
    "nterop": {
     "id": "19"
    }
   },
   "outputs": [],
   "source": []
  }
 ],
 "metadata": {
  "kernelspec": {
   "display_name": "Python 3 (ipykernel)",
   "language": "python",
   "name": "python3"
  },
  "language_info": {
   "codemirror_mode": {
    "name": "ipython",
    "version": 3
   },
   "file_extension": ".py",
   "mimetype": "text/x-python",
   "name": "python",
   "nbconvert_exporter": "python",
   "pygments_lexer": "ipython3",
   "version": "3.7.12"
  },
  "nterop": {
   "seedId": "34"
  }
 },
 "nbformat": 4,
 "nbformat_minor": 5
}
