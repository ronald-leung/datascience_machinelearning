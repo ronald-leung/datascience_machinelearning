{
 "cells": [
  {
   "cell_type": "code",
   "execution_count": 125,
   "id": "c52955bf",
   "metadata": {
    "nterop": {
     "id": "1"
    }
   },
   "outputs": [],
   "source": [
    "# !pip install prophet\n",
    "# !pip install plotly\n",
    "import pandas as pd\n",
    "from prophet import Prophet\n",
    "import matplotlib.pyplot as plt\n",
    "import seaborn as sns"
   ]
  },
  {
   "cell_type": "code",
   "execution_count": 4,
   "id": "e1ec9d93",
   "metadata": {
    "nterop": {
     "id": "2"
    }
   },
   "outputs": [
    {
     "name": "stderr",
     "output_type": "stream",
     "text": [
      "INFO:prophet:Disabling daily seasonality. Run prophet with daily_seasonality=True to override this.\n"
     ]
    },
    {
     "name": "stdout",
     "output_type": "stream",
     "text": [
      "Initial log joint probability = -19.4685\n"
     ]
    },
    {
     "data": {
      "text/plain": [
       "<prophet.forecaster.Prophet at 0x7f302bc1d810>"
      ]
     },
     "execution_count": 4,
     "metadata": {
      "nterop": {
       "id": "3"
      }
     },
     "output_type": "execute_result"
    },
    {
     "name": "stdout",
     "output_type": "stream",
     "text": [
      "    Iter      log prob        ||dx||      ||grad||       alpha      alpha0  # evals  Notes \n",
      "      99       7976.11     0.0101103       286.068           1           1      130   \n",
      "    Iter      log prob        ||dx||      ||grad||       alpha      alpha0  # evals  Notes \n",
      "     199       7993.56    0.00101134       304.061       0.582       0.582      242   \n",
      "    Iter      log prob        ||dx||      ||grad||       alpha      alpha0  # evals  Notes \n",
      "     261       7995.92   4.81029e-05       146.043   3.702e-07       0.001      353  LS failed, Hessian reset \n",
      "     299       7996.65   0.000581528       81.1695           1           1      394   \n",
      "    Iter      log prob        ||dx||      ||grad||       alpha      alpha0  # evals  Notes \n",
      "     399       7999.51   0.000319467       223.369      0.5511      0.5511      520   \n",
      "    Iter      log prob        ||dx||      ||grad||       alpha      alpha0  # evals  Notes \n",
      "     465       8000.88   0.000146007       378.592   5.125e-07       0.001      641  LS failed, Hessian reset \n",
      "     499       8001.34   2.31846e-05       57.5935      0.2347      0.2347      681   \n",
      "    Iter      log prob        ||dx||      ||grad||       alpha      alpha0  # evals  Notes \n",
      "     599       8003.05   0.000352272       128.594      0.7035      0.7035      796   \n",
      "    Iter      log prob        ||dx||      ||grad||       alpha      alpha0  # evals  Notes \n",
      "     665       8003.36   0.000107718       282.455   4.212e-07       0.001      917  LS failed, Hessian reset \n",
      "     699       8003.58   4.75635e-05       68.4917      0.3593           1      958   \n",
      "    Iter      log prob        ||dx||      ||grad||       alpha      alpha0  # evals  Notes \n",
      "     799       8004.21    3.4784e-05       86.4645   1.729e-07       0.001     1147  LS failed, Hessian reset \n",
      "    Iter      log prob        ||dx||      ||grad||       alpha      alpha0  # evals  Notes \n",
      "     854       8004.63   5.73705e-05       103.786   6.725e-07       0.001     1258  LS failed, Hessian reset \n",
      "     879       8004.65   1.14047e-07       72.0953       0.229       0.229     1296   \n",
      "Optimization terminated normally: \n",
      "  Convergence detected: relative gradient magnitude is below tolerance\n"
     ]
    }
   ],
   "source": [
    "p_ex_df = pd.read_csv('example_wp_log_peyton_manning.csv')\n",
    "m = Prophet()\n",
    "m.fit(p_ex_df)"
   ]
  },
  {
   "cell_type": "code",
   "execution_count": 5,
   "id": "340d8de5",
   "metadata": {
    "nterop": {
     "id": "4"
    }
   },
   "outputs": [
    {
     "data": {
      "text/html": [
       "<div>\n",
       "<style scoped>\n",
       "    .dataframe tbody tr th:only-of-type {\n",
       "        vertical-align: middle;\n",
       "    }\n",
       "\n",
       "    .dataframe tbody tr th {\n",
       "        vertical-align: top;\n",
       "    }\n",
       "\n",
       "    .dataframe thead th {\n",
       "        text-align: right;\n",
       "    }\n",
       "</style>\n",
       "<table border=\"1\" class=\"dataframe\">\n",
       "  <thead>\n",
       "    <tr style=\"text-align: right;\">\n",
       "      <th></th>\n",
       "      <th>ds</th>\n",
       "    </tr>\n",
       "  </thead>\n",
       "  <tbody>\n",
       "    <tr>\n",
       "      <th>3265</th>\n",
       "      <td>2017-01-15</td>\n",
       "    </tr>\n",
       "    <tr>\n",
       "      <th>3266</th>\n",
       "      <td>2017-01-16</td>\n",
       "    </tr>\n",
       "    <tr>\n",
       "      <th>3267</th>\n",
       "      <td>2017-01-17</td>\n",
       "    </tr>\n",
       "    <tr>\n",
       "      <th>3268</th>\n",
       "      <td>2017-01-18</td>\n",
       "    </tr>\n",
       "    <tr>\n",
       "      <th>3269</th>\n",
       "      <td>2017-01-19</td>\n",
       "    </tr>\n",
       "  </tbody>\n",
       "</table>\n",
       "</div>"
      ],
      "text/plain": [
       "             ds\n",
       "3265 2017-01-15\n",
       "3266 2017-01-16\n",
       "3267 2017-01-17\n",
       "3268 2017-01-18\n",
       "3269 2017-01-19"
      ]
     },
     "execution_count": 5,
     "metadata": {
      "nterop": {
       "id": "5"
      }
     },
     "output_type": "execute_result"
    }
   ],
   "source": [
    "future = m.make_future_dataframe(periods=365)\n",
    "future.tail()"
   ]
  },
  {
   "cell_type": "code",
   "execution_count": 9,
   "id": "ff7fc397",
   "metadata": {
    "nterop": {
     "id": "6"
    }
   },
   "outputs": [
    {
     "name": "stdout",
     "output_type": "stream",
     "text": [
      "Countries:  ['Finland', 'Norway', 'Sweden']\n",
      "Products:  ['Kaggle Mug', 'Kaggle Hat', 'Kaggle Sticker']\n",
      "Stores:  ['KaggleMart', 'KaggleRama']\n"
     ]
    }
   ],
   "source": [
    "# So there are basically 3 countries x 3 products x 2 stores = 18 series to predict.\n",
    "df = pd.read_csv('train.csv')\n",
    "countryList = list(df['country'].unique())\n",
    "productList = list(df['product'].unique())\n",
    "storeList = list(df['store'].unique())\n",
    "print('Countries: ', countryList)\n",
    "print('Products: ', productList)\n",
    "print('Stores: ', storeList)"
   ]
  },
  {
   "cell_type": "code",
   "execution_count": 10,
   "id": "c844e71a",
   "metadata": {
    "nterop": {
     "id": "7"
    }
   },
   "outputs": [],
   "source": [
    "df_prep = pd.get_dummies(df, columns=['country', 'product', 'store'])"
   ]
  },
  {
   "cell_type": "code",
   "execution_count": 11,
   "id": "99018362",
   "metadata": {
    "nterop": {
     "id": "8"
    }
   },
   "outputs": [
    {
     "data": {
      "text/html": [
       "<div>\n",
       "<style scoped>\n",
       "    .dataframe tbody tr th:only-of-type {\n",
       "        vertical-align: middle;\n",
       "    }\n",
       "\n",
       "    .dataframe tbody tr th {\n",
       "        vertical-align: top;\n",
       "    }\n",
       "\n",
       "    .dataframe thead th {\n",
       "        text-align: right;\n",
       "    }\n",
       "</style>\n",
       "<table border=\"1\" class=\"dataframe\">\n",
       "  <thead>\n",
       "    <tr style=\"text-align: right;\">\n",
       "      <th></th>\n",
       "      <th>row_id</th>\n",
       "      <th>date</th>\n",
       "      <th>num_sold</th>\n",
       "      <th>country_Finland</th>\n",
       "      <th>country_Norway</th>\n",
       "      <th>country_Sweden</th>\n",
       "      <th>product_Kaggle Hat</th>\n",
       "      <th>product_Kaggle Mug</th>\n",
       "      <th>product_Kaggle Sticker</th>\n",
       "      <th>store_KaggleMart</th>\n",
       "      <th>store_KaggleRama</th>\n",
       "    </tr>\n",
       "  </thead>\n",
       "  <tbody>\n",
       "    <tr>\n",
       "      <th>0</th>\n",
       "      <td>0</td>\n",
       "      <td>2015-01-01</td>\n",
       "      <td>329</td>\n",
       "      <td>1</td>\n",
       "      <td>0</td>\n",
       "      <td>0</td>\n",
       "      <td>0</td>\n",
       "      <td>1</td>\n",
       "      <td>0</td>\n",
       "      <td>1</td>\n",
       "      <td>0</td>\n",
       "    </tr>\n",
       "    <tr>\n",
       "      <th>1</th>\n",
       "      <td>1</td>\n",
       "      <td>2015-01-01</td>\n",
       "      <td>520</td>\n",
       "      <td>1</td>\n",
       "      <td>0</td>\n",
       "      <td>0</td>\n",
       "      <td>1</td>\n",
       "      <td>0</td>\n",
       "      <td>0</td>\n",
       "      <td>1</td>\n",
       "      <td>0</td>\n",
       "    </tr>\n",
       "    <tr>\n",
       "      <th>2</th>\n",
       "      <td>2</td>\n",
       "      <td>2015-01-01</td>\n",
       "      <td>146</td>\n",
       "      <td>1</td>\n",
       "      <td>0</td>\n",
       "      <td>0</td>\n",
       "      <td>0</td>\n",
       "      <td>0</td>\n",
       "      <td>1</td>\n",
       "      <td>1</td>\n",
       "      <td>0</td>\n",
       "    </tr>\n",
       "    <tr>\n",
       "      <th>3</th>\n",
       "      <td>3</td>\n",
       "      <td>2015-01-01</td>\n",
       "      <td>572</td>\n",
       "      <td>1</td>\n",
       "      <td>0</td>\n",
       "      <td>0</td>\n",
       "      <td>0</td>\n",
       "      <td>1</td>\n",
       "      <td>0</td>\n",
       "      <td>0</td>\n",
       "      <td>1</td>\n",
       "    </tr>\n",
       "    <tr>\n",
       "      <th>4</th>\n",
       "      <td>4</td>\n",
       "      <td>2015-01-01</td>\n",
       "      <td>911</td>\n",
       "      <td>1</td>\n",
       "      <td>0</td>\n",
       "      <td>0</td>\n",
       "      <td>1</td>\n",
       "      <td>0</td>\n",
       "      <td>0</td>\n",
       "      <td>0</td>\n",
       "      <td>1</td>\n",
       "    </tr>\n",
       "  </tbody>\n",
       "</table>\n",
       "</div>"
      ],
      "text/plain": [
       "   row_id        date  num_sold  country_Finland  country_Norway  \\\n",
       "0       0  2015-01-01       329                1               0   \n",
       "1       1  2015-01-01       520                1               0   \n",
       "2       2  2015-01-01       146                1               0   \n",
       "3       3  2015-01-01       572                1               0   \n",
       "4       4  2015-01-01       911                1               0   \n",
       "\n",
       "   country_Sweden  product_Kaggle Hat  product_Kaggle Mug  \\\n",
       "0               0                   0                   1   \n",
       "1               0                   1                   0   \n",
       "2               0                   0                   0   \n",
       "3               0                   0                   1   \n",
       "4               0                   1                   0   \n",
       "\n",
       "   product_Kaggle Sticker  store_KaggleMart  store_KaggleRama  \n",
       "0                       0                 1                 0  \n",
       "1                       0                 1                 0  \n",
       "2                       1                 1                 0  \n",
       "3                       0                 0                 1  \n",
       "4                       0                 0                 1  "
      ]
     },
     "execution_count": 11,
     "metadata": {
      "nterop": {
       "id": "9"
      }
     },
     "output_type": "execute_result"
    }
   ],
   "source": [
    "df_prep.head()"
   ]
  },
  {
   "cell_type": "code",
   "execution_count": 12,
   "id": "e3a9750c",
   "metadata": {
    "nterop": {
     "id": "10"
    }
   },
   "outputs": [
    {
     "data": {
      "text/plain": [
       "Index(['row_id', 'date', 'num_sold', 'country_Finland', 'country_Norway',\n",
       "       'country_Sweden', 'product_Kaggle Hat', 'product_Kaggle Mug',\n",
       "       'product_Kaggle Sticker', 'store_KaggleMart', 'store_KaggleRama'],\n",
       "      dtype='object')"
      ]
     },
     "execution_count": 12,
     "metadata": {
      "nterop": {
       "id": "11"
      }
     },
     "output_type": "execute_result"
    }
   ],
   "source": [
    "df_prep.columns"
   ]
  },
  {
   "cell_type": "code",
   "execution_count": 21,
   "id": "7ede85f1",
   "metadata": {
    "nterop": {
     "id": "12"
    }
   },
   "outputs": [],
   "source": [
    "# Generate dataframe for each series\n",
    "df_dict = {}\n",
    "for country in ['country_Finland', 'country_Norway', 'country_Sweden']:\n",
    "    for product in ['product_Kaggle Hat', 'product_Kaggle Mug', 'product_Kaggle Sticker']:\n",
    "        for store in ['store_KaggleMart', 'store_KaggleRama']:\n",
    "            name = country.split('_')[1] + '_' + product.split('_')[1] + '_' + store.split('_')[1]\n",
    "            currdf = df_prep[(df_prep[country] == 1) & (df_prep[product] == 1) & (df_prep[store] == 1)][['date', 'num_sold']]\n",
    "            df_dict[name] = currdf"
   ]
  },
  {
   "cell_type": "code",
   "execution_count": 22,
   "id": "471132c7",
   "metadata": {
    "nterop": {
     "id": "13"
    }
   },
   "outputs": [
    {
     "data": {
      "text/plain": [
       "dict_keys(['Finland_Kaggle Hat_KaggleMart', 'Finland_Kaggle Hat_KaggleRama', 'Finland_Kaggle Mug_KaggleMart', 'Finland_Kaggle Mug_KaggleRama', 'Finland_Kaggle Sticker_KaggleMart', 'Finland_Kaggle Sticker_KaggleRama', 'Norway_Kaggle Hat_KaggleMart', 'Norway_Kaggle Hat_KaggleRama', 'Norway_Kaggle Mug_KaggleMart', 'Norway_Kaggle Mug_KaggleRama', 'Norway_Kaggle Sticker_KaggleMart', 'Norway_Kaggle Sticker_KaggleRama', 'Sweden_Kaggle Hat_KaggleMart', 'Sweden_Kaggle Hat_KaggleRama', 'Sweden_Kaggle Mug_KaggleMart', 'Sweden_Kaggle Mug_KaggleRama', 'Sweden_Kaggle Sticker_KaggleMart', 'Sweden_Kaggle Sticker_KaggleRama'])"
      ]
     },
     "execution_count": 22,
     "metadata": {
      "nterop": {
       "id": "14"
      }
     },
     "output_type": "execute_result"
    }
   ],
   "source": [
    "df_dict.keys()"
   ]
  },
  {
   "cell_type": "code",
   "execution_count": 23,
   "id": "3212c419",
   "metadata": {
    "nterop": {
     "id": "15"
    }
   },
   "outputs": [
    {
     "data": {
      "text/html": [
       "<div>\n",
       "<style scoped>\n",
       "    .dataframe tbody tr th:only-of-type {\n",
       "        vertical-align: middle;\n",
       "    }\n",
       "\n",
       "    .dataframe tbody tr th {\n",
       "        vertical-align: top;\n",
       "    }\n",
       "\n",
       "    .dataframe thead th {\n",
       "        text-align: right;\n",
       "    }\n",
       "</style>\n",
       "<table border=\"1\" class=\"dataframe\">\n",
       "  <thead>\n",
       "    <tr style=\"text-align: right;\">\n",
       "      <th></th>\n",
       "      <th>date</th>\n",
       "      <th>num_sold</th>\n",
       "    </tr>\n",
       "  </thead>\n",
       "  <tbody>\n",
       "    <tr>\n",
       "      <th>1</th>\n",
       "      <td>2015-01-01</td>\n",
       "      <td>520</td>\n",
       "    </tr>\n",
       "    <tr>\n",
       "      <th>19</th>\n",
       "      <td>2015-01-02</td>\n",
       "      <td>493</td>\n",
       "    </tr>\n",
       "    <tr>\n",
       "      <th>37</th>\n",
       "      <td>2015-01-03</td>\n",
       "      <td>535</td>\n",
       "    </tr>\n",
       "    <tr>\n",
       "      <th>55</th>\n",
       "      <td>2015-01-04</td>\n",
       "      <td>544</td>\n",
       "    </tr>\n",
       "    <tr>\n",
       "      <th>73</th>\n",
       "      <td>2015-01-05</td>\n",
       "      <td>378</td>\n",
       "    </tr>\n",
       "  </tbody>\n",
       "</table>\n",
       "</div>"
      ],
      "text/plain": [
       "          date  num_sold\n",
       "1   2015-01-01       520\n",
       "19  2015-01-02       493\n",
       "37  2015-01-03       535\n",
       "55  2015-01-04       544\n",
       "73  2015-01-05       378"
      ]
     },
     "execution_count": 23,
     "metadata": {
      "nterop": {
       "id": "16"
      }
     },
     "output_type": "execute_result"
    }
   ],
   "source": [
    "df_dict['Finland_Kaggle Hat_KaggleMart'].head()"
   ]
  },
  {
   "cell_type": "code",
   "execution_count": 24,
   "id": "b25dbcf8",
   "metadata": {
    "nterop": {
     "id": "17"
    }
   },
   "outputs": [
    {
     "data": {
      "text/html": [
       "<div>\n",
       "<style scoped>\n",
       "    .dataframe tbody tr th:only-of-type {\n",
       "        vertical-align: middle;\n",
       "    }\n",
       "\n",
       "    .dataframe tbody tr th {\n",
       "        vertical-align: top;\n",
       "    }\n",
       "\n",
       "    .dataframe thead th {\n",
       "        text-align: right;\n",
       "    }\n",
       "</style>\n",
       "<table border=\"1\" class=\"dataframe\">\n",
       "  <thead>\n",
       "    <tr style=\"text-align: right;\">\n",
       "      <th></th>\n",
       "      <th>row_id</th>\n",
       "      <th>date</th>\n",
       "      <th>country</th>\n",
       "      <th>store</th>\n",
       "      <th>product</th>\n",
       "      <th>num_sold</th>\n",
       "    </tr>\n",
       "  </thead>\n",
       "  <tbody>\n",
       "    <tr>\n",
       "      <th>0</th>\n",
       "      <td>0</td>\n",
       "      <td>2015-01-01</td>\n",
       "      <td>Finland</td>\n",
       "      <td>KaggleMart</td>\n",
       "      <td>Kaggle Mug</td>\n",
       "      <td>329</td>\n",
       "    </tr>\n",
       "    <tr>\n",
       "      <th>1</th>\n",
       "      <td>1</td>\n",
       "      <td>2015-01-01</td>\n",
       "      <td>Finland</td>\n",
       "      <td>KaggleMart</td>\n",
       "      <td>Kaggle Hat</td>\n",
       "      <td>520</td>\n",
       "    </tr>\n",
       "    <tr>\n",
       "      <th>2</th>\n",
       "      <td>2</td>\n",
       "      <td>2015-01-01</td>\n",
       "      <td>Finland</td>\n",
       "      <td>KaggleMart</td>\n",
       "      <td>Kaggle Sticker</td>\n",
       "      <td>146</td>\n",
       "    </tr>\n",
       "    <tr>\n",
       "      <th>3</th>\n",
       "      <td>3</td>\n",
       "      <td>2015-01-01</td>\n",
       "      <td>Finland</td>\n",
       "      <td>KaggleRama</td>\n",
       "      <td>Kaggle Mug</td>\n",
       "      <td>572</td>\n",
       "    </tr>\n",
       "    <tr>\n",
       "      <th>4</th>\n",
       "      <td>4</td>\n",
       "      <td>2015-01-01</td>\n",
       "      <td>Finland</td>\n",
       "      <td>KaggleRama</td>\n",
       "      <td>Kaggle Hat</td>\n",
       "      <td>911</td>\n",
       "    </tr>\n",
       "  </tbody>\n",
       "</table>\n",
       "</div>"
      ],
      "text/plain": [
       "   row_id        date  country       store         product  num_sold\n",
       "0       0  2015-01-01  Finland  KaggleMart      Kaggle Mug       329\n",
       "1       1  2015-01-01  Finland  KaggleMart      Kaggle Hat       520\n",
       "2       2  2015-01-01  Finland  KaggleMart  Kaggle Sticker       146\n",
       "3       3  2015-01-01  Finland  KaggleRama      Kaggle Mug       572\n",
       "4       4  2015-01-01  Finland  KaggleRama      Kaggle Hat       911"
      ]
     },
     "execution_count": 24,
     "metadata": {
      "nterop": {
       "id": "18"
      }
     },
     "output_type": "execute_result"
    }
   ],
   "source": [
    "df.head()"
   ]
  },
  {
   "cell_type": "code",
   "execution_count": 41,
   "id": "4c4f7cfc",
   "metadata": {
    "nterop": {
     "id": "19"
    }
   },
   "outputs": [],
   "source": [
    "df_pivot = df.pivot_table('num_sold', ['date'], ['country', 'store', 'product'])"
   ]
  },
  {
   "cell_type": "code",
   "execution_count": 42,
   "id": "33e70fb1",
   "metadata": {
    "nterop": {
     "id": "20"
    }
   },
   "outputs": [
    {
     "data": {
      "text/html": [
       "<div>\n",
       "<style scoped>\n",
       "    .dataframe tbody tr th:only-of-type {\n",
       "        vertical-align: middle;\n",
       "    }\n",
       "\n",
       "    .dataframe tbody tr th {\n",
       "        vertical-align: top;\n",
       "    }\n",
       "\n",
       "    .dataframe thead tr th {\n",
       "        text-align: left;\n",
       "    }\n",
       "\n",
       "    .dataframe thead tr:last-of-type th {\n",
       "        text-align: right;\n",
       "    }\n",
       "</style>\n",
       "<table border=\"1\" class=\"dataframe\">\n",
       "  <thead>\n",
       "    <tr>\n",
       "      <th>country</th>\n",
       "      <th colspan=\"6\" halign=\"left\">Finland</th>\n",
       "      <th colspan=\"6\" halign=\"left\">Norway</th>\n",
       "      <th colspan=\"6\" halign=\"left\">Sweden</th>\n",
       "    </tr>\n",
       "    <tr>\n",
       "      <th>store</th>\n",
       "      <th colspan=\"3\" halign=\"left\">KaggleMart</th>\n",
       "      <th colspan=\"3\" halign=\"left\">KaggleRama</th>\n",
       "      <th colspan=\"3\" halign=\"left\">KaggleMart</th>\n",
       "      <th colspan=\"3\" halign=\"left\">KaggleRama</th>\n",
       "      <th colspan=\"3\" halign=\"left\">KaggleMart</th>\n",
       "      <th colspan=\"3\" halign=\"left\">KaggleRama</th>\n",
       "    </tr>\n",
       "    <tr>\n",
       "      <th>product</th>\n",
       "      <th>Kaggle Hat</th>\n",
       "      <th>Kaggle Mug</th>\n",
       "      <th>Kaggle Sticker</th>\n",
       "      <th>Kaggle Hat</th>\n",
       "      <th>Kaggle Mug</th>\n",
       "      <th>Kaggle Sticker</th>\n",
       "      <th>Kaggle Hat</th>\n",
       "      <th>Kaggle Mug</th>\n",
       "      <th>Kaggle Sticker</th>\n",
       "      <th>Kaggle Hat</th>\n",
       "      <th>Kaggle Mug</th>\n",
       "      <th>Kaggle Sticker</th>\n",
       "      <th>Kaggle Hat</th>\n",
       "      <th>Kaggle Mug</th>\n",
       "      <th>Kaggle Sticker</th>\n",
       "      <th>Kaggle Hat</th>\n",
       "      <th>Kaggle Mug</th>\n",
       "      <th>Kaggle Sticker</th>\n",
       "    </tr>\n",
       "    <tr>\n",
       "      <th>date</th>\n",
       "      <th></th>\n",
       "      <th></th>\n",
       "      <th></th>\n",
       "      <th></th>\n",
       "      <th></th>\n",
       "      <th></th>\n",
       "      <th></th>\n",
       "      <th></th>\n",
       "      <th></th>\n",
       "      <th></th>\n",
       "      <th></th>\n",
       "      <th></th>\n",
       "      <th></th>\n",
       "      <th></th>\n",
       "      <th></th>\n",
       "      <th></th>\n",
       "      <th></th>\n",
       "      <th></th>\n",
       "    </tr>\n",
       "  </thead>\n",
       "  <tbody>\n",
       "    <tr>\n",
       "      <th>2015-01-01</th>\n",
       "      <td>520</td>\n",
       "      <td>329</td>\n",
       "      <td>146</td>\n",
       "      <td>911</td>\n",
       "      <td>572</td>\n",
       "      <td>283</td>\n",
       "      <td>906</td>\n",
       "      <td>526</td>\n",
       "      <td>250</td>\n",
       "      <td>1461</td>\n",
       "      <td>1005</td>\n",
       "      <td>395</td>\n",
       "      <td>624</td>\n",
       "      <td>440</td>\n",
       "      <td>175</td>\n",
       "      <td>1195</td>\n",
       "      <td>706</td>\n",
       "      <td>324</td>\n",
       "    </tr>\n",
       "    <tr>\n",
       "      <th>2015-01-02</th>\n",
       "      <td>493</td>\n",
       "      <td>318</td>\n",
       "      <td>127</td>\n",
       "      <td>794</td>\n",
       "      <td>544</td>\n",
       "      <td>249</td>\n",
       "      <td>845</td>\n",
       "      <td>538</td>\n",
       "      <td>237</td>\n",
       "      <td>1446</td>\n",
       "      <td>949</td>\n",
       "      <td>415</td>\n",
       "      <td>572</td>\n",
       "      <td>384</td>\n",
       "      <td>155</td>\n",
       "      <td>986</td>\n",
       "      <td>653</td>\n",
       "      <td>293</td>\n",
       "    </tr>\n",
       "    <tr>\n",
       "      <th>2015-01-03</th>\n",
       "      <td>535</td>\n",
       "      <td>360</td>\n",
       "      <td>141</td>\n",
       "      <td>843</td>\n",
       "      <td>579</td>\n",
       "      <td>265</td>\n",
       "      <td>930</td>\n",
       "      <td>614</td>\n",
       "      <td>254</td>\n",
       "      <td>1631</td>\n",
       "      <td>1029</td>\n",
       "      <td>451</td>\n",
       "      <td>630</td>\n",
       "      <td>420</td>\n",
       "      <td>173</td>\n",
       "      <td>1167</td>\n",
       "      <td>734</td>\n",
       "      <td>319</td>\n",
       "    </tr>\n",
       "    <tr>\n",
       "      <th>2015-01-04</th>\n",
       "      <td>544</td>\n",
       "      <td>332</td>\n",
       "      <td>125</td>\n",
       "      <td>873</td>\n",
       "      <td>582</td>\n",
       "      <td>245</td>\n",
       "      <td>889</td>\n",
       "      <td>589</td>\n",
       "      <td>255</td>\n",
       "      <td>1540</td>\n",
       "      <td>957</td>\n",
       "      <td>455</td>\n",
       "      <td>697</td>\n",
       "      <td>406</td>\n",
       "      <td>169</td>\n",
       "      <td>1112</td>\n",
       "      <td>657</td>\n",
       "      <td>300</td>\n",
       "    </tr>\n",
       "    <tr>\n",
       "      <th>2015-01-05</th>\n",
       "      <td>378</td>\n",
       "      <td>243</td>\n",
       "      <td>102</td>\n",
       "      <td>668</td>\n",
       "      <td>423</td>\n",
       "      <td>187</td>\n",
       "      <td>671</td>\n",
       "      <td>435</td>\n",
       "      <td>184</td>\n",
       "      <td>1126</td>\n",
       "      <td>739</td>\n",
       "      <td>310</td>\n",
       "      <td>442</td>\n",
       "      <td>298</td>\n",
       "      <td>127</td>\n",
       "      <td>796</td>\n",
       "      <td>512</td>\n",
       "      <td>227</td>\n",
       "    </tr>\n",
       "  </tbody>\n",
       "</table>\n",
       "</div>"
      ],
      "text/plain": [
       "country       Finland                                                  \\\n",
       "store      KaggleMart                           KaggleRama              \n",
       "product    Kaggle Hat Kaggle Mug Kaggle Sticker Kaggle Hat Kaggle Mug   \n",
       "date                                                                    \n",
       "2015-01-01        520        329            146        911        572   \n",
       "2015-01-02        493        318            127        794        544   \n",
       "2015-01-03        535        360            141        843        579   \n",
       "2015-01-04        544        332            125        873        582   \n",
       "2015-01-05        378        243            102        668        423   \n",
       "\n",
       "country                       Norway                                       \\\n",
       "store                     KaggleMart                           KaggleRama   \n",
       "product    Kaggle Sticker Kaggle Hat Kaggle Mug Kaggle Sticker Kaggle Hat   \n",
       "date                                                                        \n",
       "2015-01-01            283        906        526            250       1461   \n",
       "2015-01-02            249        845        538            237       1446   \n",
       "2015-01-03            265        930        614            254       1631   \n",
       "2015-01-04            245        889        589            255       1540   \n",
       "2015-01-05            187        671        435            184       1126   \n",
       "\n",
       "country                                  Sweden                            \\\n",
       "store                                KaggleMart                             \n",
       "product    Kaggle Mug Kaggle Sticker Kaggle Hat Kaggle Mug Kaggle Sticker   \n",
       "date                                                                        \n",
       "2015-01-01       1005            395        624        440            175   \n",
       "2015-01-02        949            415        572        384            155   \n",
       "2015-01-03       1029            451        630        420            173   \n",
       "2015-01-04        957            455        697        406            169   \n",
       "2015-01-05        739            310        442        298            127   \n",
       "\n",
       "country                                          \n",
       "store      KaggleRama                            \n",
       "product    Kaggle Hat Kaggle Mug Kaggle Sticker  \n",
       "date                                             \n",
       "2015-01-01       1195        706            324  \n",
       "2015-01-02        986        653            293  \n",
       "2015-01-03       1167        734            319  \n",
       "2015-01-04       1112        657            300  \n",
       "2015-01-05        796        512            227  "
      ]
     },
     "execution_count": 42,
     "metadata": {
      "nterop": {
       "id": "32"
      }
     },
     "output_type": "execute_result"
    }
   ],
   "source": [
    "df_pivot.head()"
   ]
  },
  {
   "cell_type": "code",
   "execution_count": 43,
   "id": "f72dab36",
   "metadata": {
    "nterop": {
     "id": "22"
    }
   },
   "outputs": [],
   "source": [
    "df_pivot.columns = df_pivot.columns.map('_'.join).str.strip('_')"
   ]
  },
  {
   "cell_type": "code",
   "execution_count": 44,
   "id": "dee2f57b",
   "metadata": {
    "nterop": {
     "id": "23"
    }
   },
   "outputs": [
    {
     "data": {
      "text/html": [
       "<div>\n",
       "<style scoped>\n",
       "    .dataframe tbody tr th:only-of-type {\n",
       "        vertical-align: middle;\n",
       "    }\n",
       "\n",
       "    .dataframe tbody tr th {\n",
       "        vertical-align: top;\n",
       "    }\n",
       "\n",
       "    .dataframe thead th {\n",
       "        text-align: right;\n",
       "    }\n",
       "</style>\n",
       "<table border=\"1\" class=\"dataframe\">\n",
       "  <thead>\n",
       "    <tr style=\"text-align: right;\">\n",
       "      <th></th>\n",
       "      <th>Finland_KaggleMart_Kaggle Hat</th>\n",
       "      <th>Finland_KaggleMart_Kaggle Mug</th>\n",
       "      <th>Finland_KaggleMart_Kaggle Sticker</th>\n",
       "      <th>Finland_KaggleRama_Kaggle Hat</th>\n",
       "      <th>Finland_KaggleRama_Kaggle Mug</th>\n",
       "      <th>Finland_KaggleRama_Kaggle Sticker</th>\n",
       "      <th>Norway_KaggleMart_Kaggle Hat</th>\n",
       "      <th>Norway_KaggleMart_Kaggle Mug</th>\n",
       "      <th>Norway_KaggleMart_Kaggle Sticker</th>\n",
       "      <th>Norway_KaggleRama_Kaggle Hat</th>\n",
       "      <th>Norway_KaggleRama_Kaggle Mug</th>\n",
       "      <th>Norway_KaggleRama_Kaggle Sticker</th>\n",
       "      <th>Sweden_KaggleMart_Kaggle Hat</th>\n",
       "      <th>Sweden_KaggleMart_Kaggle Mug</th>\n",
       "      <th>Sweden_KaggleMart_Kaggle Sticker</th>\n",
       "      <th>Sweden_KaggleRama_Kaggle Hat</th>\n",
       "      <th>Sweden_KaggleRama_Kaggle Mug</th>\n",
       "      <th>Sweden_KaggleRama_Kaggle Sticker</th>\n",
       "    </tr>\n",
       "    <tr>\n",
       "      <th>date</th>\n",
       "      <th></th>\n",
       "      <th></th>\n",
       "      <th></th>\n",
       "      <th></th>\n",
       "      <th></th>\n",
       "      <th></th>\n",
       "      <th></th>\n",
       "      <th></th>\n",
       "      <th></th>\n",
       "      <th></th>\n",
       "      <th></th>\n",
       "      <th></th>\n",
       "      <th></th>\n",
       "      <th></th>\n",
       "      <th></th>\n",
       "      <th></th>\n",
       "      <th></th>\n",
       "      <th></th>\n",
       "    </tr>\n",
       "  </thead>\n",
       "  <tbody>\n",
       "    <tr>\n",
       "      <th>2015-01-01</th>\n",
       "      <td>520</td>\n",
       "      <td>329</td>\n",
       "      <td>146</td>\n",
       "      <td>911</td>\n",
       "      <td>572</td>\n",
       "      <td>283</td>\n",
       "      <td>906</td>\n",
       "      <td>526</td>\n",
       "      <td>250</td>\n",
       "      <td>1461</td>\n",
       "      <td>1005</td>\n",
       "      <td>395</td>\n",
       "      <td>624</td>\n",
       "      <td>440</td>\n",
       "      <td>175</td>\n",
       "      <td>1195</td>\n",
       "      <td>706</td>\n",
       "      <td>324</td>\n",
       "    </tr>\n",
       "    <tr>\n",
       "      <th>2015-01-02</th>\n",
       "      <td>493</td>\n",
       "      <td>318</td>\n",
       "      <td>127</td>\n",
       "      <td>794</td>\n",
       "      <td>544</td>\n",
       "      <td>249</td>\n",
       "      <td>845</td>\n",
       "      <td>538</td>\n",
       "      <td>237</td>\n",
       "      <td>1446</td>\n",
       "      <td>949</td>\n",
       "      <td>415</td>\n",
       "      <td>572</td>\n",
       "      <td>384</td>\n",
       "      <td>155</td>\n",
       "      <td>986</td>\n",
       "      <td>653</td>\n",
       "      <td>293</td>\n",
       "    </tr>\n",
       "    <tr>\n",
       "      <th>2015-01-03</th>\n",
       "      <td>535</td>\n",
       "      <td>360</td>\n",
       "      <td>141</td>\n",
       "      <td>843</td>\n",
       "      <td>579</td>\n",
       "      <td>265</td>\n",
       "      <td>930</td>\n",
       "      <td>614</td>\n",
       "      <td>254</td>\n",
       "      <td>1631</td>\n",
       "      <td>1029</td>\n",
       "      <td>451</td>\n",
       "      <td>630</td>\n",
       "      <td>420</td>\n",
       "      <td>173</td>\n",
       "      <td>1167</td>\n",
       "      <td>734</td>\n",
       "      <td>319</td>\n",
       "    </tr>\n",
       "    <tr>\n",
       "      <th>2015-01-04</th>\n",
       "      <td>544</td>\n",
       "      <td>332</td>\n",
       "      <td>125</td>\n",
       "      <td>873</td>\n",
       "      <td>582</td>\n",
       "      <td>245</td>\n",
       "      <td>889</td>\n",
       "      <td>589</td>\n",
       "      <td>255</td>\n",
       "      <td>1540</td>\n",
       "      <td>957</td>\n",
       "      <td>455</td>\n",
       "      <td>697</td>\n",
       "      <td>406</td>\n",
       "      <td>169</td>\n",
       "      <td>1112</td>\n",
       "      <td>657</td>\n",
       "      <td>300</td>\n",
       "    </tr>\n",
       "    <tr>\n",
       "      <th>2015-01-05</th>\n",
       "      <td>378</td>\n",
       "      <td>243</td>\n",
       "      <td>102</td>\n",
       "      <td>668</td>\n",
       "      <td>423</td>\n",
       "      <td>187</td>\n",
       "      <td>671</td>\n",
       "      <td>435</td>\n",
       "      <td>184</td>\n",
       "      <td>1126</td>\n",
       "      <td>739</td>\n",
       "      <td>310</td>\n",
       "      <td>442</td>\n",
       "      <td>298</td>\n",
       "      <td>127</td>\n",
       "      <td>796</td>\n",
       "      <td>512</td>\n",
       "      <td>227</td>\n",
       "    </tr>\n",
       "  </tbody>\n",
       "</table>\n",
       "</div>"
      ],
      "text/plain": [
       "            Finland_KaggleMart_Kaggle Hat  Finland_KaggleMart_Kaggle Mug  \\\n",
       "date                                                                       \n",
       "2015-01-01                            520                            329   \n",
       "2015-01-02                            493                            318   \n",
       "2015-01-03                            535                            360   \n",
       "2015-01-04                            544                            332   \n",
       "2015-01-05                            378                            243   \n",
       "\n",
       "            Finland_KaggleMart_Kaggle Sticker  Finland_KaggleRama_Kaggle Hat  \\\n",
       "date                                                                           \n",
       "2015-01-01                                146                            911   \n",
       "2015-01-02                                127                            794   \n",
       "2015-01-03                                141                            843   \n",
       "2015-01-04                                125                            873   \n",
       "2015-01-05                                102                            668   \n",
       "\n",
       "            Finland_KaggleRama_Kaggle Mug  Finland_KaggleRama_Kaggle Sticker  \\\n",
       "date                                                                           \n",
       "2015-01-01                            572                                283   \n",
       "2015-01-02                            544                                249   \n",
       "2015-01-03                            579                                265   \n",
       "2015-01-04                            582                                245   \n",
       "2015-01-05                            423                                187   \n",
       "\n",
       "            Norway_KaggleMart_Kaggle Hat  Norway_KaggleMart_Kaggle Mug  \\\n",
       "date                                                                     \n",
       "2015-01-01                           906                           526   \n",
       "2015-01-02                           845                           538   \n",
       "2015-01-03                           930                           614   \n",
       "2015-01-04                           889                           589   \n",
       "2015-01-05                           671                           435   \n",
       "\n",
       "            Norway_KaggleMart_Kaggle Sticker  Norway_KaggleRama_Kaggle Hat  \\\n",
       "date                                                                         \n",
       "2015-01-01                               250                          1461   \n",
       "2015-01-02                               237                          1446   \n",
       "2015-01-03                               254                          1631   \n",
       "2015-01-04                               255                          1540   \n",
       "2015-01-05                               184                          1126   \n",
       "\n",
       "            Norway_KaggleRama_Kaggle Mug  Norway_KaggleRama_Kaggle Sticker  \\\n",
       "date                                                                         \n",
       "2015-01-01                          1005                               395   \n",
       "2015-01-02                           949                               415   \n",
       "2015-01-03                          1029                               451   \n",
       "2015-01-04                           957                               455   \n",
       "2015-01-05                           739                               310   \n",
       "\n",
       "            Sweden_KaggleMart_Kaggle Hat  Sweden_KaggleMart_Kaggle Mug  \\\n",
       "date                                                                     \n",
       "2015-01-01                           624                           440   \n",
       "2015-01-02                           572                           384   \n",
       "2015-01-03                           630                           420   \n",
       "2015-01-04                           697                           406   \n",
       "2015-01-05                           442                           298   \n",
       "\n",
       "            Sweden_KaggleMart_Kaggle Sticker  Sweden_KaggleRama_Kaggle Hat  \\\n",
       "date                                                                         \n",
       "2015-01-01                               175                          1195   \n",
       "2015-01-02                               155                           986   \n",
       "2015-01-03                               173                          1167   \n",
       "2015-01-04                               169                          1112   \n",
       "2015-01-05                               127                           796   \n",
       "\n",
       "            Sweden_KaggleRama_Kaggle Mug  Sweden_KaggleRama_Kaggle Sticker  \n",
       "date                                                                        \n",
       "2015-01-01                           706                               324  \n",
       "2015-01-02                           653                               293  \n",
       "2015-01-03                           734                               319  \n",
       "2015-01-04                           657                               300  \n",
       "2015-01-05                           512                               227  "
      ]
     },
     "execution_count": 44,
     "metadata": {
      "nterop": {
       "id": "33"
      }
     },
     "output_type": "execute_result"
    }
   ],
   "source": [
    "df_pivot.head()"
   ]
  },
  {
   "cell_type": "code",
   "execution_count": 34,
   "id": "e7a642ee",
   "metadata": {
    "nterop": {
     "id": "25"
    }
   },
   "outputs": [
    {
     "data": {
      "text/html": [
       "<div>\n",
       "<style scoped>\n",
       "    .dataframe tbody tr th:only-of-type {\n",
       "        vertical-align: middle;\n",
       "    }\n",
       "\n",
       "    .dataframe tbody tr th {\n",
       "        vertical-align: top;\n",
       "    }\n",
       "\n",
       "    .dataframe thead th {\n",
       "        text-align: right;\n",
       "    }\n",
       "</style>\n",
       "<table border=\"1\" class=\"dataframe\">\n",
       "  <thead>\n",
       "    <tr style=\"text-align: right;\">\n",
       "      <th></th>\n",
       "      <th>Finland_KaggleMart_Kaggle Hat</th>\n",
       "      <th>Finland_KaggleMart_Kaggle Mug</th>\n",
       "      <th>Finland_KaggleMart_Kaggle Sticker</th>\n",
       "      <th>Finland_KaggleRama_Kaggle Hat</th>\n",
       "      <th>Finland_KaggleRama_Kaggle Mug</th>\n",
       "      <th>Finland_KaggleRama_Kaggle Sticker</th>\n",
       "      <th>Norway_KaggleMart_Kaggle Hat</th>\n",
       "      <th>Norway_KaggleMart_Kaggle Mug</th>\n",
       "      <th>Norway_KaggleMart_Kaggle Sticker</th>\n",
       "      <th>Norway_KaggleRama_Kaggle Hat</th>\n",
       "      <th>Norway_KaggleRama_Kaggle Mug</th>\n",
       "      <th>Norway_KaggleRama_Kaggle Sticker</th>\n",
       "      <th>Sweden_KaggleMart_Kaggle Hat</th>\n",
       "      <th>Sweden_KaggleMart_Kaggle Mug</th>\n",
       "      <th>Sweden_KaggleMart_Kaggle Sticker</th>\n",
       "      <th>Sweden_KaggleRama_Kaggle Hat</th>\n",
       "      <th>Sweden_KaggleRama_Kaggle Mug</th>\n",
       "      <th>Sweden_KaggleRama_Kaggle Sticker</th>\n",
       "    </tr>\n",
       "    <tr>\n",
       "      <th>date</th>\n",
       "      <th></th>\n",
       "      <th></th>\n",
       "      <th></th>\n",
       "      <th></th>\n",
       "      <th></th>\n",
       "      <th></th>\n",
       "      <th></th>\n",
       "      <th></th>\n",
       "      <th></th>\n",
       "      <th></th>\n",
       "      <th></th>\n",
       "      <th></th>\n",
       "      <th></th>\n",
       "      <th></th>\n",
       "      <th></th>\n",
       "      <th></th>\n",
       "      <th></th>\n",
       "      <th></th>\n",
       "    </tr>\n",
       "  </thead>\n",
       "  <tbody>\n",
       "    <tr>\n",
       "      <th>2018-12-27</th>\n",
       "      <td>573</td>\n",
       "      <td>414</td>\n",
       "      <td>177</td>\n",
       "      <td>1068</td>\n",
       "      <td>652</td>\n",
       "      <td>308</td>\n",
       "      <td>898</td>\n",
       "      <td>568</td>\n",
       "      <td>270</td>\n",
       "      <td>1604</td>\n",
       "      <td>1108</td>\n",
       "      <td>436</td>\n",
       "      <td>672</td>\n",
       "      <td>420</td>\n",
       "      <td>196</td>\n",
       "      <td>1127</td>\n",
       "      <td>745</td>\n",
       "      <td>319</td>\n",
       "    </tr>\n",
       "    <tr>\n",
       "      <th>2018-12-28</th>\n",
       "      <td>841</td>\n",
       "      <td>499</td>\n",
       "      <td>223</td>\n",
       "      <td>1398</td>\n",
       "      <td>895</td>\n",
       "      <td>431</td>\n",
       "      <td>1162</td>\n",
       "      <td>731</td>\n",
       "      <td>361</td>\n",
       "      <td>2178</td>\n",
       "      <td>1333</td>\n",
       "      <td>662</td>\n",
       "      <td>874</td>\n",
       "      <td>555</td>\n",
       "      <td>260</td>\n",
       "      <td>1540</td>\n",
       "      <td>990</td>\n",
       "      <td>441</td>\n",
       "    </tr>\n",
       "    <tr>\n",
       "      <th>2018-12-29</th>\n",
       "      <td>1107</td>\n",
       "      <td>774</td>\n",
       "      <td>296</td>\n",
       "      <td>1895</td>\n",
       "      <td>1398</td>\n",
       "      <td>559</td>\n",
       "      <td>1650</td>\n",
       "      <td>1113</td>\n",
       "      <td>518</td>\n",
       "      <td>2884</td>\n",
       "      <td>1816</td>\n",
       "      <td>874</td>\n",
       "      <td>1106</td>\n",
       "      <td>720</td>\n",
       "      <td>348</td>\n",
       "      <td>2169</td>\n",
       "      <td>1438</td>\n",
       "      <td>596</td>\n",
       "    </tr>\n",
       "    <tr>\n",
       "      <th>2018-12-30</th>\n",
       "      <td>1113</td>\n",
       "      <td>757</td>\n",
       "      <td>326</td>\n",
       "      <td>1878</td>\n",
       "      <td>1241</td>\n",
       "      <td>554</td>\n",
       "      <td>1809</td>\n",
       "      <td>1052</td>\n",
       "      <td>500</td>\n",
       "      <td>2851</td>\n",
       "      <td>1935</td>\n",
       "      <td>833</td>\n",
       "      <td>1133</td>\n",
       "      <td>730</td>\n",
       "      <td>336</td>\n",
       "      <td>2138</td>\n",
       "      <td>1303</td>\n",
       "      <td>587</td>\n",
       "    </tr>\n",
       "    <tr>\n",
       "      <th>2018-12-31</th>\n",
       "      <td>822</td>\n",
       "      <td>469</td>\n",
       "      <td>238</td>\n",
       "      <td>1231</td>\n",
       "      <td>831</td>\n",
       "      <td>360</td>\n",
       "      <td>1124</td>\n",
       "      <td>728</td>\n",
       "      <td>351</td>\n",
       "      <td>2128</td>\n",
       "      <td>1383</td>\n",
       "      <td>561</td>\n",
       "      <td>823</td>\n",
       "      <td>570</td>\n",
       "      <td>250</td>\n",
       "      <td>1441</td>\n",
       "      <td>1004</td>\n",
       "      <td>388</td>\n",
       "    </tr>\n",
       "  </tbody>\n",
       "</table>\n",
       "</div>"
      ],
      "text/plain": [
       "            Finland_KaggleMart_Kaggle Hat  Finland_KaggleMart_Kaggle Mug  \\\n",
       "date                                                                       \n",
       "2018-12-27                            573                            414   \n",
       "2018-12-28                            841                            499   \n",
       "2018-12-29                           1107                            774   \n",
       "2018-12-30                           1113                            757   \n",
       "2018-12-31                            822                            469   \n",
       "\n",
       "            Finland_KaggleMart_Kaggle Sticker  Finland_KaggleRama_Kaggle Hat  \\\n",
       "date                                                                           \n",
       "2018-12-27                                177                           1068   \n",
       "2018-12-28                                223                           1398   \n",
       "2018-12-29                                296                           1895   \n",
       "2018-12-30                                326                           1878   \n",
       "2018-12-31                                238                           1231   \n",
       "\n",
       "            Finland_KaggleRama_Kaggle Mug  Finland_KaggleRama_Kaggle Sticker  \\\n",
       "date                                                                           \n",
       "2018-12-27                            652                                308   \n",
       "2018-12-28                            895                                431   \n",
       "2018-12-29                           1398                                559   \n",
       "2018-12-30                           1241                                554   \n",
       "2018-12-31                            831                                360   \n",
       "\n",
       "            Norway_KaggleMart_Kaggle Hat  Norway_KaggleMart_Kaggle Mug  \\\n",
       "date                                                                     \n",
       "2018-12-27                           898                           568   \n",
       "2018-12-28                          1162                           731   \n",
       "2018-12-29                          1650                          1113   \n",
       "2018-12-30                          1809                          1052   \n",
       "2018-12-31                          1124                           728   \n",
       "\n",
       "            Norway_KaggleMart_Kaggle Sticker  Norway_KaggleRama_Kaggle Hat  \\\n",
       "date                                                                         \n",
       "2018-12-27                               270                          1604   \n",
       "2018-12-28                               361                          2178   \n",
       "2018-12-29                               518                          2884   \n",
       "2018-12-30                               500                          2851   \n",
       "2018-12-31                               351                          2128   \n",
       "\n",
       "            Norway_KaggleRama_Kaggle Mug  Norway_KaggleRama_Kaggle Sticker  \\\n",
       "date                                                                         \n",
       "2018-12-27                          1108                               436   \n",
       "2018-12-28                          1333                               662   \n",
       "2018-12-29                          1816                               874   \n",
       "2018-12-30                          1935                               833   \n",
       "2018-12-31                          1383                               561   \n",
       "\n",
       "            Sweden_KaggleMart_Kaggle Hat  Sweden_KaggleMart_Kaggle Mug  \\\n",
       "date                                                                     \n",
       "2018-12-27                           672                           420   \n",
       "2018-12-28                           874                           555   \n",
       "2018-12-29                          1106                           720   \n",
       "2018-12-30                          1133                           730   \n",
       "2018-12-31                           823                           570   \n",
       "\n",
       "            Sweden_KaggleMart_Kaggle Sticker  Sweden_KaggleRama_Kaggle Hat  \\\n",
       "date                                                                         \n",
       "2018-12-27                               196                          1127   \n",
       "2018-12-28                               260                          1540   \n",
       "2018-12-29                               348                          2169   \n",
       "2018-12-30                               336                          2138   \n",
       "2018-12-31                               250                          1441   \n",
       "\n",
       "            Sweden_KaggleRama_Kaggle Mug  Sweden_KaggleRama_Kaggle Sticker  \n",
       "date                                                                        \n",
       "2018-12-27                           745                               319  \n",
       "2018-12-28                           990                               441  \n",
       "2018-12-29                          1438                               596  \n",
       "2018-12-30                          1303                               587  \n",
       "2018-12-31                          1004                               388  "
      ]
     },
     "execution_count": 34,
     "metadata": {
      "nterop": {
       "id": "26"
      }
     },
     "output_type": "execute_result"
    }
   ],
   "source": [
    "df_pivot.tail()"
   ]
  },
  {
   "cell_type": "code",
   "execution_count": 36,
   "id": "d3a491d7",
   "metadata": {
    "nterop": {
     "id": "27"
    }
   },
   "outputs": [
    {
     "data": {
      "text/plain": [
       "Finland_KaggleMart_Kaggle Hat         524\n",
       "Finland_KaggleMart_Kaggle Mug         316\n",
       "Finland_KaggleMart_Kaggle Sticker     146\n",
       "Finland_KaggleRama_Kaggle Hat        1020\n",
       "Finland_KaggleRama_Kaggle Mug         648\n",
       "Finland_KaggleRama_Kaggle Sticker     254\n",
       "Norway_KaggleMart_Kaggle Hat          859\n",
       "Norway_KaggleMart_Kaggle Mug          561\n",
       "Norway_KaggleMart_Kaggle Sticker      228\n",
       "Norway_KaggleRama_Kaggle Hat         1430\n",
       "Norway_KaggleRama_Kaggle Mug          996\n",
       "Norway_KaggleRama_Kaggle Sticker      436\n",
       "Sweden_KaggleMart_Kaggle Hat          679\n",
       "Sweden_KaggleMart_Kaggle Mug          428\n",
       "Sweden_KaggleMart_Kaggle Sticker      183\n",
       "Sweden_KaggleRama_Kaggle Hat         1210\n",
       "Sweden_KaggleRama_Kaggle Mug          691\n",
       "Sweden_KaggleRama_Kaggle Sticker      366\n",
       "Name: 2016-01-02, dtype: int64"
      ]
     },
     "execution_count": 36,
     "metadata": {
      "nterop": {
       "id": "28"
      }
     },
     "output_type": "execute_result"
    }
   ],
   "source": [
    "df_pivot.iloc[366]"
   ]
  },
  {
   "cell_type": "code",
   "execution_count": 46,
   "id": "0e7239b8",
   "metadata": {
    "nterop": {
     "id": "34"
    }
   },
   "outputs": [
    {
     "data": {
      "text/plain": [
       "(1461, 18)"
      ]
     },
     "execution_count": 46,
     "metadata": {
      "nterop": {
       "id": "35"
      }
     },
     "output_type": "execute_result"
    }
   ],
   "source": [
    "df_pivot.shape"
   ]
  },
  {
   "cell_type": "code",
   "execution_count": 67,
   "id": "59ff46db",
   "metadata": {
    "nterop": {
     "id": "36"
    }
   },
   "outputs": [
    {
     "data": {
      "text/html": [
       "<div>\n",
       "<style scoped>\n",
       "    .dataframe tbody tr th:only-of-type {\n",
       "        vertical-align: middle;\n",
       "    }\n",
       "\n",
       "    .dataframe tbody tr th {\n",
       "        vertical-align: top;\n",
       "    }\n",
       "\n",
       "    .dataframe thead th {\n",
       "        text-align: right;\n",
       "    }\n",
       "</style>\n",
       "<table border=\"1\" class=\"dataframe\">\n",
       "  <thead>\n",
       "    <tr style=\"text-align: right;\">\n",
       "      <th></th>\n",
       "      <th>ds</th>\n",
       "      <th>y</th>\n",
       "    </tr>\n",
       "  </thead>\n",
       "  <tbody>\n",
       "    <tr>\n",
       "      <th>0</th>\n",
       "      <td>2015-01-01</td>\n",
       "      <td>520</td>\n",
       "    </tr>\n",
       "    <tr>\n",
       "      <th>1</th>\n",
       "      <td>2015-01-02</td>\n",
       "      <td>493</td>\n",
       "    </tr>\n",
       "    <tr>\n",
       "      <th>2</th>\n",
       "      <td>2015-01-03</td>\n",
       "      <td>535</td>\n",
       "    </tr>\n",
       "    <tr>\n",
       "      <th>3</th>\n",
       "      <td>2015-01-04</td>\n",
       "      <td>544</td>\n",
       "    </tr>\n",
       "    <tr>\n",
       "      <th>4</th>\n",
       "      <td>2015-01-05</td>\n",
       "      <td>378</td>\n",
       "    </tr>\n",
       "  </tbody>\n",
       "</table>\n",
       "</div>"
      ],
      "text/plain": [
       "           ds    y\n",
       "0  2015-01-01  520\n",
       "1  2015-01-02  493\n",
       "2  2015-01-03  535\n",
       "3  2015-01-04  544\n",
       "4  2015-01-05  378"
      ]
     },
     "execution_count": 67,
     "metadata": {
      "nterop": {
       "id": "37"
      }
     },
     "output_type": "execute_result"
    }
   ],
   "source": [
    "df_target = df_pivot[['Finland_KaggleMart_Kaggle Hat']].iloc[0:-366]\n",
    "df_target['ds'] = df_target.index\n",
    "df_target['y'] = df_target['Finland_KaggleMart_Kaggle Hat']\n",
    "df_target = df_target.reset_index()[['ds', 'y']]\n",
    "df_target.head()"
   ]
  },
  {
   "cell_type": "code",
   "execution_count": 77,
   "id": "d23abab1",
   "metadata": {
    "nterop": {
     "id": "38"
    }
   },
   "outputs": [
    {
     "data": {
      "text/html": [
       "<div>\n",
       "<style scoped>\n",
       "    .dataframe tbody tr th:only-of-type {\n",
       "        vertical-align: middle;\n",
       "    }\n",
       "\n",
       "    .dataframe tbody tr th {\n",
       "        vertical-align: top;\n",
       "    }\n",
       "\n",
       "    .dataframe thead th {\n",
       "        text-align: right;\n",
       "    }\n",
       "</style>\n",
       "<table border=\"1\" class=\"dataframe\">\n",
       "  <thead>\n",
       "    <tr style=\"text-align: right;\">\n",
       "      <th></th>\n",
       "      <th>ds</th>\n",
       "      <th>y</th>\n",
       "      <th>date</th>\n",
       "      <th>Finland_KaggleMart_Kaggle Mug</th>\n",
       "      <th>Finland_KaggleMart_Kaggle Sticker</th>\n",
       "      <th>Finland_KaggleRama_Kaggle Hat</th>\n",
       "      <th>Finland_KaggleRama_Kaggle Mug</th>\n",
       "      <th>Finland_KaggleRama_Kaggle Sticker</th>\n",
       "      <th>Norway_KaggleMart_Kaggle Hat</th>\n",
       "      <th>Norway_KaggleMart_Kaggle Mug</th>\n",
       "      <th>Norway_KaggleMart_Kaggle Sticker</th>\n",
       "      <th>Norway_KaggleRama_Kaggle Hat</th>\n",
       "      <th>Norway_KaggleRama_Kaggle Mug</th>\n",
       "      <th>Norway_KaggleRama_Kaggle Sticker</th>\n",
       "      <th>Sweden_KaggleMart_Kaggle Hat</th>\n",
       "      <th>Sweden_KaggleMart_Kaggle Mug</th>\n",
       "      <th>Sweden_KaggleMart_Kaggle Sticker</th>\n",
       "      <th>Sweden_KaggleRama_Kaggle Hat</th>\n",
       "      <th>Sweden_KaggleRama_Kaggle Mug</th>\n",
       "      <th>Sweden_KaggleRama_Kaggle Sticker</th>\n",
       "    </tr>\n",
       "  </thead>\n",
       "  <tbody>\n",
       "    <tr>\n",
       "      <th>0</th>\n",
       "      <td>2015-01-01</td>\n",
       "      <td>520</td>\n",
       "      <td>2015-01-01</td>\n",
       "      <td>329</td>\n",
       "      <td>146</td>\n",
       "      <td>911</td>\n",
       "      <td>572</td>\n",
       "      <td>283</td>\n",
       "      <td>906</td>\n",
       "      <td>526</td>\n",
       "      <td>250</td>\n",
       "      <td>1461</td>\n",
       "      <td>1005</td>\n",
       "      <td>395</td>\n",
       "      <td>624</td>\n",
       "      <td>440</td>\n",
       "      <td>175</td>\n",
       "      <td>1195</td>\n",
       "      <td>706</td>\n",
       "      <td>324</td>\n",
       "    </tr>\n",
       "    <tr>\n",
       "      <th>1</th>\n",
       "      <td>2015-01-02</td>\n",
       "      <td>493</td>\n",
       "      <td>2015-01-02</td>\n",
       "      <td>318</td>\n",
       "      <td>127</td>\n",
       "      <td>794</td>\n",
       "      <td>544</td>\n",
       "      <td>249</td>\n",
       "      <td>845</td>\n",
       "      <td>538</td>\n",
       "      <td>237</td>\n",
       "      <td>1446</td>\n",
       "      <td>949</td>\n",
       "      <td>415</td>\n",
       "      <td>572</td>\n",
       "      <td>384</td>\n",
       "      <td>155</td>\n",
       "      <td>986</td>\n",
       "      <td>653</td>\n",
       "      <td>293</td>\n",
       "    </tr>\n",
       "    <tr>\n",
       "      <th>2</th>\n",
       "      <td>2015-01-03</td>\n",
       "      <td>535</td>\n",
       "      <td>2015-01-03</td>\n",
       "      <td>360</td>\n",
       "      <td>141</td>\n",
       "      <td>843</td>\n",
       "      <td>579</td>\n",
       "      <td>265</td>\n",
       "      <td>930</td>\n",
       "      <td>614</td>\n",
       "      <td>254</td>\n",
       "      <td>1631</td>\n",
       "      <td>1029</td>\n",
       "      <td>451</td>\n",
       "      <td>630</td>\n",
       "      <td>420</td>\n",
       "      <td>173</td>\n",
       "      <td>1167</td>\n",
       "      <td>734</td>\n",
       "      <td>319</td>\n",
       "    </tr>\n",
       "    <tr>\n",
       "      <th>3</th>\n",
       "      <td>2015-01-04</td>\n",
       "      <td>544</td>\n",
       "      <td>2015-01-04</td>\n",
       "      <td>332</td>\n",
       "      <td>125</td>\n",
       "      <td>873</td>\n",
       "      <td>582</td>\n",
       "      <td>245</td>\n",
       "      <td>889</td>\n",
       "      <td>589</td>\n",
       "      <td>255</td>\n",
       "      <td>1540</td>\n",
       "      <td>957</td>\n",
       "      <td>455</td>\n",
       "      <td>697</td>\n",
       "      <td>406</td>\n",
       "      <td>169</td>\n",
       "      <td>1112</td>\n",
       "      <td>657</td>\n",
       "      <td>300</td>\n",
       "    </tr>\n",
       "    <tr>\n",
       "      <th>4</th>\n",
       "      <td>2015-01-05</td>\n",
       "      <td>378</td>\n",
       "      <td>2015-01-05</td>\n",
       "      <td>243</td>\n",
       "      <td>102</td>\n",
       "      <td>668</td>\n",
       "      <td>423</td>\n",
       "      <td>187</td>\n",
       "      <td>671</td>\n",
       "      <td>435</td>\n",
       "      <td>184</td>\n",
       "      <td>1126</td>\n",
       "      <td>739</td>\n",
       "      <td>310</td>\n",
       "      <td>442</td>\n",
       "      <td>298</td>\n",
       "      <td>127</td>\n",
       "      <td>796</td>\n",
       "      <td>512</td>\n",
       "      <td>227</td>\n",
       "    </tr>\n",
       "  </tbody>\n",
       "</table>\n",
       "</div>"
      ],
      "text/plain": [
       "           ds    y        date  Finland_KaggleMart_Kaggle Mug  \\\n",
       "0  2015-01-01  520  2015-01-01                            329   \n",
       "1  2015-01-02  493  2015-01-02                            318   \n",
       "2  2015-01-03  535  2015-01-03                            360   \n",
       "3  2015-01-04  544  2015-01-04                            332   \n",
       "4  2015-01-05  378  2015-01-05                            243   \n",
       "\n",
       "   Finland_KaggleMart_Kaggle Sticker  Finland_KaggleRama_Kaggle Hat  \\\n",
       "0                                146                            911   \n",
       "1                                127                            794   \n",
       "2                                141                            843   \n",
       "3                                125                            873   \n",
       "4                                102                            668   \n",
       "\n",
       "   Finland_KaggleRama_Kaggle Mug  Finland_KaggleRama_Kaggle Sticker  \\\n",
       "0                            572                                283   \n",
       "1                            544                                249   \n",
       "2                            579                                265   \n",
       "3                            582                                245   \n",
       "4                            423                                187   \n",
       "\n",
       "   Norway_KaggleMart_Kaggle Hat  Norway_KaggleMart_Kaggle Mug  \\\n",
       "0                           906                           526   \n",
       "1                           845                           538   \n",
       "2                           930                           614   \n",
       "3                           889                           589   \n",
       "4                           671                           435   \n",
       "\n",
       "   Norway_KaggleMart_Kaggle Sticker  Norway_KaggleRama_Kaggle Hat  \\\n",
       "0                               250                          1461   \n",
       "1                               237                          1446   \n",
       "2                               254                          1631   \n",
       "3                               255                          1540   \n",
       "4                               184                          1126   \n",
       "\n",
       "   Norway_KaggleRama_Kaggle Mug  Norway_KaggleRama_Kaggle Sticker  \\\n",
       "0                          1005                               395   \n",
       "1                           949                               415   \n",
       "2                          1029                               451   \n",
       "3                           957                               455   \n",
       "4                           739                               310   \n",
       "\n",
       "   Sweden_KaggleMart_Kaggle Hat  Sweden_KaggleMart_Kaggle Mug  \\\n",
       "0                           624                           440   \n",
       "1                           572                           384   \n",
       "2                           630                           420   \n",
       "3                           697                           406   \n",
       "4                           442                           298   \n",
       "\n",
       "   Sweden_KaggleMart_Kaggle Sticker  Sweden_KaggleRama_Kaggle Hat  \\\n",
       "0                               175                          1195   \n",
       "1                               155                           986   \n",
       "2                               173                          1167   \n",
       "3                               169                          1112   \n",
       "4                               127                           796   \n",
       "\n",
       "   Sweden_KaggleRama_Kaggle Mug  Sweden_KaggleRama_Kaggle Sticker  \n",
       "0                           706                               324  \n",
       "1                           653                               293  \n",
       "2                           734                               319  \n",
       "3                           657                               300  \n",
       "4                           512                               227  "
      ]
     },
     "execution_count": 77,
     "metadata": {
      "nterop": {
       "id": "39"
      }
     },
     "output_type": "execute_result"
    }
   ],
   "source": [
    "df_prop = pd.concat([df_target, df_pivot.drop(['Finland_KaggleMart_Kaggle Hat'], axis=1).reset_index().iloc[0:-366]], axis=1)\n",
    "df_prop.head()"
   ]
  },
  {
   "cell_type": "code",
   "execution_count": null,
   "id": "bfd140b0",
   "metadata": {
    "nterop": {
     "id": "40"
    }
   },
   "outputs": [],
   "source": [
    "# Couldn't quite get the multi-variate to work properly, just predicting one column at a time using historic value, and see how well it does.\n",
    "# https://stackoverflow.com/questions/54544285/is-it-possible-to-do-multivariate-multi-step-forecasting-using-fb-prophet"
   ]
  },
  {
   "cell_type": "code",
   "execution_count": 112,
   "id": "13f84b49",
   "metadata": {
    "nterop": {
     "id": "41"
    }
   },
   "outputs": [
    {
     "name": "stderr",
     "output_type": "stream",
     "text": [
      "INFO:prophet:Disabling daily seasonality. Run prophet with daily_seasonality=True to override this.\n"
     ]
    },
    {
     "name": "stdout",
     "output_type": "stream",
     "text": [
      "Initial log joint probability = -114.361\n"
     ]
    },
    {
     "data": {
      "text/plain": [
       "<prophet.forecaster.Prophet at 0x7f30042a1210>"
      ]
     },
     "execution_count": 112,
     "metadata": {
      "nterop": {
       "id": "42"
      }
     },
     "output_type": "execute_result"
    },
    {
     "name": "stdout",
     "output_type": "stream",
     "text": [
      "    Iter      log prob        ||dx||      ||grad||       alpha      alpha0  # evals  Notes \n",
      "      99       2964.59   0.000279383        214.61      0.4796      0.4796      130   \n",
      "    Iter      log prob        ||dx||      ||grad||       alpha      alpha0  # evals  Notes \n",
      "     187       2967.75   0.000344489       228.088    3.27e-06       0.001      280  LS failed, Hessian reset \n",
      "     199       2968.22   0.000606788       71.1424           1           1      293   \n",
      "    Iter      log prob        ||dx||      ||grad||       alpha      alpha0  # evals  Notes \n",
      "     243        2968.5   0.000241492       112.144   3.319e-06       0.001      406  LS failed, Hessian reset \n",
      "     299       2968.63   4.18538e-06       33.8082           1           1      487   \n",
      "    Iter      log prob        ||dx||      ||grad||       alpha      alpha0  # evals  Notes \n",
      "     327       2968.63   1.28008e-07       39.5396      0.2103      0.6205      537   \n",
      "Optimization terminated normally: \n",
      "  Convergence detected: relative gradient magnitude is below tolerance\n"
     ]
    }
   ],
   "source": [
    "input_df = df_pivot.copy()\n",
    "productLine = 'Finland_KaggleMart_Kaggle Hat'\n",
    "m = Prophet()\n",
    "df_target = input_df[[productLine]].iloc[0:-366]\n",
    "df_target['ds'] = df_target.index\n",
    "df_target['y'] = df_target[productLine]\n",
    "df_target = df_target.reset_index()[['ds', 'y']]\n",
    "df_target.head()\n",
    "# df_prop = pd.concat([df_target, df_pivot.drop(['Finland_KaggleMart_Kaggle Hat'], axis=1).reset_index().iloc[0:-366]], axis=1)\n",
    "# for column in input_df.columns:\n",
    "#     if column in ['ds', 'y', 'date', productLine]:\n",
    "#         print('Skipping column:' + column)\n",
    "#         continue\n",
    "#     else:\n",
    "#         m.add_regressor(column)\n",
    "m.fit(df_prop)"
   ]
  },
  {
   "cell_type": "code",
   "execution_count": 113,
   "id": "85272a51",
   "metadata": {
    "nterop": {
     "id": "43"
    }
   },
   "outputs": [
    {
     "data": {
      "text/html": [
       "<div>\n",
       "<style scoped>\n",
       "    .dataframe tbody tr th:only-of-type {\n",
       "        vertical-align: middle;\n",
       "    }\n",
       "\n",
       "    .dataframe tbody tr th {\n",
       "        vertical-align: top;\n",
       "    }\n",
       "\n",
       "    .dataframe thead th {\n",
       "        text-align: right;\n",
       "    }\n",
       "</style>\n",
       "<table border=\"1\" class=\"dataframe\">\n",
       "  <thead>\n",
       "    <tr style=\"text-align: right;\">\n",
       "      <th></th>\n",
       "      <th>ds</th>\n",
       "      <th>y</th>\n",
       "    </tr>\n",
       "  </thead>\n",
       "  <tbody>\n",
       "    <tr>\n",
       "      <th>0</th>\n",
       "      <td>2015-01-01</td>\n",
       "      <td>520</td>\n",
       "    </tr>\n",
       "    <tr>\n",
       "      <th>1</th>\n",
       "      <td>2015-01-02</td>\n",
       "      <td>493</td>\n",
       "    </tr>\n",
       "    <tr>\n",
       "      <th>2</th>\n",
       "      <td>2015-01-03</td>\n",
       "      <td>535</td>\n",
       "    </tr>\n",
       "    <tr>\n",
       "      <th>3</th>\n",
       "      <td>2015-01-04</td>\n",
       "      <td>544</td>\n",
       "    </tr>\n",
       "    <tr>\n",
       "      <th>4</th>\n",
       "      <td>2015-01-05</td>\n",
       "      <td>378</td>\n",
       "    </tr>\n",
       "  </tbody>\n",
       "</table>\n",
       "</div>"
      ],
      "text/plain": [
       "           ds    y\n",
       "0  2015-01-01  520\n",
       "1  2015-01-02  493\n",
       "2  2015-01-03  535\n",
       "3  2015-01-04  544\n",
       "4  2015-01-05  378"
      ]
     },
     "execution_count": 113,
     "metadata": {
      "nterop": {
       "id": "44"
      }
     },
     "output_type": "execute_result"
    }
   ],
   "source": [
    "df_target.head()"
   ]
  },
  {
   "cell_type": "code",
   "execution_count": 114,
   "id": "4e61a2dc",
   "metadata": {
    "nterop": {
     "id": "45"
    }
   },
   "outputs": [
    {
     "data": {
      "text/html": [
       "<div>\n",
       "<style scoped>\n",
       "    .dataframe tbody tr th:only-of-type {\n",
       "        vertical-align: middle;\n",
       "    }\n",
       "\n",
       "    .dataframe tbody tr th {\n",
       "        vertical-align: top;\n",
       "    }\n",
       "\n",
       "    .dataframe thead th {\n",
       "        text-align: right;\n",
       "    }\n",
       "</style>\n",
       "<table border=\"1\" class=\"dataframe\">\n",
       "  <thead>\n",
       "    <tr style=\"text-align: right;\">\n",
       "      <th></th>\n",
       "      <th>ds</th>\n",
       "      <th>yhat</th>\n",
       "      <th>yhat_lower</th>\n",
       "      <th>yhat_upper</th>\n",
       "    </tr>\n",
       "  </thead>\n",
       "  <tbody>\n",
       "    <tr>\n",
       "      <th>1456</th>\n",
       "      <td>2018-12-27</td>\n",
       "      <td>529.121635</td>\n",
       "      <td>470.829758</td>\n",
       "      <td>586.719458</td>\n",
       "    </tr>\n",
       "    <tr>\n",
       "      <th>1457</th>\n",
       "      <td>2018-12-28</td>\n",
       "      <td>554.305313</td>\n",
       "      <td>497.988220</td>\n",
       "      <td>606.818107</td>\n",
       "    </tr>\n",
       "    <tr>\n",
       "      <th>1458</th>\n",
       "      <td>2018-12-29</td>\n",
       "      <td>623.736582</td>\n",
       "      <td>565.471334</td>\n",
       "      <td>680.565725</td>\n",
       "    </tr>\n",
       "    <tr>\n",
       "      <th>1459</th>\n",
       "      <td>2018-12-30</td>\n",
       "      <td>621.181578</td>\n",
       "      <td>563.454389</td>\n",
       "      <td>676.383890</td>\n",
       "    </tr>\n",
       "    <tr>\n",
       "      <th>1460</th>\n",
       "      <td>2018-12-31</td>\n",
       "      <td>545.042847</td>\n",
       "      <td>486.340230</td>\n",
       "      <td>601.555532</td>\n",
       "    </tr>\n",
       "  </tbody>\n",
       "</table>\n",
       "</div>"
      ],
      "text/plain": [
       "             ds        yhat  yhat_lower  yhat_upper\n",
       "1456 2018-12-27  529.121635  470.829758  586.719458\n",
       "1457 2018-12-28  554.305313  497.988220  606.818107\n",
       "1458 2018-12-29  623.736582  565.471334  680.565725\n",
       "1459 2018-12-30  621.181578  563.454389  676.383890\n",
       "1460 2018-12-31  545.042847  486.340230  601.555532"
      ]
     },
     "execution_count": 114,
     "metadata": {
      "nterop": {
       "id": "46"
      }
     },
     "output_type": "execute_result"
    }
   ],
   "source": [
    "future = m.make_future_dataframe(periods=366)\n",
    "forecast = m.predict(future)\n",
    "forecast[['ds', 'yhat', 'yhat_lower', 'yhat_upper']].tail()"
   ]
  },
  {
   "cell_type": "code",
   "execution_count": 115,
   "id": "5be72955",
   "metadata": {
    "nterop": {
     "id": "47"
    }
   },
   "outputs": [
    {
     "data": {
      "text/html": [
       "<div>\n",
       "<style scoped>\n",
       "    .dataframe tbody tr th:only-of-type {\n",
       "        vertical-align: middle;\n",
       "    }\n",
       "\n",
       "    .dataframe tbody tr th {\n",
       "        vertical-align: top;\n",
       "    }\n",
       "\n",
       "    .dataframe thead th {\n",
       "        text-align: right;\n",
       "    }\n",
       "</style>\n",
       "<table border=\"1\" class=\"dataframe\">\n",
       "  <thead>\n",
       "    <tr style=\"text-align: right;\">\n",
       "      <th></th>\n",
       "      <th>ds</th>\n",
       "      <th>trend</th>\n",
       "      <th>yhat_lower</th>\n",
       "      <th>yhat_upper</th>\n",
       "      <th>trend_lower</th>\n",
       "      <th>trend_upper</th>\n",
       "      <th>additive_terms</th>\n",
       "      <th>additive_terms_lower</th>\n",
       "      <th>additive_terms_upper</th>\n",
       "      <th>weekly</th>\n",
       "      <th>weekly_lower</th>\n",
       "      <th>weekly_upper</th>\n",
       "      <th>yearly</th>\n",
       "      <th>yearly_lower</th>\n",
       "      <th>yearly_upper</th>\n",
       "      <th>multiplicative_terms</th>\n",
       "      <th>multiplicative_terms_lower</th>\n",
       "      <th>multiplicative_terms_upper</th>\n",
       "      <th>yhat</th>\n",
       "    </tr>\n",
       "  </thead>\n",
       "  <tbody>\n",
       "    <tr>\n",
       "      <th>0</th>\n",
       "      <td>2015-01-01</td>\n",
       "      <td>315.916829</td>\n",
       "      <td>383.111253</td>\n",
       "      <td>494.759562</td>\n",
       "      <td>315.916829</td>\n",
       "      <td>315.916829</td>\n",
       "      <td>122.768809</td>\n",
       "      <td>122.768809</td>\n",
       "      <td>122.768809</td>\n",
       "      <td>-24.416295</td>\n",
       "      <td>-24.416295</td>\n",
       "      <td>-24.416295</td>\n",
       "      <td>147.185104</td>\n",
       "      <td>147.185104</td>\n",
       "      <td>147.185104</td>\n",
       "      <td>0.0</td>\n",
       "      <td>0.0</td>\n",
       "      <td>0.0</td>\n",
       "      <td>438.685639</td>\n",
       "    </tr>\n",
       "    <tr>\n",
       "      <th>1</th>\n",
       "      <td>2015-01-02</td>\n",
       "      <td>315.983526</td>\n",
       "      <td>397.906428</td>\n",
       "      <td>512.248801</td>\n",
       "      <td>315.983526</td>\n",
       "      <td>315.983526</td>\n",
       "      <td>140.558580</td>\n",
       "      <td>140.558580</td>\n",
       "      <td>140.558580</td>\n",
       "      <td>-6.314054</td>\n",
       "      <td>-6.314054</td>\n",
       "      <td>-6.314054</td>\n",
       "      <td>146.872634</td>\n",
       "      <td>146.872634</td>\n",
       "      <td>146.872634</td>\n",
       "      <td>0.0</td>\n",
       "      <td>0.0</td>\n",
       "      <td>0.0</td>\n",
       "      <td>456.542107</td>\n",
       "    </tr>\n",
       "    <tr>\n",
       "      <th>2</th>\n",
       "      <td>2015-01-03</td>\n",
       "      <td>316.050223</td>\n",
       "      <td>460.861287</td>\n",
       "      <td>577.726230</td>\n",
       "      <td>316.050223</td>\n",
       "      <td>316.050223</td>\n",
       "      <td>202.488532</td>\n",
       "      <td>202.488532</td>\n",
       "      <td>202.488532</td>\n",
       "      <td>57.397934</td>\n",
       "      <td>57.397934</td>\n",
       "      <td>57.397934</td>\n",
       "      <td>145.090599</td>\n",
       "      <td>145.090599</td>\n",
       "      <td>145.090599</td>\n",
       "      <td>0.0</td>\n",
       "      <td>0.0</td>\n",
       "      <td>0.0</td>\n",
       "      <td>518.538756</td>\n",
       "    </tr>\n",
       "    <tr>\n",
       "      <th>3</th>\n",
       "      <td>2015-01-04</td>\n",
       "      <td>316.116920</td>\n",
       "      <td>450.820245</td>\n",
       "      <td>564.194774</td>\n",
       "      <td>316.116920</td>\n",
       "      <td>316.116920</td>\n",
       "      <td>192.458404</td>\n",
       "      <td>192.458404</td>\n",
       "      <td>192.458404</td>\n",
       "      <td>50.560474</td>\n",
       "      <td>50.560474</td>\n",
       "      <td>50.560474</td>\n",
       "      <td>141.897930</td>\n",
       "      <td>141.897930</td>\n",
       "      <td>141.897930</td>\n",
       "      <td>0.0</td>\n",
       "      <td>0.0</td>\n",
       "      <td>0.0</td>\n",
       "      <td>508.575324</td>\n",
       "    </tr>\n",
       "    <tr>\n",
       "      <th>4</th>\n",
       "      <td>2015-01-05</td>\n",
       "      <td>316.183617</td>\n",
       "      <td>365.609941</td>\n",
       "      <td>484.191036</td>\n",
       "      <td>316.183617</td>\n",
       "      <td>316.183617</td>\n",
       "      <td>109.003503</td>\n",
       "      <td>109.003503</td>\n",
       "      <td>109.003503</td>\n",
       "      <td>-28.375085</td>\n",
       "      <td>-28.375085</td>\n",
       "      <td>-28.375085</td>\n",
       "      <td>137.378589</td>\n",
       "      <td>137.378589</td>\n",
       "      <td>137.378589</td>\n",
       "      <td>0.0</td>\n",
       "      <td>0.0</td>\n",
       "      <td>0.0</td>\n",
       "      <td>425.187120</td>\n",
       "    </tr>\n",
       "  </tbody>\n",
       "</table>\n",
       "</div>"
      ],
      "text/plain": [
       "          ds       trend  yhat_lower  yhat_upper  trend_lower  trend_upper  \\\n",
       "0 2015-01-01  315.916829  383.111253  494.759562   315.916829   315.916829   \n",
       "1 2015-01-02  315.983526  397.906428  512.248801   315.983526   315.983526   \n",
       "2 2015-01-03  316.050223  460.861287  577.726230   316.050223   316.050223   \n",
       "3 2015-01-04  316.116920  450.820245  564.194774   316.116920   316.116920   \n",
       "4 2015-01-05  316.183617  365.609941  484.191036   316.183617   316.183617   \n",
       "\n",
       "   additive_terms  additive_terms_lower  additive_terms_upper     weekly  \\\n",
       "0      122.768809            122.768809            122.768809 -24.416295   \n",
       "1      140.558580            140.558580            140.558580  -6.314054   \n",
       "2      202.488532            202.488532            202.488532  57.397934   \n",
       "3      192.458404            192.458404            192.458404  50.560474   \n",
       "4      109.003503            109.003503            109.003503 -28.375085   \n",
       "\n",
       "   weekly_lower  weekly_upper      yearly  yearly_lower  yearly_upper  \\\n",
       "0    -24.416295    -24.416295  147.185104    147.185104    147.185104   \n",
       "1     -6.314054     -6.314054  146.872634    146.872634    146.872634   \n",
       "2     57.397934     57.397934  145.090599    145.090599    145.090599   \n",
       "3     50.560474     50.560474  141.897930    141.897930    141.897930   \n",
       "4    -28.375085    -28.375085  137.378589    137.378589    137.378589   \n",
       "\n",
       "   multiplicative_terms  multiplicative_terms_lower  \\\n",
       "0                   0.0                         0.0   \n",
       "1                   0.0                         0.0   \n",
       "2                   0.0                         0.0   \n",
       "3                   0.0                         0.0   \n",
       "4                   0.0                         0.0   \n",
       "\n",
       "   multiplicative_terms_upper        yhat  \n",
       "0                         0.0  438.685639  \n",
       "1                         0.0  456.542107  \n",
       "2                         0.0  518.538756  \n",
       "3                         0.0  508.575324  \n",
       "4                         0.0  425.187120  "
      ]
     },
     "execution_count": 115,
     "metadata": {
      "nterop": {
       "id": "48"
      }
     },
     "output_type": "execute_result"
    }
   ],
   "source": [
    "forecast.head()"
   ]
  },
  {
   "cell_type": "code",
   "execution_count": 116,
   "id": "fedba869",
   "metadata": {
    "nterop": {
     "id": "49"
    }
   },
   "outputs": [
    {
     "data": {
      "image/png": "[encoded data removed]",
      "text/plain": [
       "<Figure size 720x432 with 1 Axes>"
      ]
     },
     "metadata": {
      "nterop": {
       "id": "50"
      }
     },
     "output_type": "display_data"
    }
   ],
   "source": [
    "# Python\n",
    "fig1 = m.plot(forecast)"
   ]
  },
  {
   "cell_type": "code",
   "execution_count": 120,
   "id": "bd21e016",
   "metadata": {
    "nterop": {
     "id": "51"
    }
   },
   "outputs": [],
   "source": [
    "df_compareError = forecast[['ds', 'yhat']]\n",
    "df_compareError = pd.concat([df_compareError, df_pivot[['Finland_KaggleMart_Kaggle Hat']].reset_index()], axis=1)\n",
    "                             "
   ]
  },
  {
   "cell_type": "code",
   "execution_count": 128,
   "id": "5754d39f",
   "metadata": {
    "nterop": {
     "id": "52"
    }
   },
   "outputs": [
    {
     "name": "stderr",
     "output_type": "stream",
     "text": [
      "/apps/python3/lib/python3.7/site-packages/pandas/plotting/_matplotlib/core.py:1192: UserWarning: FixedFormatter should only be used together with FixedLocator\n",
      "  ax.set_xticklabels(xticklabels)\n"
     ]
    },
    {
     "data": {
      "text/plain": [
       "<AxesSubplot:xlabel='date'>"
      ]
     },
     "execution_count": 128,
     "metadata": {
      "nterop": {
       "id": "53"
      }
     },
     "output_type": "execute_result"
    },
    {
     "data": {
      "image/png": "[encoded data removed]",
      "text/plain": [
       "<Figure size 1080x576 with 1 Axes>"
      ]
     },
     "metadata": {
      "needs_background": "light",
      "nterop": {
       "id": "54"
      }
     },
     "output_type": "display_data"
    }
   ],
   "source": [
    "# fig = plt.figure()\n",
    "df_compareError.iloc[-367:].plot(x='date', y=['Finland_KaggleMart_Kaggle Hat', 'yhat'], kind='line', figsize=(15,8))"
   ]
  },
  {
   "cell_type": "code",
   "execution_count": null,
   "id": "b4f744ca",
   "metadata": {
    "nterop": {
     "id": "55"
    }
   },
   "outputs": [],
   "source": []
  },
  {
   "cell_type": "code",
   "execution_count": null,
   "id": "33be1821",
   "metadata": {
    "nterop": {
     "id": "56"
    }
   },
   "outputs": [],
   "source": []
  },
  {
   "cell_type": "code",
   "execution_count": null,
   "id": "e8e557a7",
   "metadata": {
    "nterop": {
     "id": "57"
    }
   },
   "outputs": [],
   "source": []
  },
  {
   "cell_type": "code",
   "execution_count": 95,
   "id": "9cdef6ad",
   "metadata": {
    "nterop": {
     "id": "58"
    }
   },
   "outputs": [
    {
     "name": "stderr",
     "output_type": "stream",
     "text": [
      "INFO:prophet:Disabling daily seasonality. Run prophet with daily_seasonality=True to override this.\n"
     ]
    },
    {
     "name": "stdout",
     "output_type": "stream",
     "text": [
      "Skipping column:Finland_KaggleMart_Kaggle Hat\n",
      "Initial log joint probability = -114.361\n"
     ]
    },
    {
     "data": {
      "text/plain": [
       "<prophet.forecaster.Prophet at 0x7f3004350cd0>"
      ]
     },
     "execution_count": 95,
     "metadata": {
      "nterop": {
       "id": "59"
      }
     },
     "output_type": "execute_result"
    },
    {
     "name": "stdout",
     "output_type": "stream",
     "text": [
      "    Iter      log prob        ||dx||      ||grad||       alpha      alpha0  # evals  Notes \n",
      "      99        3923.2    0.00174506       3253.06      0.9808      0.9808      119   \n",
      "    Iter      log prob        ||dx||      ||grad||       alpha      alpha0  # evals  Notes \n",
      "     199       3946.98    0.00210634       1025.71           1           1      226   \n",
      "    Iter      log prob        ||dx||      ||grad||       alpha      alpha0  # evals  Notes \n",
      "     299       3954.58    0.00584002       566.801           1           1      332   \n",
      "    Iter      log prob        ||dx||      ||grad||       alpha      alpha0  # evals  Notes \n",
      "     399       3957.55   0.000127603       254.713      0.9277      0.9277      447   \n",
      "    Iter      log prob        ||dx||      ||grad||       alpha      alpha0  # evals  Notes \n",
      "     499       3959.57   6.29282e-05       185.422           1           1      560   \n",
      "    Iter      log prob        ||dx||      ||grad||       alpha      alpha0  # evals  Notes \n",
      "     599       3961.62    0.00730954       387.832           1           1      674   \n",
      "    Iter      log prob        ||dx||      ||grad||       alpha      alpha0  # evals  Notes \n",
      "     699       3963.35   0.000996473       396.003      0.4049      0.4049      783   \n",
      "    Iter      log prob        ||dx||      ||grad||       alpha      alpha0  # evals  Notes \n",
      "     799       3964.55   8.18426e-05        301.43           1           1      895   \n",
      "    Iter      log prob        ||dx||      ||grad||       alpha      alpha0  # evals  Notes \n",
      "     899       3965.13   9.28348e-05        145.01           1           1     1010   \n",
      "    Iter      log prob        ||dx||      ||grad||       alpha      alpha0  # evals  Notes \n",
      "     968       3965.96    2.2982e-05       609.811   2.553e-08       0.001     1142  LS failed, Hessian reset \n",
      "     999       3966.38    0.00035177       423.816           1           1     1177   \n",
      "    Iter      log prob        ||dx||      ||grad||       alpha      alpha0  # evals  Notes \n",
      "    1099       3967.01   1.36823e-05       119.547      0.5434      0.5434     1289   \n",
      "    Iter      log prob        ||dx||      ||grad||       alpha      alpha0  # evals  Notes \n",
      "    1191       3967.13   4.50135e-06       131.899    2.81e-08       0.001     1446  LS failed, Hessian reset \n",
      "    1199       3967.14   3.79184e-05       117.704      0.9548      0.9548     1455   \n",
      "    Iter      log prob        ||dx||      ||grad||       alpha      alpha0  # evals  Notes \n",
      "    1299       3967.18   1.38898e-06       73.1028      0.3705           1     1588   \n",
      "    Iter      log prob        ||dx||      ||grad||       alpha      alpha0  # evals  Notes \n",
      "    1307       3967.18    3.0144e-07       54.9742      0.2633       0.919     1599   \n",
      "Optimization terminated normally: \n",
      "  Convergence detected: relative gradient magnitude is below tolerance\n"
     ]
    }
   ],
   "source": []
  },
  {
   "cell_type": "code",
   "execution_count": 100,
   "id": "e957cff7",
   "metadata": {
    "nterop": {
     "id": "60"
    }
   },
   "outputs": [],
   "source": [
    "future = m.make_future_dataframe(periods=366)"
   ]
  },
  {
   "cell_type": "code",
   "execution_count": 102,
   "id": "64d07db5",
   "metadata": {
    "nterop": {
     "id": "61"
    }
   },
   "outputs": [
    {
     "data": {
      "text/html": [
       "<div>\n",
       "<style scoped>\n",
       "    .dataframe tbody tr th:only-of-type {\n",
       "        vertical-align: middle;\n",
       "    }\n",
       "\n",
       "    .dataframe tbody tr th {\n",
       "        vertical-align: top;\n",
       "    }\n",
       "\n",
       "    .dataframe thead th {\n",
       "        text-align: right;\n",
       "    }\n",
       "</style>\n",
       "<table border=\"1\" class=\"dataframe\">\n",
       "  <thead>\n",
       "    <tr style=\"text-align: right;\">\n",
       "      <th></th>\n",
       "      <th>ds</th>\n",
       "    </tr>\n",
       "  </thead>\n",
       "  <tbody>\n",
       "    <tr>\n",
       "      <th>0</th>\n",
       "      <td>2015-01-01</td>\n",
       "    </tr>\n",
       "    <tr>\n",
       "      <th>1</th>\n",
       "      <td>2015-01-02</td>\n",
       "    </tr>\n",
       "    <tr>\n",
       "      <th>2</th>\n",
       "      <td>2015-01-03</td>\n",
       "    </tr>\n",
       "    <tr>\n",
       "      <th>3</th>\n",
       "      <td>2015-01-04</td>\n",
       "    </tr>\n",
       "    <tr>\n",
       "      <th>4</th>\n",
       "      <td>2015-01-05</td>\n",
       "    </tr>\n",
       "  </tbody>\n",
       "</table>\n",
       "</div>"
      ],
      "text/plain": [
       "          ds\n",
       "0 2015-01-01\n",
       "1 2015-01-02\n",
       "2 2015-01-03\n",
       "3 2015-01-04\n",
       "4 2015-01-05"
      ]
     },
     "execution_count": 102,
     "metadata": {
      "nterop": {
       "id": "62"
      }
     },
     "output_type": "execute_result"
    }
   ],
   "source": [
    "future.head()"
   ]
  },
  {
   "cell_type": "code",
   "execution_count": 103,
   "id": "863c4a7e",
   "metadata": {
    "nterop": {
     "id": "63"
    }
   },
   "outputs": [
    {
     "data": {
      "text/html": [
       "<div>\n",
       "<style scoped>\n",
       "    .dataframe tbody tr th:only-of-type {\n",
       "        vertical-align: middle;\n",
       "    }\n",
       "\n",
       "    .dataframe tbody tr th {\n",
       "        vertical-align: top;\n",
       "    }\n",
       "\n",
       "    .dataframe thead th {\n",
       "        text-align: right;\n",
       "    }\n",
       "</style>\n",
       "<table border=\"1\" class=\"dataframe\">\n",
       "  <thead>\n",
       "    <tr style=\"text-align: right;\">\n",
       "      <th></th>\n",
       "      <th>ds</th>\n",
       "    </tr>\n",
       "  </thead>\n",
       "  <tbody>\n",
       "    <tr>\n",
       "      <th>1456</th>\n",
       "      <td>2018-12-27</td>\n",
       "    </tr>\n",
       "    <tr>\n",
       "      <th>1457</th>\n",
       "      <td>2018-12-28</td>\n",
       "    </tr>\n",
       "    <tr>\n",
       "      <th>1458</th>\n",
       "      <td>2018-12-29</td>\n",
       "    </tr>\n",
       "    <tr>\n",
       "      <th>1459</th>\n",
       "      <td>2018-12-30</td>\n",
       "    </tr>\n",
       "    <tr>\n",
       "      <th>1460</th>\n",
       "      <td>2018-12-31</td>\n",
       "    </tr>\n",
       "  </tbody>\n",
       "</table>\n",
       "</div>"
      ],
      "text/plain": [
       "             ds\n",
       "1456 2018-12-27\n",
       "1457 2018-12-28\n",
       "1458 2018-12-29\n",
       "1459 2018-12-30\n",
       "1460 2018-12-31"
      ]
     },
     "execution_count": 103,
     "metadata": {
      "nterop": {
       "id": "64"
      }
     },
     "output_type": "execute_result"
    }
   ],
   "source": [
    "future.tail()"
   ]
  },
  {
   "cell_type": "code",
   "execution_count": 104,
   "id": "c77de1db",
   "metadata": {
    "nterop": {
     "id": "65"
    }
   },
   "outputs": [
    {
     "data": {
      "text/plain": [
       "(1461, 1)"
      ]
     },
     "execution_count": 104,
     "metadata": {
      "nterop": {
       "id": "66"
      }
     },
     "output_type": "execute_result"
    }
   ],
   "source": [
    "future.shape"
   ]
  },
  {
   "cell_type": "code",
   "execution_count": 105,
   "id": "0c22f47c",
   "metadata": {
    "nterop": {
     "id": "67"
    }
   },
   "outputs": [
    {
     "data": {
      "text/plain": [
       "(1461, 18)"
      ]
     },
     "execution_count": 105,
     "metadata": {
      "nterop": {
       "id": "68"
      }
     },
     "output_type": "execute_result"
    }
   ],
   "source": [
    "df_pivot.shape"
   ]
  },
  {
   "cell_type": "code",
   "execution_count": 106,
   "id": "404f083a",
   "metadata": {
    "nterop": {
     "id": "69"
    }
   },
   "outputs": [
    {
     "data": {
      "text/plain": [
       "Index(['Finland_KaggleMart_Kaggle Hat', 'Finland_KaggleMart_Kaggle Mug',\n",
       "       'Finland_KaggleMart_Kaggle Sticker', 'Finland_KaggleRama_Kaggle Hat',\n",
       "       'Finland_KaggleRama_Kaggle Mug', 'Finland_KaggleRama_Kaggle Sticker',\n",
       "       'Norway_KaggleMart_Kaggle Hat', 'Norway_KaggleMart_Kaggle Mug',\n",
       "       'Norway_KaggleMart_Kaggle Sticker', 'Norway_KaggleRama_Kaggle Hat',\n",
       "       'Norway_KaggleRama_Kaggle Mug', 'Norway_KaggleRama_Kaggle Sticker',\n",
       "       'Sweden_KaggleMart_Kaggle Hat', 'Sweden_KaggleMart_Kaggle Mug',\n",
       "       'Sweden_KaggleMart_Kaggle Sticker', 'Sweden_KaggleRama_Kaggle Hat',\n",
       "       'Sweden_KaggleRama_Kaggle Mug', 'Sweden_KaggleRama_Kaggle Sticker'],\n",
       "      dtype='object')"
      ]
     },
     "execution_count": 106,
     "metadata": {
      "nterop": {
       "id": "70"
      }
     },
     "output_type": "execute_result"
    }
   ],
   "source": [
    "df_pivot.columns"
   ]
  },
  {
   "cell_type": "code",
   "execution_count": 109,
   "id": "e4053d9b",
   "metadata": {
    "nterop": {
     "id": "71"
    }
   },
   "outputs": [
    {
     "data": {
      "text/html": [
       "<div>\n",
       "<style scoped>\n",
       "    .dataframe tbody tr th:only-of-type {\n",
       "        vertical-align: middle;\n",
       "    }\n",
       "\n",
       "    .dataframe tbody tr th {\n",
       "        vertical-align: top;\n",
       "    }\n",
       "\n",
       "    .dataframe thead th {\n",
       "        text-align: right;\n",
       "    }\n",
       "</style>\n",
       "<table border=\"1\" class=\"dataframe\">\n",
       "  <thead>\n",
       "    <tr style=\"text-align: right;\">\n",
       "      <th></th>\n",
       "      <th>ds</th>\n",
       "      <th>date</th>\n",
       "      <th>Finland_KaggleMart_Kaggle Mug</th>\n",
       "      <th>Finland_KaggleMart_Kaggle Sticker</th>\n",
       "      <th>Finland_KaggleRama_Kaggle Hat</th>\n",
       "      <th>Finland_KaggleRama_Kaggle Mug</th>\n",
       "      <th>Finland_KaggleRama_Kaggle Sticker</th>\n",
       "      <th>Norway_KaggleMart_Kaggle Hat</th>\n",
       "      <th>Norway_KaggleMart_Kaggle Mug</th>\n",
       "      <th>Norway_KaggleMart_Kaggle Sticker</th>\n",
       "      <th>Norway_KaggleRama_Kaggle Hat</th>\n",
       "      <th>Norway_KaggleRama_Kaggle Mug</th>\n",
       "      <th>Norway_KaggleRama_Kaggle Sticker</th>\n",
       "      <th>Sweden_KaggleMart_Kaggle Hat</th>\n",
       "      <th>Sweden_KaggleMart_Kaggle Mug</th>\n",
       "      <th>Sweden_KaggleMart_Kaggle Sticker</th>\n",
       "      <th>Sweden_KaggleRama_Kaggle Hat</th>\n",
       "      <th>Sweden_KaggleRama_Kaggle Mug</th>\n",
       "      <th>Sweden_KaggleRama_Kaggle Sticker</th>\n",
       "    </tr>\n",
       "  </thead>\n",
       "  <tbody>\n",
       "    <tr>\n",
       "      <th>0</th>\n",
       "      <td>2015-01-01</td>\n",
       "      <td>2015-01-01</td>\n",
       "      <td>329</td>\n",
       "      <td>146</td>\n",
       "      <td>911</td>\n",
       "      <td>572</td>\n",
       "      <td>283</td>\n",
       "      <td>906</td>\n",
       "      <td>526</td>\n",
       "      <td>250</td>\n",
       "      <td>1461</td>\n",
       "      <td>1005</td>\n",
       "      <td>395</td>\n",
       "      <td>624</td>\n",
       "      <td>440</td>\n",
       "      <td>175</td>\n",
       "      <td>1195</td>\n",
       "      <td>706</td>\n",
       "      <td>324</td>\n",
       "    </tr>\n",
       "    <tr>\n",
       "      <th>1</th>\n",
       "      <td>2015-01-02</td>\n",
       "      <td>2015-01-02</td>\n",
       "      <td>318</td>\n",
       "      <td>127</td>\n",
       "      <td>794</td>\n",
       "      <td>544</td>\n",
       "      <td>249</td>\n",
       "      <td>845</td>\n",
       "      <td>538</td>\n",
       "      <td>237</td>\n",
       "      <td>1446</td>\n",
       "      <td>949</td>\n",
       "      <td>415</td>\n",
       "      <td>572</td>\n",
       "      <td>384</td>\n",
       "      <td>155</td>\n",
       "      <td>986</td>\n",
       "      <td>653</td>\n",
       "      <td>293</td>\n",
       "    </tr>\n",
       "    <tr>\n",
       "      <th>2</th>\n",
       "      <td>2015-01-03</td>\n",
       "      <td>2015-01-03</td>\n",
       "      <td>360</td>\n",
       "      <td>141</td>\n",
       "      <td>843</td>\n",
       "      <td>579</td>\n",
       "      <td>265</td>\n",
       "      <td>930</td>\n",
       "      <td>614</td>\n",
       "      <td>254</td>\n",
       "      <td>1631</td>\n",
       "      <td>1029</td>\n",
       "      <td>451</td>\n",
       "      <td>630</td>\n",
       "      <td>420</td>\n",
       "      <td>173</td>\n",
       "      <td>1167</td>\n",
       "      <td>734</td>\n",
       "      <td>319</td>\n",
       "    </tr>\n",
       "    <tr>\n",
       "      <th>3</th>\n",
       "      <td>2015-01-04</td>\n",
       "      <td>2015-01-04</td>\n",
       "      <td>332</td>\n",
       "      <td>125</td>\n",
       "      <td>873</td>\n",
       "      <td>582</td>\n",
       "      <td>245</td>\n",
       "      <td>889</td>\n",
       "      <td>589</td>\n",
       "      <td>255</td>\n",
       "      <td>1540</td>\n",
       "      <td>957</td>\n",
       "      <td>455</td>\n",
       "      <td>697</td>\n",
       "      <td>406</td>\n",
       "      <td>169</td>\n",
       "      <td>1112</td>\n",
       "      <td>657</td>\n",
       "      <td>300</td>\n",
       "    </tr>\n",
       "    <tr>\n",
       "      <th>4</th>\n",
       "      <td>2015-01-05</td>\n",
       "      <td>2015-01-05</td>\n",
       "      <td>243</td>\n",
       "      <td>102</td>\n",
       "      <td>668</td>\n",
       "      <td>423</td>\n",
       "      <td>187</td>\n",
       "      <td>671</td>\n",
       "      <td>435</td>\n",
       "      <td>184</td>\n",
       "      <td>1126</td>\n",
       "      <td>739</td>\n",
       "      <td>310</td>\n",
       "      <td>442</td>\n",
       "      <td>298</td>\n",
       "      <td>127</td>\n",
       "      <td>796</td>\n",
       "      <td>512</td>\n",
       "      <td>227</td>\n",
       "    </tr>\n",
       "  </tbody>\n",
       "</table>\n",
       "</div>"
      ],
      "text/plain": [
       "          ds        date  Finland_KaggleMart_Kaggle Mug  \\\n",
       "0 2015-01-01  2015-01-01                            329   \n",
       "1 2015-01-02  2015-01-02                            318   \n",
       "2 2015-01-03  2015-01-03                            360   \n",
       "3 2015-01-04  2015-01-04                            332   \n",
       "4 2015-01-05  2015-01-05                            243   \n",
       "\n",
       "   Finland_KaggleMart_Kaggle Sticker  Finland_KaggleRama_Kaggle Hat  \\\n",
       "0                                146                            911   \n",
       "1                                127                            794   \n",
       "2                                141                            843   \n",
       "3                                125                            873   \n",
       "4                                102                            668   \n",
       "\n",
       "   Finland_KaggleRama_Kaggle Mug  Finland_KaggleRama_Kaggle Sticker  \\\n",
       "0                            572                                283   \n",
       "1                            544                                249   \n",
       "2                            579                                265   \n",
       "3                            582                                245   \n",
       "4                            423                                187   \n",
       "\n",
       "   Norway_KaggleMart_Kaggle Hat  Norway_KaggleMart_Kaggle Mug  \\\n",
       "0                           906                           526   \n",
       "1                           845                           538   \n",
       "2                           930                           614   \n",
       "3                           889                           589   \n",
       "4                           671                           435   \n",
       "\n",
       "   Norway_KaggleMart_Kaggle Sticker  Norway_KaggleRama_Kaggle Hat  \\\n",
       "0                               250                          1461   \n",
       "1                               237                          1446   \n",
       "2                               254                          1631   \n",
       "3                               255                          1540   \n",
       "4                               184                          1126   \n",
       "\n",
       "   Norway_KaggleRama_Kaggle Mug  Norway_KaggleRama_Kaggle Sticker  \\\n",
       "0                          1005                               395   \n",
       "1                           949                               415   \n",
       "2                          1029                               451   \n",
       "3                           957                               455   \n",
       "4                           739                               310   \n",
       "\n",
       "   Sweden_KaggleMart_Kaggle Hat  Sweden_KaggleMart_Kaggle Mug  \\\n",
       "0                           624                           440   \n",
       "1                           572                           384   \n",
       "2                           630                           420   \n",
       "3                           697                           406   \n",
       "4                           442                           298   \n",
       "\n",
       "   Sweden_KaggleMart_Kaggle Sticker  Sweden_KaggleRama_Kaggle Hat  \\\n",
       "0                               175                          1195   \n",
       "1                               155                           986   \n",
       "2                               173                          1167   \n",
       "3                               169                          1112   \n",
       "4                               127                           796   \n",
       "\n",
       "   Sweden_KaggleRama_Kaggle Mug  Sweden_KaggleRama_Kaggle Sticker  \n",
       "0                           706                               324  \n",
       "1                           653                               293  \n",
       "2                           734                               319  \n",
       "3                           657                               300  \n",
       "4                           512                               227  "
      ]
     },
     "execution_count": 109,
     "metadata": {
      "nterop": {
       "id": "72"
      }
     },
     "output_type": "execute_result"
    }
   ],
   "source": [
    "future_withotherfeature = pd.concat([future, df_pivot[['Finland_KaggleMart_Kaggle Mug',\n",
    "       'Finland_KaggleMart_Kaggle Sticker', 'Finland_KaggleRama_Kaggle Hat',\n",
    "       'Finland_KaggleRama_Kaggle Mug', 'Finland_KaggleRama_Kaggle Sticker',\n",
    "       'Norway_KaggleMart_Kaggle Hat', 'Norway_KaggleMart_Kaggle Mug',\n",
    "       'Norway_KaggleMart_Kaggle Sticker', 'Norway_KaggleRama_Kaggle Hat',\n",
    "       'Norway_KaggleRama_Kaggle Mug', 'Norway_KaggleRama_Kaggle Sticker',\n",
    "       'Sweden_KaggleMart_Kaggle Hat', 'Sweden_KaggleMart_Kaggle Mug',\n",
    "       'Sweden_KaggleMart_Kaggle Sticker', 'Sweden_KaggleRama_Kaggle Hat',\n",
    "       'Sweden_KaggleRama_Kaggle Mug', 'Sweden_KaggleRama_Kaggle Sticker']].reset_index()], axis=1)\n",
    "future_withotherfeature.head()"
   ]
  },
  {
   "cell_type": "code",
   "execution_count": 110,
   "id": "04fe56e8",
   "metadata": {
    "nterop": {
     "id": "73"
    }
   },
   "outputs": [
    {
     "data": {
      "text/html": [
       "<div>\n",
       "<style scoped>\n",
       "    .dataframe tbody tr th:only-of-type {\n",
       "        vertical-align: middle;\n",
       "    }\n",
       "\n",
       "    .dataframe tbody tr th {\n",
       "        vertical-align: top;\n",
       "    }\n",
       "\n",
       "    .dataframe thead th {\n",
       "        text-align: right;\n",
       "    }\n",
       "</style>\n",
       "<table border=\"1\" class=\"dataframe\">\n",
       "  <thead>\n",
       "    <tr style=\"text-align: right;\">\n",
       "      <th></th>\n",
       "      <th>ds</th>\n",
       "      <th>date</th>\n",
       "      <th>Finland_KaggleMart_Kaggle Mug</th>\n",
       "      <th>Finland_KaggleMart_Kaggle Sticker</th>\n",
       "      <th>Finland_KaggleRama_Kaggle Hat</th>\n",
       "      <th>Finland_KaggleRama_Kaggle Mug</th>\n",
       "      <th>Finland_KaggleRama_Kaggle Sticker</th>\n",
       "      <th>Norway_KaggleMart_Kaggle Hat</th>\n",
       "      <th>Norway_KaggleMart_Kaggle Mug</th>\n",
       "      <th>Norway_KaggleMart_Kaggle Sticker</th>\n",
       "      <th>Norway_KaggleRama_Kaggle Hat</th>\n",
       "      <th>Norway_KaggleRama_Kaggle Mug</th>\n",
       "      <th>Norway_KaggleRama_Kaggle Sticker</th>\n",
       "      <th>Sweden_KaggleMart_Kaggle Hat</th>\n",
       "      <th>Sweden_KaggleMart_Kaggle Mug</th>\n",
       "      <th>Sweden_KaggleMart_Kaggle Sticker</th>\n",
       "      <th>Sweden_KaggleRama_Kaggle Hat</th>\n",
       "      <th>Sweden_KaggleRama_Kaggle Mug</th>\n",
       "      <th>Sweden_KaggleRama_Kaggle Sticker</th>\n",
       "    </tr>\n",
       "  </thead>\n",
       "  <tbody>\n",
       "    <tr>\n",
       "      <th>1456</th>\n",
       "      <td>2018-12-27</td>\n",
       "      <td>2018-12-27</td>\n",
       "      <td>414</td>\n",
       "      <td>177</td>\n",
       "      <td>1068</td>\n",
       "      <td>652</td>\n",
       "      <td>308</td>\n",
       "      <td>898</td>\n",
       "      <td>568</td>\n",
       "      <td>270</td>\n",
       "      <td>1604</td>\n",
       "      <td>1108</td>\n",
       "      <td>436</td>\n",
       "      <td>672</td>\n",
       "      <td>420</td>\n",
       "      <td>196</td>\n",
       "      <td>1127</td>\n",
       "      <td>745</td>\n",
       "      <td>319</td>\n",
       "    </tr>\n",
       "    <tr>\n",
       "      <th>1457</th>\n",
       "      <td>2018-12-28</td>\n",
       "      <td>2018-12-28</td>\n",
       "      <td>499</td>\n",
       "      <td>223</td>\n",
       "      <td>1398</td>\n",
       "      <td>895</td>\n",
       "      <td>431</td>\n",
       "      <td>1162</td>\n",
       "      <td>731</td>\n",
       "      <td>361</td>\n",
       "      <td>2178</td>\n",
       "      <td>1333</td>\n",
       "      <td>662</td>\n",
       "      <td>874</td>\n",
       "      <td>555</td>\n",
       "      <td>260</td>\n",
       "      <td>1540</td>\n",
       "      <td>990</td>\n",
       "      <td>441</td>\n",
       "    </tr>\n",
       "    <tr>\n",
       "      <th>1458</th>\n",
       "      <td>2018-12-29</td>\n",
       "      <td>2018-12-29</td>\n",
       "      <td>774</td>\n",
       "      <td>296</td>\n",
       "      <td>1895</td>\n",
       "      <td>1398</td>\n",
       "      <td>559</td>\n",
       "      <td>1650</td>\n",
       "      <td>1113</td>\n",
       "      <td>518</td>\n",
       "      <td>2884</td>\n",
       "      <td>1816</td>\n",
       "      <td>874</td>\n",
       "      <td>1106</td>\n",
       "      <td>720</td>\n",
       "      <td>348</td>\n",
       "      <td>2169</td>\n",
       "      <td>1438</td>\n",
       "      <td>596</td>\n",
       "    </tr>\n",
       "    <tr>\n",
       "      <th>1459</th>\n",
       "      <td>2018-12-30</td>\n",
       "      <td>2018-12-30</td>\n",
       "      <td>757</td>\n",
       "      <td>326</td>\n",
       "      <td>1878</td>\n",
       "      <td>1241</td>\n",
       "      <td>554</td>\n",
       "      <td>1809</td>\n",
       "      <td>1052</td>\n",
       "      <td>500</td>\n",
       "      <td>2851</td>\n",
       "      <td>1935</td>\n",
       "      <td>833</td>\n",
       "      <td>1133</td>\n",
       "      <td>730</td>\n",
       "      <td>336</td>\n",
       "      <td>2138</td>\n",
       "      <td>1303</td>\n",
       "      <td>587</td>\n",
       "    </tr>\n",
       "    <tr>\n",
       "      <th>1460</th>\n",
       "      <td>2018-12-31</td>\n",
       "      <td>2018-12-31</td>\n",
       "      <td>469</td>\n",
       "      <td>238</td>\n",
       "      <td>1231</td>\n",
       "      <td>831</td>\n",
       "      <td>360</td>\n",
       "      <td>1124</td>\n",
       "      <td>728</td>\n",
       "      <td>351</td>\n",
       "      <td>2128</td>\n",
       "      <td>1383</td>\n",
       "      <td>561</td>\n",
       "      <td>823</td>\n",
       "      <td>570</td>\n",
       "      <td>250</td>\n",
       "      <td>1441</td>\n",
       "      <td>1004</td>\n",
       "      <td>388</td>\n",
       "    </tr>\n",
       "  </tbody>\n",
       "</table>\n",
       "</div>"
      ],
      "text/plain": [
       "             ds        date  Finland_KaggleMart_Kaggle Mug  \\\n",
       "1456 2018-12-27  2018-12-27                            414   \n",
       "1457 2018-12-28  2018-12-28                            499   \n",
       "1458 2018-12-29  2018-12-29                            774   \n",
       "1459 2018-12-30  2018-12-30                            757   \n",
       "1460 2018-12-31  2018-12-31                            469   \n",
       "\n",
       "      Finland_KaggleMart_Kaggle Sticker  Finland_KaggleRama_Kaggle Hat  \\\n",
       "1456                                177                           1068   \n",
       "1457                                223                           1398   \n",
       "1458                                296                           1895   \n",
       "1459                                326                           1878   \n",
       "1460                                238                           1231   \n",
       "\n",
       "      Finland_KaggleRama_Kaggle Mug  Finland_KaggleRama_Kaggle Sticker  \\\n",
       "1456                            652                                308   \n",
       "1457                            895                                431   \n",
       "1458                           1398                                559   \n",
       "1459                           1241                                554   \n",
       "1460                            831                                360   \n",
       "\n",
       "      Norway_KaggleMart_Kaggle Hat  Norway_KaggleMart_Kaggle Mug  \\\n",
       "1456                           898                           568   \n",
       "1457                          1162                           731   \n",
       "1458                          1650                          1113   \n",
       "1459                          1809                          1052   \n",
       "1460                          1124                           728   \n",
       "\n",
       "      Norway_KaggleMart_Kaggle Sticker  Norway_KaggleRama_Kaggle Hat  \\\n",
       "1456                               270                          1604   \n",
       "1457                               361                          2178   \n",
       "1458                               518                          2884   \n",
       "1459                               500                          2851   \n",
       "1460                               351                          2128   \n",
       "\n",
       "      Norway_KaggleRama_Kaggle Mug  Norway_KaggleRama_Kaggle Sticker  \\\n",
       "1456                          1108                               436   \n",
       "1457                          1333                               662   \n",
       "1458                          1816                               874   \n",
       "1459                          1935                               833   \n",
       "1460                          1383                               561   \n",
       "\n",
       "      Sweden_KaggleMart_Kaggle Hat  Sweden_KaggleMart_Kaggle Mug  \\\n",
       "1456                           672                           420   \n",
       "1457                           874                           555   \n",
       "1458                          1106                           720   \n",
       "1459                          1133                           730   \n",
       "1460                           823                           570   \n",
       "\n",
       "      Sweden_KaggleMart_Kaggle Sticker  Sweden_KaggleRama_Kaggle Hat  \\\n",
       "1456                               196                          1127   \n",
       "1457                               260                          1540   \n",
       "1458                               348                          2169   \n",
       "1459                               336                          2138   \n",
       "1460                               250                          1441   \n",
       "\n",
       "      Sweden_KaggleRama_Kaggle Mug  Sweden_KaggleRama_Kaggle Sticker  \n",
       "1456                           745                               319  \n",
       "1457                           990                               441  \n",
       "1458                          1438                               596  \n",
       "1459                          1303                               587  \n",
       "1460                          1004                               388  "
      ]
     },
     "execution_count": 110,
     "metadata": {
      "nterop": {
       "id": "74"
      }
     },
     "output_type": "execute_result"
    }
   ],
   "source": [
    "future_withotherfeature.tail()"
   ]
  },
  {
   "cell_type": "code",
   "execution_count": 111,
   "id": "1c0efbc5",
   "metadata": {
    "nterop": {
     "id": "75"
    }
   },
   "outputs": [
    {
     "ename": "ValueError",
     "evalue": "Regressor 'Finland_KaggleMart_Kaggle Mug' missing from dataframe",
     "output_type": "error",
     "traceback": [
      "\u001b[0;31m---------------------------------------------------------------------------\u001b[0m",
      "\u001b[0;31mValueError\u001b[0m                                Traceback (most recent call last)",
      "\u001b[0;32m/tmp/ipykernel_5103/2136078276.py\u001b[0m in \u001b[0;36m<module>\u001b[0;34m\u001b[0m\n\u001b[0;32m----> 1\u001b[0;31m \u001b[0mforecast\u001b[0m \u001b[0;34m=\u001b[0m \u001b[0mm\u001b[0m\u001b[0;34m.\u001b[0m\u001b[0mpredict\u001b[0m\u001b[0;34m(\u001b[0m\u001b[0mfuture\u001b[0m\u001b[0;34m)\u001b[0m\u001b[0;34m\u001b[0m\u001b[0;34m\u001b[0m\u001b[0m\n\u001b[0m",
      "\u001b[0;32m/apps/python3/lib/python3.7/site-packages/prophet/forecaster.py\u001b[0m in \u001b[0;36mpredict\u001b[0;34m(self, df)\u001b[0m\n\u001b[1;32m   1203\u001b[0m             \u001b[0;32mif\u001b[0m \u001b[0mdf\u001b[0m\u001b[0;34m.\u001b[0m\u001b[0mshape\u001b[0m\u001b[0;34m[\u001b[0m\u001b[0;36m0\u001b[0m\u001b[0;34m]\u001b[0m \u001b[0;34m==\u001b[0m \u001b[0;36m0\u001b[0m\u001b[0;34m:\u001b[0m\u001b[0;34m\u001b[0m\u001b[0;34m\u001b[0m\u001b[0m\n\u001b[1;32m   1204\u001b[0m                 \u001b[0;32mraise\u001b[0m \u001b[0mValueError\u001b[0m\u001b[0;34m(\u001b[0m\u001b[0;34m'Dataframe has no rows.'\u001b[0m\u001b[0;34m)\u001b[0m\u001b[0;34m\u001b[0m\u001b[0;34m\u001b[0m\u001b[0m\n\u001b[0;32m-> 1205\u001b[0;31m             \u001b[0mdf\u001b[0m \u001b[0;34m=\u001b[0m \u001b[0mself\u001b[0m\u001b[0;34m.\u001b[0m\u001b[0msetup_dataframe\u001b[0m\u001b[0;34m(\u001b[0m\u001b[0mdf\u001b[0m\u001b[0;34m.\u001b[0m\u001b[0mcopy\u001b[0m\u001b[0;34m(\u001b[0m\u001b[0;34m)\u001b[0m\u001b[0;34m)\u001b[0m\u001b[0;34m\u001b[0m\u001b[0;34m\u001b[0m\u001b[0m\n\u001b[0m\u001b[1;32m   1206\u001b[0m \u001b[0;34m\u001b[0m\u001b[0m\n\u001b[1;32m   1207\u001b[0m         \u001b[0mdf\u001b[0m\u001b[0;34m[\u001b[0m\u001b[0;34m'trend'\u001b[0m\u001b[0;34m]\u001b[0m \u001b[0;34m=\u001b[0m \u001b[0mself\u001b[0m\u001b[0;34m.\u001b[0m\u001b[0mpredict_trend\u001b[0m\u001b[0;34m(\u001b[0m\u001b[0mdf\u001b[0m\u001b[0;34m)\u001b[0m\u001b[0;34m\u001b[0m\u001b[0;34m\u001b[0m\u001b[0m\n",
      "\u001b[0;32m/apps/python3/lib/python3.7/site-packages/prophet/forecaster.py\u001b[0m in \u001b[0;36msetup_dataframe\u001b[0;34m(self, df, initialize_scales)\u001b[0m\n\u001b[1;32m    277\u001b[0m                 raise ValueError(\n\u001b[1;32m    278\u001b[0m                     \u001b[0;34m'Regressor {name!r} missing from dataframe'\u001b[0m\u001b[0;34m\u001b[0m\u001b[0;34m\u001b[0m\u001b[0m\n\u001b[0;32m--> 279\u001b[0;31m                     \u001b[0;34m.\u001b[0m\u001b[0mformat\u001b[0m\u001b[0;34m(\u001b[0m\u001b[0mname\u001b[0m\u001b[0;34m=\u001b[0m\u001b[0mname\u001b[0m\u001b[0;34m)\u001b[0m\u001b[0;34m\u001b[0m\u001b[0;34m\u001b[0m\u001b[0m\n\u001b[0m\u001b[1;32m    280\u001b[0m                 )\n\u001b[1;32m    281\u001b[0m             \u001b[0mdf\u001b[0m\u001b[0;34m[\u001b[0m\u001b[0mname\u001b[0m\u001b[0;34m]\u001b[0m \u001b[0;34m=\u001b[0m \u001b[0mpd\u001b[0m\u001b[0;34m.\u001b[0m\u001b[0mto_numeric\u001b[0m\u001b[0;34m(\u001b[0m\u001b[0mdf\u001b[0m\u001b[0;34m[\u001b[0m\u001b[0mname\u001b[0m\u001b[0;34m]\u001b[0m\u001b[0;34m)\u001b[0m\u001b[0;34m\u001b[0m\u001b[0;34m\u001b[0m\u001b[0m\n",
      "\u001b[0;31mValueError\u001b[0m: Regressor 'Finland_KaggleMart_Kaggle Mug' missing from dataframe"
     ]
    }
   ],
   "source": [
    "forecast = m.predict(future)"
   ]
  },
  {
   "cell_type": "code",
   "execution_count": 90,
   "id": "75a531fb",
   "metadata": {
    "nterop": {
     "id": "29"
    }
   },
   "outputs": [],
   "source": [
    "# This function takes in one country_product_store combo\n",
    "def predictFuture(input_df, productLine):\n",
    "    # The productLine is country_store_product, e.g. \"Finland_KaggleMart_Kaggle Hat\"\n",
    "    # We will use that column as targetLabe, and then predict the year 2018, and then check the error.\n",
    "    m = Prophet()\n",
    "    df_target = input_df[[productLine]].iloc[0:-366]\n",
    "    df_target['ds'] = df_target.index\n",
    "    df_target['y'] = df_target[productLine]\n",
    "    df_target = df_target.reset_index()[['ds', 'y']]\n",
    "    df_target.head()\n",
    "    df_prop = pd.concat([df_target, df_pivot.drop(['Finland_KaggleMart_Kaggle Hat'], axis=1).reset_index().iloc[0:-366]], axis=1)\n",
    "    for column in input_df.columns:\n",
    "        if column in ['ds', 'y', 'date', productLine]:\n",
    "            print('Skipping column:' + column)\n",
    "            continue\n",
    "        else:\n",
    "            m.add_regressor(column)\n",
    "    m.fit(df_prop)\n",
    "    future = m.make_future_dataframe(periods=365)\n",
    "    print(future.tail())\n",
    "    forecast = m.predict(future)\n",
    "    return df_prop, forecast"
   ]
  },
  {
   "cell_type": "code",
   "execution_count": 91,
   "id": "0697e5f8",
   "metadata": {
    "nterop": {
     "id": "76"
    }
   },
   "outputs": [
    {
     "name": "stderr",
     "output_type": "stream",
     "text": [
      "INFO:prophet:Disabling daily seasonality. Run prophet with daily_seasonality=True to override this.\n"
     ]
    },
    {
     "name": "stdout",
     "output_type": "stream",
     "text": [
      "Skipping column\n",
      "Initial log joint probability = -114.361\n",
      "             ds\n",
      "1455 2018-12-26\n",
      "1456 2018-12-27\n",
      "1457 2018-12-28\n",
      "1458 2018-12-29\n",
      "1459 2018-12-30\n"
     ]
    },
    {
     "ename": "ValueError",
     "evalue": "Regressor 'Finland_KaggleMart_Kaggle Mug' missing from dataframe",
     "output_type": "error",
     "traceback": [
      "\u001b[0;31m---------------------------------------------------------------------------\u001b[0m",
      "\u001b[0;31mValueError\u001b[0m                                Traceback (most recent call last)",
      "\u001b[0;32m/tmp/ipykernel_5103/469126418.py\u001b[0m in \u001b[0;36m<module>\u001b[0;34m\u001b[0m\n\u001b[0;32m----> 1\u001b[0;31m \u001b[0mdf_test\u001b[0m \u001b[0;34m=\u001b[0m \u001b[0mpredictFuture\u001b[0m\u001b[0;34m(\u001b[0m\u001b[0mdf_pivot\u001b[0m\u001b[0;34m,\u001b[0m \u001b[0;34m'Finland_KaggleMart_Kaggle Hat'\u001b[0m\u001b[0;34m)\u001b[0m\u001b[0;34m\u001b[0m\u001b[0;34m\u001b[0m\u001b[0m\n\u001b[0m",
      "\u001b[0;32m/tmp/ipykernel_5103/1788747903.py\u001b[0m in \u001b[0;36mpredictFuture\u001b[0;34m(input_df, productLine)\u001b[0m\n\u001b[1;32m     19\u001b[0m     \u001b[0mfuture\u001b[0m \u001b[0;34m=\u001b[0m \u001b[0mm\u001b[0m\u001b[0;34m.\u001b[0m\u001b[0mmake_future_dataframe\u001b[0m\u001b[0;34m(\u001b[0m\u001b[0mperiods\u001b[0m\u001b[0;34m=\u001b[0m\u001b[0;36m365\u001b[0m\u001b[0;34m)\u001b[0m\u001b[0;34m\u001b[0m\u001b[0;34m\u001b[0m\u001b[0m\n\u001b[1;32m     20\u001b[0m     \u001b[0mprint\u001b[0m\u001b[0;34m(\u001b[0m\u001b[0mfuture\u001b[0m\u001b[0;34m.\u001b[0m\u001b[0mtail\u001b[0m\u001b[0;34m(\u001b[0m\u001b[0;34m)\u001b[0m\u001b[0;34m)\u001b[0m\u001b[0;34m\u001b[0m\u001b[0;34m\u001b[0m\u001b[0m\n\u001b[0;32m---> 21\u001b[0;31m     \u001b[0mforecast\u001b[0m \u001b[0;34m=\u001b[0m \u001b[0mm\u001b[0m\u001b[0;34m.\u001b[0m\u001b[0mpredict\u001b[0m\u001b[0;34m(\u001b[0m\u001b[0mfuture\u001b[0m\u001b[0;34m)\u001b[0m\u001b[0;34m\u001b[0m\u001b[0;34m\u001b[0m\u001b[0m\n\u001b[0m\u001b[1;32m     22\u001b[0m     \u001b[0;32mreturn\u001b[0m \u001b[0mdf_prop\u001b[0m\u001b[0;34m,\u001b[0m \u001b[0mforecast\u001b[0m\u001b[0;34m\u001b[0m\u001b[0;34m\u001b[0m\u001b[0m\n",
      "\u001b[0;32m/apps/python3/lib/python3.7/site-packages/prophet/forecaster.py\u001b[0m in \u001b[0;36mpredict\u001b[0;34m(self, df)\u001b[0m\n\u001b[1;32m   1203\u001b[0m             \u001b[0;32mif\u001b[0m \u001b[0mdf\u001b[0m\u001b[0;34m.\u001b[0m\u001b[0mshape\u001b[0m\u001b[0;34m[\u001b[0m\u001b[0;36m0\u001b[0m\u001b[0;34m]\u001b[0m \u001b[0;34m==\u001b[0m \u001b[0;36m0\u001b[0m\u001b[0;34m:\u001b[0m\u001b[0;34m\u001b[0m\u001b[0;34m\u001b[0m\u001b[0m\n\u001b[1;32m   1204\u001b[0m                 \u001b[0;32mraise\u001b[0m \u001b[0mValueError\u001b[0m\u001b[0;34m(\u001b[0m\u001b[0;34m'Dataframe has no rows.'\u001b[0m\u001b[0;34m)\u001b[0m\u001b[0;34m\u001b[0m\u001b[0;34m\u001b[0m\u001b[0m\n\u001b[0;32m-> 1205\u001b[0;31m             \u001b[0mdf\u001b[0m \u001b[0;34m=\u001b[0m \u001b[0mself\u001b[0m\u001b[0;34m.\u001b[0m\u001b[0msetup_dataframe\u001b[0m\u001b[0;34m(\u001b[0m\u001b[0mdf\u001b[0m\u001b[0;34m.\u001b[0m\u001b[0mcopy\u001b[0m\u001b[0;34m(\u001b[0m\u001b[0;34m)\u001b[0m\u001b[0;34m)\u001b[0m\u001b[0;34m\u001b[0m\u001b[0;34m\u001b[0m\u001b[0m\n\u001b[0m\u001b[1;32m   1206\u001b[0m \u001b[0;34m\u001b[0m\u001b[0m\n\u001b[1;32m   1207\u001b[0m         \u001b[0mdf\u001b[0m\u001b[0;34m[\u001b[0m\u001b[0;34m'trend'\u001b[0m\u001b[0;34m]\u001b[0m \u001b[0;34m=\u001b[0m \u001b[0mself\u001b[0m\u001b[0;34m.\u001b[0m\u001b[0mpredict_trend\u001b[0m\u001b[0;34m(\u001b[0m\u001b[0mdf\u001b[0m\u001b[0;34m)\u001b[0m\u001b[0;34m\u001b[0m\u001b[0;34m\u001b[0m\u001b[0m\n",
      "\u001b[0;32m/apps/python3/lib/python3.7/site-packages/prophet/forecaster.py\u001b[0m in \u001b[0;36msetup_dataframe\u001b[0;34m(self, df, initialize_scales)\u001b[0m\n\u001b[1;32m    277\u001b[0m                 raise ValueError(\n\u001b[1;32m    278\u001b[0m                     \u001b[0;34m'Regressor {name!r} missing from dataframe'\u001b[0m\u001b[0;34m\u001b[0m\u001b[0;34m\u001b[0m\u001b[0m\n\u001b[0;32m--> 279\u001b[0;31m                     \u001b[0;34m.\u001b[0m\u001b[0mformat\u001b[0m\u001b[0;34m(\u001b[0m\u001b[0mname\u001b[0m\u001b[0;34m=\u001b[0m\u001b[0mname\u001b[0m\u001b[0;34m)\u001b[0m\u001b[0;34m\u001b[0m\u001b[0;34m\u001b[0m\u001b[0m\n\u001b[0m\u001b[1;32m    280\u001b[0m                 )\n\u001b[1;32m    281\u001b[0m             \u001b[0mdf\u001b[0m\u001b[0;34m[\u001b[0m\u001b[0mname\u001b[0m\u001b[0;34m]\u001b[0m \u001b[0;34m=\u001b[0m \u001b[0mpd\u001b[0m\u001b[0;34m.\u001b[0m\u001b[0mto_numeric\u001b[0m\u001b[0;34m(\u001b[0m\u001b[0mdf\u001b[0m\u001b[0;34m[\u001b[0m\u001b[0mname\u001b[0m\u001b[0;34m]\u001b[0m\u001b[0;34m)\u001b[0m\u001b[0;34m\u001b[0m\u001b[0;34m\u001b[0m\u001b[0m\n",
      "\u001b[0;31mValueError\u001b[0m: Regressor 'Finland_KaggleMart_Kaggle Mug' missing from dataframe"
     ]
    },
    {
     "name": "stdout",
     "output_type": "stream",
     "text": [
      "    Iter      log prob        ||dx||      ||grad||       alpha      alpha0  # evals  Notes \n",
      "      99        3923.2    0.00174506       3253.06      0.9808      0.9808      119   \n",
      "    Iter      log prob        ||dx||      ||grad||       alpha      alpha0  # evals  Notes \n",
      "     199       3946.98    0.00210634       1025.71           1           1      226   \n",
      "    Iter      log prob        ||dx||      ||grad||       alpha      alpha0  # evals  Notes \n",
      "     299       3954.58    0.00584002       566.801           1           1      332   \n",
      "    Iter      log prob        ||dx||      ||grad||       alpha      alpha0  # evals  Notes \n",
      "     399       3957.55   0.000127603       254.713      0.9277      0.9277      447   \n",
      "    Iter      log prob        ||dx||      ||grad||       alpha      alpha0  # evals  Notes \n",
      "     499       3959.57   6.29282e-05       185.422           1           1      560   \n",
      "    Iter      log prob        ||dx||      ||grad||       alpha      alpha0  # evals  Notes \n",
      "     599       3961.62    0.00730954       387.832           1           1      674   \n",
      "    Iter      log prob        ||dx||      ||grad||       alpha      alpha0  # evals  Notes \n",
      "     699       3963.35   0.000996473       396.003      0.4049      0.4049      783   \n",
      "    Iter      log prob        ||dx||      ||grad||       alpha      alpha0  # evals  Notes \n",
      "     799       3964.55   8.18426e-05        301.43           1           1      895   \n",
      "    Iter      log prob        ||dx||      ||grad||       alpha      alpha0  # evals  Notes \n",
      "     899       3965.13   9.28348e-05        145.01           1           1     1010   \n",
      "    Iter      log prob        ||dx||      ||grad||       alpha      alpha0  # evals  Notes \n",
      "     968       3965.96    2.2982e-05       609.811   2.553e-08       0.001     1142  LS failed, Hessian reset \n",
      "     999       3966.38    0.00035177       423.816           1           1     1177   \n",
      "    Iter      log prob        ||dx||      ||grad||       alpha      alpha0  # evals  Notes \n",
      "    1099       3967.01   1.36823e-05       119.547      0.5434      0.5434     1289   \n",
      "    Iter      log prob        ||dx||      ||grad||       alpha      alpha0  # evals  Notes \n",
      "    1191       3967.13   4.50135e-06       131.899    2.81e-08       0.001     1446  LS failed, Hessian reset \n",
      "    1199       3967.14   3.79184e-05       117.704      0.9548      0.9548     1455   \n",
      "    Iter      log prob        ||dx||      ||grad||       alpha      alpha0  # evals  Notes \n",
      "    1299       3967.18   1.38898e-06       73.1028      0.3705           1     1588   \n",
      "    Iter      log prob        ||dx||      ||grad||       alpha      alpha0  # evals  Notes \n",
      "    1307       3967.18    3.0144e-07       54.9742      0.2633       0.919     1599   \n",
      "Optimization terminated normally: \n",
      "  Convergence detected: relative gradient magnitude is below tolerance\n"
     ]
    }
   ],
   "source": [
    "df_test = predictFuture(df_pivot, 'Finland_KaggleMart_Kaggle Hat')"
   ]
  },
  {
   "cell_type": "code",
   "execution_count": 89,
   "id": "31cab3cc",
   "metadata": {
    "nterop": {
     "id": "77"
    }
   },
   "outputs": [
    {
     "data": {
      "text/html": [
       "<div>\n",
       "<style scoped>\n",
       "    .dataframe tbody tr th:only-of-type {\n",
       "        vertical-align: middle;\n",
       "    }\n",
       "\n",
       "    .dataframe tbody tr th {\n",
       "        vertical-align: top;\n",
       "    }\n",
       "\n",
       "    .dataframe thead th {\n",
       "        text-align: right;\n",
       "    }\n",
       "</style>\n",
       "<table border=\"1\" class=\"dataframe\">\n",
       "  <thead>\n",
       "    <tr style=\"text-align: right;\">\n",
       "      <th></th>\n",
       "      <th>ds</th>\n",
       "      <th>y</th>\n",
       "      <th>date</th>\n",
       "      <th>Finland_KaggleMart_Kaggle Mug</th>\n",
       "      <th>Finland_KaggleMart_Kaggle Sticker</th>\n",
       "      <th>Finland_KaggleRama_Kaggle Hat</th>\n",
       "      <th>Finland_KaggleRama_Kaggle Mug</th>\n",
       "      <th>Finland_KaggleRama_Kaggle Sticker</th>\n",
       "      <th>Norway_KaggleMart_Kaggle Hat</th>\n",
       "      <th>Norway_KaggleMart_Kaggle Mug</th>\n",
       "      <th>Norway_KaggleMart_Kaggle Sticker</th>\n",
       "      <th>Norway_KaggleRama_Kaggle Hat</th>\n",
       "      <th>Norway_KaggleRama_Kaggle Mug</th>\n",
       "      <th>Norway_KaggleRama_Kaggle Sticker</th>\n",
       "      <th>Sweden_KaggleMart_Kaggle Hat</th>\n",
       "      <th>Sweden_KaggleMart_Kaggle Mug</th>\n",
       "      <th>Sweden_KaggleMart_Kaggle Sticker</th>\n",
       "      <th>Sweden_KaggleRama_Kaggle Hat</th>\n",
       "      <th>Sweden_KaggleRama_Kaggle Mug</th>\n",
       "      <th>Sweden_KaggleRama_Kaggle Sticker</th>\n",
       "    </tr>\n",
       "  </thead>\n",
       "  <tbody>\n",
       "    <tr>\n",
       "      <th>0</th>\n",
       "      <td>2015-01-01</td>\n",
       "      <td>520</td>\n",
       "      <td>2015-01-01</td>\n",
       "      <td>329</td>\n",
       "      <td>146</td>\n",
       "      <td>911</td>\n",
       "      <td>572</td>\n",
       "      <td>283</td>\n",
       "      <td>906</td>\n",
       "      <td>526</td>\n",
       "      <td>250</td>\n",
       "      <td>1461</td>\n",
       "      <td>1005</td>\n",
       "      <td>395</td>\n",
       "      <td>624</td>\n",
       "      <td>440</td>\n",
       "      <td>175</td>\n",
       "      <td>1195</td>\n",
       "      <td>706</td>\n",
       "      <td>324</td>\n",
       "    </tr>\n",
       "    <tr>\n",
       "      <th>1</th>\n",
       "      <td>2015-01-02</td>\n",
       "      <td>493</td>\n",
       "      <td>2015-01-02</td>\n",
       "      <td>318</td>\n",
       "      <td>127</td>\n",
       "      <td>794</td>\n",
       "      <td>544</td>\n",
       "      <td>249</td>\n",
       "      <td>845</td>\n",
       "      <td>538</td>\n",
       "      <td>237</td>\n",
       "      <td>1446</td>\n",
       "      <td>949</td>\n",
       "      <td>415</td>\n",
       "      <td>572</td>\n",
       "      <td>384</td>\n",
       "      <td>155</td>\n",
       "      <td>986</td>\n",
       "      <td>653</td>\n",
       "      <td>293</td>\n",
       "    </tr>\n",
       "    <tr>\n",
       "      <th>2</th>\n",
       "      <td>2015-01-03</td>\n",
       "      <td>535</td>\n",
       "      <td>2015-01-03</td>\n",
       "      <td>360</td>\n",
       "      <td>141</td>\n",
       "      <td>843</td>\n",
       "      <td>579</td>\n",
       "      <td>265</td>\n",
       "      <td>930</td>\n",
       "      <td>614</td>\n",
       "      <td>254</td>\n",
       "      <td>1631</td>\n",
       "      <td>1029</td>\n",
       "      <td>451</td>\n",
       "      <td>630</td>\n",
       "      <td>420</td>\n",
       "      <td>173</td>\n",
       "      <td>1167</td>\n",
       "      <td>734</td>\n",
       "      <td>319</td>\n",
       "    </tr>\n",
       "    <tr>\n",
       "      <th>3</th>\n",
       "      <td>2015-01-04</td>\n",
       "      <td>544</td>\n",
       "      <td>2015-01-04</td>\n",
       "      <td>332</td>\n",
       "      <td>125</td>\n",
       "      <td>873</td>\n",
       "      <td>582</td>\n",
       "      <td>245</td>\n",
       "      <td>889</td>\n",
       "      <td>589</td>\n",
       "      <td>255</td>\n",
       "      <td>1540</td>\n",
       "      <td>957</td>\n",
       "      <td>455</td>\n",
       "      <td>697</td>\n",
       "      <td>406</td>\n",
       "      <td>169</td>\n",
       "      <td>1112</td>\n",
       "      <td>657</td>\n",
       "      <td>300</td>\n",
       "    </tr>\n",
       "    <tr>\n",
       "      <th>4</th>\n",
       "      <td>2015-01-05</td>\n",
       "      <td>378</td>\n",
       "      <td>2015-01-05</td>\n",
       "      <td>243</td>\n",
       "      <td>102</td>\n",
       "      <td>668</td>\n",
       "      <td>423</td>\n",
       "      <td>187</td>\n",
       "      <td>671</td>\n",
       "      <td>435</td>\n",
       "      <td>184</td>\n",
       "      <td>1126</td>\n",
       "      <td>739</td>\n",
       "      <td>310</td>\n",
       "      <td>442</td>\n",
       "      <td>298</td>\n",
       "      <td>127</td>\n",
       "      <td>796</td>\n",
       "      <td>512</td>\n",
       "      <td>227</td>\n",
       "    </tr>\n",
       "  </tbody>\n",
       "</table>\n",
       "</div>"
      ],
      "text/plain": [
       "           ds    y        date  Finland_KaggleMart_Kaggle Mug  \\\n",
       "0  2015-01-01  520  2015-01-01                            329   \n",
       "1  2015-01-02  493  2015-01-02                            318   \n",
       "2  2015-01-03  535  2015-01-03                            360   \n",
       "3  2015-01-04  544  2015-01-04                            332   \n",
       "4  2015-01-05  378  2015-01-05                            243   \n",
       "\n",
       "   Finland_KaggleMart_Kaggle Sticker  Finland_KaggleRama_Kaggle Hat  \\\n",
       "0                                146                            911   \n",
       "1                                127                            794   \n",
       "2                                141                            843   \n",
       "3                                125                            873   \n",
       "4                                102                            668   \n",
       "\n",
       "   Finland_KaggleRama_Kaggle Mug  Finland_KaggleRama_Kaggle Sticker  \\\n",
       "0                            572                                283   \n",
       "1                            544                                249   \n",
       "2                            579                                265   \n",
       "3                            582                                245   \n",
       "4                            423                                187   \n",
       "\n",
       "   Norway_KaggleMart_Kaggle Hat  Norway_KaggleMart_Kaggle Mug  \\\n",
       "0                           906                           526   \n",
       "1                           845                           538   \n",
       "2                           930                           614   \n",
       "3                           889                           589   \n",
       "4                           671                           435   \n",
       "\n",
       "   Norway_KaggleMart_Kaggle Sticker  Norway_KaggleRama_Kaggle Hat  \\\n",
       "0                               250                          1461   \n",
       "1                               237                          1446   \n",
       "2                               254                          1631   \n",
       "3                               255                          1540   \n",
       "4                               184                          1126   \n",
       "\n",
       "   Norway_KaggleRama_Kaggle Mug  Norway_KaggleRama_Kaggle Sticker  \\\n",
       "0                          1005                               395   \n",
       "1                           949                               415   \n",
       "2                          1029                               451   \n",
       "3                           957                               455   \n",
       "4                           739                               310   \n",
       "\n",
       "   Sweden_KaggleMart_Kaggle Hat  Sweden_KaggleMart_Kaggle Mug  \\\n",
       "0                           624                           440   \n",
       "1                           572                           384   \n",
       "2                           630                           420   \n",
       "3                           697                           406   \n",
       "4                           442                           298   \n",
       "\n",
       "   Sweden_KaggleMart_Kaggle Sticker  Sweden_KaggleRama_Kaggle Hat  \\\n",
       "0                               175                          1195   \n",
       "1                               155                           986   \n",
       "2                               173                          1167   \n",
       "3                               169                          1112   \n",
       "4                               127                           796   \n",
       "\n",
       "   Sweden_KaggleRama_Kaggle Mug  Sweden_KaggleRama_Kaggle Sticker  \n",
       "0                           706                               324  \n",
       "1                           653                               293  \n",
       "2                           734                               319  \n",
       "3                           657                               300  \n",
       "4                           512                               227  "
      ]
     },
     "execution_count": 89,
     "metadata": {
      "nterop": {
       "id": "78"
      }
     },
     "output_type": "execute_result"
    }
   ],
   "source": [
    "df_test.head()"
   ]
  },
  {
   "cell_type": "code",
   "execution_count": 85,
   "id": "d4a74a7e",
   "metadata": {
    "nterop": {
     "id": "79"
    }
   },
   "outputs": [
    {
     "data": {
      "text/plain": [
       "Index(['ds', 'y', 'date', 'Finland_KaggleMart_Kaggle Mug',\n",
       "       'Finland_KaggleMart_Kaggle Sticker', 'Finland_KaggleRama_Kaggle Hat',\n",
       "       'Finland_KaggleRama_Kaggle Mug', 'Finland_KaggleRama_Kaggle Sticker',\n",
       "       'Norway_KaggleMart_Kaggle Hat', 'Norway_KaggleMart_Kaggle Mug',\n",
       "       'Norway_KaggleMart_Kaggle Sticker', 'Norway_KaggleRama_Kaggle Hat',\n",
       "       'Norway_KaggleRama_Kaggle Mug', 'Norway_KaggleRama_Kaggle Sticker',\n",
       "       'Sweden_KaggleMart_Kaggle Hat', 'Sweden_KaggleMart_Kaggle Mug',\n",
       "       'Sweden_KaggleMart_Kaggle Sticker', 'Sweden_KaggleRama_Kaggle Hat',\n",
       "       'Sweden_KaggleRama_Kaggle Mug', 'Sweden_KaggleRama_Kaggle Sticker'],\n",
       "      dtype='object')"
      ]
     },
     "execution_count": 85,
     "metadata": {
      "nterop": {
       "id": "80"
      }
     },
     "output_type": "execute_result"
    }
   ],
   "source": [
    "df_test.columns"
   ]
  },
  {
   "cell_type": "code",
   "execution_count": null,
   "id": "9019e826",
   "metadata": {
    "nterop": {
     "id": "30"
    }
   },
   "outputs": [],
   "source": [
    "# The sales data are pretty much all in the same ball part, no scaling needed but need to preprocess encode the category still.\n",
    "def onehot_encode(df):\n",
    "    df_prep = pd.get_dummies(df, columns=['country', 'product', 'store'])\n",
    "    df_prep['"
   ]
  },
  {
   "cell_type": "code",
   "execution_count": null,
   "id": "e7b6b454",
   "metadata": {
    "nterop": {
     "id": "31"
    }
   },
   "outputs": [],
   "source": [
    "# For each series, we will use the other 17 sale data as feature. "
   ]
  }
 ],
 "metadata": {
  "hide_input": false,
  "kernelspec": {
   "display_name": "Python 3 (ipykernel)",
   "language": "python",
   "name": "python3"
  },
  "language_info": {
   "codemirror_mode": {
    "name": "ipython",
    "version": 3
   },
   "file_extension": ".py",
   "mimetype": "text/x-python",
   "name": "python",
   "nbconvert_exporter": "python",
   "pygments_lexer": "ipython3",
   "version": "3.7.12"
  },
  "nterop": {
   "seedId": "80"
  },
  "toc": {
   "base_numbering": 1,
   "nav_menu": {},
   "number_sections": true,
   "sideBar": true,
   "skip_h1_title": false,
   "title_cell": "Table of Contents",
   "title_sidebar": "Contents",
   "toc_cell": false,
   "toc_position": {},
   "toc_section_display": true,
   "toc_window_display": false
  }
 },
 "nbformat": 4,
 "nbformat_minor": 5
}
